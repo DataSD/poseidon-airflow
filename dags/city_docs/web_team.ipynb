{
 "cells": [
  {
   "cell_type": "code",
   "execution_count": 1,
   "metadata": {},
   "outputs": [],
   "source": [
    "import pandas as pd"
   ]
  },
  {
   "cell_type": "code",
   "execution_count": null,
   "metadata": {},
   "outputs": [],
   "source": [
    "df=pd.read_excel(\"web.xlsx\")"
   ]
  },
  {
   "cell_type": "code",
   "execution_count": null,
   "metadata": {},
   "outputs": [],
   "source": [
    "print(\"There are {} tables in the DataBase\".format(len(df)))\n",
    "df.head()"
   ]
  },
  {
   "cell_type": "code",
   "execution_count": null,
   "metadata": {},
   "outputs": [],
   "source": [
    "df.frequency.unique()"
   ]
  },
  {
   "cell_type": "code",
   "execution_count": null,
   "metadata": {},
   "outputs": [],
   "source": [
    "df.view_name.nunique()"
   ]
  },
  {
   "cell_type": "code",
   "execution_count": null,
   "metadata": {},
   "outputs": [],
   "source": [
    "df.view_name.duplicated()"
   ]
  },
  {
   "cell_type": "code",
   "execution_count": null,
   "metadata": {},
   "outputs": [],
   "source": [
    "# Name of Tables with 24 hours frequency\n",
    "df_24 = df[df['frequency']==24].view_name.tolist()\n",
    "df_24"
   ]
  },
  {
   "cell_type": "code",
   "execution_count": null,
   "metadata": {},
   "outputs": [],
   "source": [
    "# Name of Tables with anything except 24 hours frequency\n",
    "df_others = df[df['frequency']!=24].view_name.tolist()\n",
    "df_others"
   ]
  },
  {
   "cell_type": "code",
   "execution_count": null,
   "metadata": {},
   "outputs": [],
   "source": [
    "!pwd"
   ]
  },
  {
   "cell_type": "code",
   "execution_count": null,
   "metadata": {},
   "outputs": [],
   "source": [
    "%cd Code/sd_airflow/poseidon/poseidon/dags/city_docs/sql/documentum/schedule_24"
   ]
  },
  {
   "cell_type": "code",
   "execution_count": null,
   "metadata": {},
   "outputs": [],
   "source": [
    "# Create .sql file and write a sql query \n",
    "for file in df_24:\n",
    "    f= open(\"{}.sql\".format(file.lower()),\"w+\")\n",
    "    f.write(\"SELECT * FROM SCSLEGIS.dbo.{};\".format(file))\n",
    "    f.close()"
   ]
  },
  {
   "cell_type": "code",
   "execution_count": null,
   "metadata": {},
   "outputs": [],
   "source": [
    "% cd ../schedule_others"
   ]
  },
  {
   "cell_type": "code",
   "execution_count": null,
   "metadata": {},
   "outputs": [],
   "source": [
    "for file in df_others:\n",
    "    f= open(\"{}.sql\".format(file.lower()),\"w+\")\n",
    "    f.write(\"SELECT * FROM SCSLEGIS.dbo.{};\".format(file))\n",
    "    f.close()"
   ]
  },
  {
   "cell_type": "code",
   "execution_count": 3,
   "metadata": {},
   "outputs": [],
   "source": [
    "import os"
   ]
  },
  {
   "cell_type": "code",
   "execution_count": 4,
   "metadata": {},
   "outputs": [],
   "source": [
    "files = [f for f in os.listdir('../../../data/prod')]"
   ]
  },
  {
   "cell_type": "code",
   "execution_count": 5,
   "metadata": {},
   "outputs": [
    {
     "data": {
      "text/plain": [
       "['documentum_scs_reportstocouncil_attatch_v.csv',\n",
       " 'financial_support_2017_datasd.csv',\n",
       " 'treas_meters_2018_pole_by_mo_day_datasd.csv',\n",
       " 'onbase_council_minutes.csv',\n",
       " 'documentum_scs_ccagenda_eds_v.csv',\n",
       " 'get_it_done_2018_requests_datasd.csv',\n",
       " 'sd_businesses_names_datasd.csv',\n",
       " 'documentum_scs_ccaction_sglu_v.csv',\n",
       " 'onbase_council_dockets.csv',\n",
       " 'operating_budget_FY18_datasd.csv',\n",
       " 'documentum_scs_ccaction_eds_v.csv',\n",
       " 'budget_reference_accounts_datasd.csv',\n",
       " 'budget_reference_depts_datasd.csv',\n",
       " 'treas_meters_2018_pole_by_month_datasd.csv',\n",
       " '.DS_Store',\n",
       " 'documentum_scs_municode_supp_v.csv',\n",
       " 'get_it_done_72_hour_violation_requests_datasd.csv',\n",
       " 'documentum_scs_councildockets_attach_v.csv',\n",
       " 'capital_budget_ptd_FY19_datasd.csv',\n",
       " 'documentum_council_results.csv',\n",
       " 'documentum_scs_ccagenda_enviro_v.csv',\n",
       " 'get_it_done_graffiti_removal_requests_datasd.csv',\n",
       " 'documentum_scs_speakerslips_v.csv',\n",
       " 'sd_businesses_pre2000_datasd.csv',\n",
       " 'treas_meters_2017_pole_by_mo_day_datasd.csv',\n",
       " 'documentum_council_dockminresults_all.csv',\n",
       " 'pd_cfs_priority_defs_datasd.pdf',\n",
       " 'bids_datasd.geojson',\n",
       " 'sonar_payload.json',\n",
       " 'documentum_scs_ccagenda_psns_v.csv',\n",
       " 'all_business',\n",
       " 'documentum_scs_ccagenda_budgetfinance_v.csv',\n",
       " 'documentum_scs_ccaction_edir_v.csv',\n",
       " 'documentum_scs_ccagenda_psln_v.csv',\n",
       " 'get_it_done_pothole_requests_datasd.csv',\n",
       " 'financial_support_2018_datasd.csv',\n",
       " 'documentum_scs_ccaction_budgetfinance_v.csv',\n",
       " 'documentum_scs_councilpolicies_v.csv',\n",
       " 'sire_council_results.csv',\n",
       " 'documentum_scs_memooflaw_v.csv',\n",
       " 'documentum_scs_municode_v.csv',\n",
       " 'documentum_scs_ccaction_fire_v.csv',\n",
       " 'documentum_scs_council_reso_ordinance_v.csv',\n",
       " 'sidewalk_cond_datasd.csv',\n",
       " 'fd_incidents_2018_datasd.csv',\n",
       " 'get_it_done_2016_requests_datasd.csv',\n",
       " 'schedule_others',\n",
       " 'get_it_done_2017_requests_datasd.csv',\n",
       " 'documentum_scs_redevelagency_agendas_v.csv',\n",
       " 'documentum_scs_cityattorneyreports_v.csv',\n",
       " 'schedule_24',\n",
       " 'README.md',\n",
       " 'documentum_scs_ccaction_bge_v.csv',\n",
       " 'treas_parking_payments_2018_datasd.csv',\n",
       " 'documentum_scs_ccagenda_bge_v.csv',\n",
       " 'sire_council_dockets.csv',\n",
       " 'documentum_scs_reportstocouncil_v.csv',\n",
       " 'capital_budget_ptd_FY18_datasd.csv',\n",
       " 'documentum_scs_ccaction_enviro_v.csv',\n",
       " 'budget_reference_projects_datasd.csv',\n",
       " 'treas_meters_2017_pole_by_month_datasd.csv',\n",
       " 'sd_businesses_2000to2009_datasd.csv',\n",
       " 'get_it_done_illegal_dumping_requests_datasd.csv',\n",
       " 'documentum_scs_ccaction_psns_v.csv',\n",
       " 'documentum_scs_ccaction_geo_v.csv',\n",
       " 'documentum_scs_ccagenda_edir_v.csv',\n",
       " 'council_districts_datasd.geojson',\n",
       " 'sire_council_minutes.csv',\n",
       " 'documentum_legal_opinions.csv',\n",
       " 'documentum_scs_ccaction_psln_v.csv',\n",
       " 'documentum_scs_ccagenda_geo_v.csv',\n",
       " 'documentum_scs_ccagenda_rules_ogir_v.csv',\n",
       " 'ttcs_address_book.csv',\n",
       " 'documentum_scs_citybulletin_publicnot_v.csv',\n",
       " 'sd_businesses_pre90_datasd.csv',\n",
       " 'documentum_scs_ccagenda_fire_v.csv',\n",
       " 'public_art_locations_datasd.csv',\n",
       " 'sd_businesses_since10_datasd.csv',\n",
       " 'documentum_scs_agency_reso_ordinance_v.csv',\n",
       " 'sd_active_businesses_datasd.csv',\n",
       " 'sd_businesses_00to09_datasd.csv',\n",
       " 'sd_businesses_2010tocurrent_datasd.csv',\n",
       " 'documentum_city_charter.csv',\n",
       " 'operating_budget_FY19_datasd.csv',\n",
       " 'documentum_scs_ccaction_charterrev_v.csv',\n",
       " 'budget_reference_funds_datasd.csv',\n",
       " 'documentum_council_minutes.csv',\n",
       " 'documentum_scs_ccaction_rules_ogir_v.csv',\n",
       " 'sd_businesses_addresses_datasd.csv',\n",
       " 'documentum_scs_redevelagency_reports_v.csv',\n",
       " 'documentum_scs_ccagenda_audit_v.csv',\n",
       " 'documentum_scs_ccagenda_nrc_v.csv',\n",
       " 'documentum_scs_municode_history_v.csv',\n",
       " 'treas_parking_payments_2017_datasd.csv',\n",
       " 'documentum_council_dockets.csv',\n",
       " 'documentum_scs_ccaction_nrc_v.csv',\n",
       " 'documentum_scs_ccaction_infra_v.csv',\n",
       " 'documentum_scs_ccagenda_sglu_v.csv',\n",
       " 'documentum_scs_redevelagency_minutes_v.csv',\n",
       " 'sd_businesses_90to99_datasd.csv',\n",
       " 'documentum_scs_ccaction_audit_v.csv',\n",
       " 'documentum_scs_ccagenda_infra_v.csv',\n",
       " 'documentum_scs_ccagenda_charterrev_v.csv',\n",
       " 'documentum_scs_ccaction_luh_v.csv',\n",
       " 'onbase_council_results.csv',\n",
       " 'documentum_scs_councilcommagendas_att_v.csv',\n",
       " 'documentum_scs_ccagenda_luh_v.csv',\n",
       " 'budget']"
      ]
     },
     "execution_count": 5,
     "metadata": {},
     "output_type": "execute_result"
    }
   ],
   "source": [
    "files"
   ]
  },
  {
   "cell_type": "code",
   "execution_count": 6,
   "metadata": {},
   "outputs": [],
   "source": [
    "import documentum_name as dn"
   ]
  },
  {
   "cell_type": "code",
   "execution_count": 7,
   "metadata": {},
   "outputs": [],
   "source": [
    "tables_other = dn.table_name('schedule_24')"
   ]
  },
  {
   "cell_type": "code",
   "execution_count": 12,
   "metadata": {},
   "outputs": [
    {
     "data": {
      "text/plain": [
       "['COUNCIL_DOCKETS',\n",
       " 'COUNCIL_MINUTES',\n",
       " 'COUNCIL_RESULTS',\n",
       " 'COUNCIL_DOCKMINRESULTS_ALL',\n",
       " 'CITY_CHARTER',\n",
       " 'SCS_CCACTION_CHARTERREV_V',\n",
       " 'SCS_CCAGENDA_CHARTERREV_V',\n",
       " 'SCS_CCACTION_BUDGETFINANCE_V',\n",
       " 'SCS_CCACTION_FIRE_V',\n",
       " 'SCS_CCACTION_GEO_V',\n",
       " 'SCS_CCACTION_LUH_V',\n",
       " 'SCS_CCACTION_NRC_V',\n",
       " 'SCS_CCACTION_PSNS_V',\n",
       " 'SCS_CCAGENDA_BUDGETFINANCE_V',\n",
       " 'SCS_CCAGENDA_EDS_V',\n",
       " 'SCS_CCAGENDA_FIRE_V',\n",
       " 'SCS_CCAGENDA_GEO_V',\n",
       " 'SCS_CCAGENDA_LUH_V',\n",
       " 'SCS_CCAGENDA_NRC_V',\n",
       " 'SCS_CCAGENDA_PSNS_V',\n",
       " 'SCS_REDEVELAGENCY_AGENDAS_V',\n",
       " 'SCS_REDEVELAGENCY_REPORTS_V',\n",
       " 'SCS_REDEVELAGENCY_MINUTES_V',\n",
       " 'SCS_COUNCILDOCKETS_ATTACH_V']"
      ]
     },
     "execution_count": 12,
     "metadata": {},
     "output_type": "execute_result"
    }
   ],
   "source": [
    "tables_other"
   ]
  },
  {
   "cell_type": "code",
   "execution_count": 18,
   "metadata": {},
   "outputs": [
    {
     "name": "stdout",
     "output_type": "stream",
     "text": [
      "documentum_scs_ccagenda_eds_v\n",
      "documentum_scs_councildockets_attach_v\n",
      "documentum_council_results\n",
      "documentum_council_dockminresults_all\n",
      "documentum_scs_ccagenda_psns_v\n",
      "documentum_scs_ccagenda_budgetfinance_v\n",
      "documentum_scs_ccaction_budgetfinance_v\n",
      "documentum_scs_ccaction_fire_v\n",
      "documentum_scs_redevelagency_agendas_v\n",
      "documentum_scs_ccaction_psns_v\n",
      "documentum_scs_ccaction_geo_v\n",
      "documentum_scs_ccagenda_geo_v\n",
      "documentum_scs_ccagenda_fire_v\n",
      "documentum_city_charter\n",
      "documentum_scs_ccaction_charterrev_v\n",
      "documentum_council_minutes\n",
      "documentum_scs_redevelagency_reports_v\n",
      "documentum_scs_ccagenda_nrc_v\n",
      "documentum_council_dockets\n",
      "documentum_scs_ccaction_nrc_v\n",
      "documentum_scs_redevelagency_minutes_v\n",
      "documentum_scs_ccagenda_charterrev_v\n",
      "documentum_scs_ccaction_luh_v\n",
      "documentum_scs_ccagenda_luh_v\n"
     ]
    }
   ],
   "source": [
    "for f in files:\n",
    "    file_name = f.split('.')[0]\n",
    "    name_parts = file_name.split('_')\n",
    "    if name_parts[0] == \"documentum\":\n",
    "        file_check = '_'.join(name_parts[1:]).upper()\n",
    "        if file_check in tables_other:\n",
    "            print(file_name)"
   ]
  },
  {
   "cell_type": "code",
   "execution_count": null,
   "metadata": {},
   "outputs": [],
   "source": []
  }
 ],
 "metadata": {
  "kernelspec": {
   "display_name": "Python 3",
   "language": "python",
   "name": "python3"
  },
  "language_info": {
   "codemirror_mode": {
    "name": "ipython",
    "version": 3
   },
   "file_extension": ".py",
   "mimetype": "text/x-python",
   "name": "python",
   "nbconvert_exporter": "python",
   "pygments_lexer": "ipython3",
   "version": "3.6.4"
  },
  "toc": {
   "base_numbering": 1,
   "nav_menu": {},
   "number_sections": true,
   "sideBar": true,
   "skip_h1_title": false,
   "title_cell": "Table of Contents",
   "title_sidebar": "Contents",
   "toc_cell": false,
   "toc_position": {},
   "toc_section_display": true,
   "toc_window_display": false
  }
 },
 "nbformat": 4,
 "nbformat_minor": 2
}
