{
 "cells": [
  {
   "cell_type": "code",
   "execution_count": 14,
   "metadata": {
    "collapsed": true
   },
   "outputs": [],
   "source": [
    "import pandas as pd"
   ]
  },
  {
   "cell_type": "code",
   "execution_count": 15,
   "metadata": {
    "collapsed": false
   },
   "outputs": [],
   "source": [
    "df = pd.read_csv('fac.csv')"
   ]
  },
  {
   "cell_type": "code",
   "execution_count": 16,
   "metadata": {
    "collapsed": true
   },
   "outputs": [],
   "source": [
    "df['building_desc'] = df['building_desc'].astype(str)"
   ]
  },
  {
   "cell_type": "code",
   "execution_count": 17,
   "metadata": {
    "collapsed": false
   },
   "outputs": [],
   "source": [
    "df['desc_site'] = ''\n",
    "df['desc_substructure'] = ''\n",
    "df['desc_shell'] = ''\n",
    "df['desc_interior_construction'] = ''\n",
    "df['desc_interior_finishes'] = ''\n",
    "df['desc_plumbing'] = ''\n",
    "df['desc_mechanical'] = ''\n",
    "df['desc_life_safety'] = ''\n",
    "df['desc_electrical'] = ''\n",
    "df['desc_accessibility'] = ''\n",
    "df['desc_solar_energy'] = ''"
   ]
  },
  {
   "cell_type": "code",
   "execution_count": 18,
   "metadata": {
    "collapsed": false
   },
   "outputs": [],
   "source": [
    "for index, row in df.iterrows():\n",
    "    desc = row['building_desc']\n",
    "    desc = desc.split('\\n\\n')\n",
    "    for i in desc:\n",
    "        i = i.replace('\\n','')\n",
    "        if 'Site:' in i:\n",
    "            df.set_value(index,'desc_site',i)\n",
    "        elif 'Substructure:' in i:\n",
    "            df.set_value(index,'desc_substructure',i)\n",
    "        elif 'Shell:' in i:\n",
    "            df.set_value(index,'desc_shell',i)\n",
    "        elif 'Interior Construction:' in i:\n",
    "            df.set_value(index,'desc_interior_construction',i)\n",
    "        elif 'Interior Finishes:' in i:\n",
    "            df.set_value(index,'desc_interior_finishes',i)\n",
    "        elif 'Plumbing:' in i:\n",
    "            df.set_value(index,'desc_plumbing',i)\n",
    "        elif 'Mechanical:' in i:\n",
    "            df.set_value(index,'desc_mechanical',i)\n",
    "        elif 'Life Safety:' in i:\n",
    "            df.set_value(index,'desc_life_safety',i)\n",
    "        elif 'Electrical:' in i:\n",
    "            df.set_value(index,'desc_electrical',i)\n",
    "        elif 'Accessibility:' in i:\n",
    "            df.set_value(index,'desc_accessibility',i)\n",
    "        elif 'Solar Energy Assessment:' in i:\n",
    "            df.set_value(index,'desc_solar_energy',i)\n",
    "            \n",
    "    desc_full = row['building_desc'].replace('\\n\\n',' ')\n",
    "    desc_full = desc_full.replace('\\n', '')\n",
    "    df.set_value(index,'building_desc',desc_full)"
   ]
  },
  {
   "cell_type": "code",
   "execution_count": 19,
   "metadata": {
    "collapsed": false
   },
   "outputs": [
    {
     "data": {
      "text/plain": [
       "Index(['campus_attributes_id', 'campus_guid', 'accessibility_survey', 'active',\n",
       "       'address_1', 'address_2', 'age', 'asset_function', 'asset_type',\n",
       "       'building_desc', 'building_name', 'building_number', 'campus_name',\n",
       "       'category', 'city', 'community_area_name', 'council_district_name',\n",
       "       'dept_name', 'function', 'gross_sq_ft', 'inspection_fy',\n",
       "       'last_renovation_fy', 'lattitude', 'longitude', 'solar_survey', 'zip',\n",
       "       'solar_energy_feasible', 'yr_build', 'flag_color', 'asset_group',\n",
       "       'service_level', 'survey_year', 'condition', 'fci', 'capital_req',\n",
       "       'maintenance_req', 'total_req', 'desc_site', 'desc_substructure',\n",
       "       'desc_shell', 'desc_interior_construction', 'desc_interior_finishes',\n",
       "       'desc_plumbing', 'desc_mechanical', 'desc_life_safety',\n",
       "       'desc_electrical', 'desc_accessibility', 'desc_solar_energy'],\n",
       "      dtype='object')"
      ]
     },
     "execution_count": 19,
     "metadata": {},
     "output_type": "execute_result"
    }
   ],
   "source": [
    "df.columns"
   ]
  },
  {
   "cell_type": "code",
   "execution_count": 20,
   "metadata": {
    "collapsed": false
   },
   "outputs": [],
   "source": [
    "output_df = df[['campus_guid',\n",
    "                'campus_name',\n",
    "                'building_name',\n",
    "                'building_number',\n",
    "                'address_1',\n",
    "                'address_2',\n",
    "                'zip',\n",
    "                'community_area_name',\n",
    "                'council_district_name',\n",
    "                'lattitude',\n",
    "                'longitude',\n",
    "                'survey_year',\n",
    "                'condition',\n",
    "                'fci',\n",
    "                'capital_req',\n",
    "                'maintenance_req',\n",
    "                'total_req',\n",
    "                'age',\n",
    "                'yr_build',\n",
    "                'asset_type',\n",
    "                'asset_group',\n",
    "                'service_level',\n",
    "                'category',\n",
    "                'dept_name',\n",
    "                'function',\n",
    "                'gross_sq_ft',\n",
    "                'inspection_fy',\n",
    "                'last_renovation_fy',\n",
    "                'solar_survey',\n",
    "                'solar_energy_feasible',\n",
    "                'accessibility_survey',\n",
    "                'desc_site',\n",
    "                'desc_substructure',\n",
    "                'desc_shell',\n",
    "                'desc_interior_construction',\n",
    "                'desc_interior_finishes',\n",
    "                'desc_plumbing',\n",
    "                'desc_accessibility',\n",
    "                'desc_solar_energy',\n",
    "                'building_desc'\n",
    "               ]]"
   ]
  },
  {
   "cell_type": "code",
   "execution_count": 21,
   "metadata": {
    "collapsed": false
   },
   "outputs": [],
   "source": [
    "output_df.columns = ['campus_guid',\n",
    "                'campus_name',\n",
    "                'building_name',\n",
    "                'building_number',\n",
    "                'address_1',\n",
    "                'address_2',\n",
    "                'zip',\n",
    "                'community_area',\n",
    "                'council_district',\n",
    "                'latitude',\n",
    "                'longitude',\n",
    "                'forecast_year',\n",
    "                'condition',\n",
    "                'fci',\n",
    "                'capital_req',\n",
    "                'maintenance_req',\n",
    "                'total_req',\n",
    "                'age',\n",
    "                'yr_build',\n",
    "                'asset_type',\n",
    "                'asset_group',\n",
    "                'service_level',\n",
    "                'building_category',\n",
    "                'department_name',\n",
    "                'building_function',\n",
    "                'gross_sq_ft',\n",
    "                'inspection_fy',\n",
    "                'last_renovation_yr',\n",
    "                'solar_survey',\n",
    "                'solar_energy_feasible',\n",
    "                'accessibility_survey',\n",
    "                'desc_site',\n",
    "                'desc_substructure',\n",
    "                'desc_shell',\n",
    "                'desc_interior_construction',\n",
    "                'desc_interior_finishes',\n",
    "                'desc_plumbing',\n",
    "                'desc_accessibility',\n",
    "                'desc_solar_energy',\n",
    "                'desc_full'\n",
    "               ]"
   ]
  },
  {
   "cell_type": "code",
   "execution_count": 22,
   "metadata": {
    "collapsed": false
   },
   "outputs": [],
   "source": [
    "output_df.to_csv('facilities_assessment_datasd.csv',index=False,encoding='utf-8')"
   ]
  },
  {
   "cell_type": "code",
   "execution_count": null,
   "metadata": {
    "collapsed": true
   },
   "outputs": [],
   "source": []
  }
 ],
 "metadata": {
  "kernelspec": {
   "display_name": "Python 3",
   "language": "python",
   "name": "python3"
  },
  "language_info": {
   "codemirror_mode": {
    "name": "ipython",
    "version": 3
   },
   "file_extension": ".py",
   "mimetype": "text/x-python",
   "name": "python",
   "nbconvert_exporter": "python",
   "pygments_lexer": "ipython3",
   "version": "3.5.1"
  }
 },
 "nbformat": 4,
 "nbformat_minor": 0
}
