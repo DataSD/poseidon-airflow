{
 "cells": [
  {
   "cell_type": "code",
   "execution_count": 1,
   "metadata": {},
   "outputs": [],
   "source": [
    "import pandas as pd\n",
    "import glob\n",
    "path_prefix = \"../../../../data/temp/parking_meters/\""
   ]
  },
  {
   "cell_type": "code",
   "execution_count": 2,
   "metadata": {},
   "outputs": [],
   "source": [
    "files = glob.glob(path_prefix + \"/SanDiegoData_201810*.csv\")\n"
   ]
  },
  {
   "cell_type": "code",
   "execution_count": 3,
   "metadata": {},
   "outputs": [
    {
     "data": {
      "text/html": [
       "<div>\n",
       "<style scoped>\n",
       "    .dataframe tbody tr th:only-of-type {\n",
       "        vertical-align: middle;\n",
       "    }\n",
       "\n",
       "    .dataframe tbody tr th {\n",
       "        vertical-align: top;\n",
       "    }\n",
       "\n",
       "    .dataframe thead th {\n",
       "        text-align: right;\n",
       "    }\n",
       "</style>\n",
       "<table border=\"1\" class=\"dataframe\">\n",
       "  <thead>\n",
       "    <tr style=\"text-align: right;\">\n",
       "      <th></th>\n",
       "      <th>MeterType</th>\n",
       "      <th>PoleSerNo</th>\n",
       "      <th>StartDateTime</th>\n",
       "      <th>ExpiryTime</th>\n",
       "      <th>Amount</th>\n",
       "      <th>TransactionType</th>\n",
       "      <th>CardNumber</th>\n",
       "    </tr>\n",
       "  </thead>\n",
       "  <tbody>\n",
       "    <tr>\n",
       "      <th>0</th>\n",
       "      <td>SS</td>\n",
       "      <td>5-1817</td>\n",
       "      <td>2018-10-01 07:04:42</td>\n",
       "      <td>2018-10-01 08:14:24</td>\n",
       "      <td>0.30</td>\n",
       "      <td>Cash</td>\n",
       "      <td>NaN</td>\n",
       "    </tr>\n",
       "    <tr>\n",
       "      <th>1</th>\n",
       "      <td>SS</td>\n",
       "      <td>WD-500</td>\n",
       "      <td>2018-10-01 08:05:03</td>\n",
       "      <td>2018-10-01 08:53:03</td>\n",
       "      <td>1.00</td>\n",
       "      <td>Cash</td>\n",
       "      <td>NaN</td>\n",
       "    </tr>\n",
       "    <tr>\n",
       "      <th>2</th>\n",
       "      <td>SS</td>\n",
       "      <td>WD-500</td>\n",
       "      <td>2018-10-01 08:05:20</td>\n",
       "      <td>2018-10-01 10:05:03</td>\n",
       "      <td>1.50</td>\n",
       "      <td>Cash</td>\n",
       "      <td>NaN</td>\n",
       "    </tr>\n",
       "    <tr>\n",
       "      <th>3</th>\n",
       "      <td>SS</td>\n",
       "      <td>9-1208</td>\n",
       "      <td>2018-10-01 08:43:23</td>\n",
       "      <td>2018-10-01 10:07:23</td>\n",
       "      <td>1.75</td>\n",
       "      <td>Cash</td>\n",
       "      <td>NaN</td>\n",
       "    </tr>\n",
       "    <tr>\n",
       "      <th>4</th>\n",
       "      <td>SS</td>\n",
       "      <td>9-1208</td>\n",
       "      <td>2018-10-01 08:44:34</td>\n",
       "      <td>2018-10-01 10:21:47</td>\n",
       "      <td>0.30</td>\n",
       "      <td>Cash</td>\n",
       "      <td>NaN</td>\n",
       "    </tr>\n",
       "  </tbody>\n",
       "</table>\n",
       "</div>"
      ],
      "text/plain": [
       "  MeterType PoleSerNo       StartDateTime          ExpiryTime  Amount  \\\n",
       "0        SS    5-1817 2018-10-01 07:04:42 2018-10-01 08:14:24    0.30   \n",
       "1        SS    WD-500 2018-10-01 08:05:03 2018-10-01 08:53:03    1.00   \n",
       "2        SS    WD-500 2018-10-01 08:05:20 2018-10-01 10:05:03    1.50   \n",
       "3        SS    9-1208 2018-10-01 08:43:23 2018-10-01 10:07:23    1.75   \n",
       "4        SS    9-1208 2018-10-01 08:44:34 2018-10-01 10:21:47    0.30   \n",
       "\n",
       "  TransactionType  CardNumber  \n",
       "0            Cash         NaN  \n",
       "1            Cash         NaN  \n",
       "2            Cash         NaN  \n",
       "3            Cash         NaN  \n",
       "4            Cash         NaN  "
      ]
     },
     "execution_count": 3,
     "metadata": {},
     "output_type": "execute_result"
    }
   ],
   "source": [
    "frame2 = pd.DataFrame()\n",
    "list_ = []\n",
    "for file_ in files:\n",
    "    df = pd.read_csv(file_,header=0, parse_dates=['StartDateTime', 'ExpiryTime'], infer_datetime_format=True)\n",
    "    list_.append(df)\n",
    "frame2 = pd.concat(list_, ignore_index=True)\n",
    "\n",
    "frame2.head()"
   ]
  },
  {
   "cell_type": "code",
   "execution_count": 4,
   "metadata": {},
   "outputs": [
    {
     "data": {
      "text/html": [
       "<div>\n",
       "<style scoped>\n",
       "    .dataframe tbody tr th:only-of-type {\n",
       "        vertical-align: middle;\n",
       "    }\n",
       "\n",
       "    .dataframe tbody tr th {\n",
       "        vertical-align: top;\n",
       "    }\n",
       "\n",
       "    .dataframe thead th {\n",
       "        text-align: right;\n",
       "    }\n",
       "</style>\n",
       "<table border=\"1\" class=\"dataframe\">\n",
       "  <thead>\n",
       "    <tr style=\"text-align: right;\">\n",
       "      <th></th>\n",
       "      <th>meter_type</th>\n",
       "      <th>pole_id</th>\n",
       "      <th>trans_amt</th>\n",
       "      <th>pay_method</th>\n",
       "      <th>trans_start</th>\n",
       "      <th>meter_expire</th>\n",
       "    </tr>\n",
       "  </thead>\n",
       "  <tbody>\n",
       "    <tr>\n",
       "      <th>0</th>\n",
       "      <td>SS</td>\n",
       "      <td>5-1817</td>\n",
       "      <td>0.30</td>\n",
       "      <td>Cash</td>\n",
       "      <td>2018-10-01 07:04:42</td>\n",
       "      <td>2018-10-01 08:14:24</td>\n",
       "    </tr>\n",
       "    <tr>\n",
       "      <th>1</th>\n",
       "      <td>SS</td>\n",
       "      <td>WD-500</td>\n",
       "      <td>1.00</td>\n",
       "      <td>Cash</td>\n",
       "      <td>2018-10-01 08:05:03</td>\n",
       "      <td>2018-10-01 08:53:03</td>\n",
       "    </tr>\n",
       "    <tr>\n",
       "      <th>2</th>\n",
       "      <td>SS</td>\n",
       "      <td>WD-500</td>\n",
       "      <td>1.50</td>\n",
       "      <td>Cash</td>\n",
       "      <td>2018-10-01 08:05:20</td>\n",
       "      <td>2018-10-01 10:05:03</td>\n",
       "    </tr>\n",
       "    <tr>\n",
       "      <th>3</th>\n",
       "      <td>SS</td>\n",
       "      <td>9-1208</td>\n",
       "      <td>1.75</td>\n",
       "      <td>Cash</td>\n",
       "      <td>2018-10-01 08:43:23</td>\n",
       "      <td>2018-10-01 10:07:23</td>\n",
       "    </tr>\n",
       "    <tr>\n",
       "      <th>4</th>\n",
       "      <td>SS</td>\n",
       "      <td>9-1208</td>\n",
       "      <td>0.30</td>\n",
       "      <td>Cash</td>\n",
       "      <td>2018-10-01 08:44:34</td>\n",
       "      <td>2018-10-01 10:21:47</td>\n",
       "    </tr>\n",
       "  </tbody>\n",
       "</table>\n",
       "</div>"
      ],
      "text/plain": [
       "  meter_type pole_id  trans_amt pay_method         trans_start  \\\n",
       "0         SS  5-1817       0.30       Cash 2018-10-01 07:04:42   \n",
       "1         SS  WD-500       1.00       Cash 2018-10-01 08:05:03   \n",
       "2         SS  WD-500       1.50       Cash 2018-10-01 08:05:20   \n",
       "3         SS  9-1208       1.75       Cash 2018-10-01 08:43:23   \n",
       "4         SS  9-1208       0.30       Cash 2018-10-01 08:44:34   \n",
       "\n",
       "         meter_expire  \n",
       "0 2018-10-01 08:14:24  \n",
       "1 2018-10-01 08:53:03  \n",
       "2 2018-10-01 10:05:03  \n",
       "3 2018-10-01 10:07:23  \n",
       "4 2018-10-01 10:21:47  "
      ]
     },
     "execution_count": 4,
     "metadata": {},
     "output_type": "execute_result"
    }
   ],
   "source": [
    "update = frame2[['MeterType','PoleSerNo', 'Amount', 'TransactionType', 'StartDateTime', 'ExpiryTime']]\n",
    "update = update.rename(columns = {\n",
    "    'MeterType':'meter_type',\n",
    "    'StartDateTime':'trans_start',\n",
    "    'ExpiryTime':'meter_expire',\n",
    "    'Amount':'trans_amt',\n",
    "    'TransactionType':'pay_method',\n",
    "    'StartDateTime':'trans_start',\n",
    "    'PoleSerNo':'pole_id'\n",
    "})\n",
    "\n",
    "update.head()"
   ]
  },
  {
   "cell_type": "code",
   "execution_count": 5,
   "metadata": {},
   "outputs": [
    {
     "data": {
      "text/html": [
       "<div>\n",
       "<style scoped>\n",
       "    .dataframe tbody tr th:only-of-type {\n",
       "        vertical-align: middle;\n",
       "    }\n",
       "\n",
       "    .dataframe tbody tr th {\n",
       "        vertical-align: top;\n",
       "    }\n",
       "\n",
       "    .dataframe thead th {\n",
       "        text-align: right;\n",
       "    }\n",
       "</style>\n",
       "<table border=\"1\" class=\"dataframe\">\n",
       "  <thead>\n",
       "    <tr style=\"text-align: right;\">\n",
       "      <th></th>\n",
       "      <th>meter_type</th>\n",
       "      <th>pole_id</th>\n",
       "      <th>trans_amt</th>\n",
       "      <th>pay_method</th>\n",
       "      <th>trans_start</th>\n",
       "      <th>meter_expire</th>\n",
       "    </tr>\n",
       "  </thead>\n",
       "  <tbody>\n",
       "    <tr>\n",
       "      <th>0</th>\n",
       "      <td>SS</td>\n",
       "      <td>5-1817</td>\n",
       "      <td>30</td>\n",
       "      <td>CASH</td>\n",
       "      <td>2018-10-01 07:04:42</td>\n",
       "      <td>2018-10-01 08:14:24</td>\n",
       "    </tr>\n",
       "    <tr>\n",
       "      <th>1</th>\n",
       "      <td>SS</td>\n",
       "      <td>WD-500</td>\n",
       "      <td>100</td>\n",
       "      <td>CASH</td>\n",
       "      <td>2018-10-01 08:05:03</td>\n",
       "      <td>2018-10-01 08:53:03</td>\n",
       "    </tr>\n",
       "    <tr>\n",
       "      <th>2</th>\n",
       "      <td>SS</td>\n",
       "      <td>WD-500</td>\n",
       "      <td>150</td>\n",
       "      <td>CASH</td>\n",
       "      <td>2018-10-01 08:05:20</td>\n",
       "      <td>2018-10-01 10:05:03</td>\n",
       "    </tr>\n",
       "    <tr>\n",
       "      <th>3</th>\n",
       "      <td>SS</td>\n",
       "      <td>9-1208</td>\n",
       "      <td>175</td>\n",
       "      <td>CASH</td>\n",
       "      <td>2018-10-01 08:43:23</td>\n",
       "      <td>2018-10-01 10:07:23</td>\n",
       "    </tr>\n",
       "    <tr>\n",
       "      <th>4</th>\n",
       "      <td>SS</td>\n",
       "      <td>9-1208</td>\n",
       "      <td>30</td>\n",
       "      <td>CASH</td>\n",
       "      <td>2018-10-01 08:44:34</td>\n",
       "      <td>2018-10-01 10:21:47</td>\n",
       "    </tr>\n",
       "  </tbody>\n",
       "</table>\n",
       "</div>"
      ],
      "text/plain": [
       "  meter_type pole_id  trans_amt pay_method         trans_start  \\\n",
       "0         SS  5-1817         30       CASH 2018-10-01 07:04:42   \n",
       "1         SS  WD-500        100       CASH 2018-10-01 08:05:03   \n",
       "2         SS  WD-500        150       CASH 2018-10-01 08:05:20   \n",
       "3         SS  9-1208        175       CASH 2018-10-01 08:43:23   \n",
       "4         SS  9-1208         30       CASH 2018-10-01 08:44:34   \n",
       "\n",
       "         meter_expire  \n",
       "0 2018-10-01 08:14:24  \n",
       "1 2018-10-01 08:53:03  \n",
       "2 2018-10-01 10:05:03  \n",
       "3 2018-10-01 10:07:23  \n",
       "4 2018-10-01 10:21:47  "
      ]
     },
     "execution_count": 5,
     "metadata": {},
     "output_type": "execute_result"
    }
   ],
   "source": [
    "update['trans_amt'] = update['trans_amt'] * 100\n",
    "update['trans_amt'] = update['trans_amt'].astype(int)\n",
    "update.meter_type = update.meter_type.str.upper()\n",
    "update.pole_id = update.pole_id.str.upper()\n",
    "update.pay_method = update.pay_method.str.upper()\n",
    "update.meter_type = update.meter_type.str.extract('(SS|MS)', expand=False)\n",
    "update.head()"
   ]
  },
  {
   "cell_type": "code",
   "execution_count": 6,
   "metadata": {},
   "outputs": [],
   "source": [
    "# Construct a unique id:\n",
    "update['uuid'] = update.meter_type.str.cat(update.pole_id, sep=\"\")\\\n",
    "        .str.cat(update.trans_start.dt.strftime('%y%m%d%H%M%S'), sep=\"\")\\\n",
    "        .str.cat(update.trans_amt.astype(str), sep=\"\")\\\n",
    "        .str.replace(\"-\", \"\")\n"
   ]
  },
  {
   "cell_type": "code",
   "execution_count": 7,
   "metadata": {},
   "outputs": [
    {
     "data": {
      "text/html": [
       "<div>\n",
       "<style scoped>\n",
       "    .dataframe tbody tr th:only-of-type {\n",
       "        vertical-align: middle;\n",
       "    }\n",
       "\n",
       "    .dataframe tbody tr th {\n",
       "        vertical-align: top;\n",
       "    }\n",
       "\n",
       "    .dataframe thead th {\n",
       "        text-align: right;\n",
       "    }\n",
       "</style>\n",
       "<table border=\"1\" class=\"dataframe\">\n",
       "  <thead>\n",
       "    <tr style=\"text-align: right;\">\n",
       "      <th></th>\n",
       "      <th>meter_type</th>\n",
       "      <th>pole_id</th>\n",
       "      <th>trans_amt</th>\n",
       "      <th>pay_method</th>\n",
       "      <th>trans_start</th>\n",
       "      <th>meter_expire</th>\n",
       "      <th>uuid</th>\n",
       "    </tr>\n",
       "  </thead>\n",
       "  <tbody>\n",
       "    <tr>\n",
       "      <th>0</th>\n",
       "      <td>SS</td>\n",
       "      <td>5-1817</td>\n",
       "      <td>30</td>\n",
       "      <td>CASH</td>\n",
       "      <td>2018-10-01 07:04:42</td>\n",
       "      <td>2018-10-01 08:14:24</td>\n",
       "      <td>SS5181718100107044230</td>\n",
       "    </tr>\n",
       "    <tr>\n",
       "      <th>1</th>\n",
       "      <td>SS</td>\n",
       "      <td>WD-500</td>\n",
       "      <td>100</td>\n",
       "      <td>CASH</td>\n",
       "      <td>2018-10-01 08:05:03</td>\n",
       "      <td>2018-10-01 08:53:03</td>\n",
       "      <td>SSWD500181001080503100</td>\n",
       "    </tr>\n",
       "    <tr>\n",
       "      <th>2</th>\n",
       "      <td>SS</td>\n",
       "      <td>WD-500</td>\n",
       "      <td>150</td>\n",
       "      <td>CASH</td>\n",
       "      <td>2018-10-01 08:05:20</td>\n",
       "      <td>2018-10-01 10:05:03</td>\n",
       "      <td>SSWD500181001080520150</td>\n",
       "    </tr>\n",
       "    <tr>\n",
       "      <th>3</th>\n",
       "      <td>SS</td>\n",
       "      <td>9-1208</td>\n",
       "      <td>175</td>\n",
       "      <td>CASH</td>\n",
       "      <td>2018-10-01 08:43:23</td>\n",
       "      <td>2018-10-01 10:07:23</td>\n",
       "      <td>SS91208181001084323175</td>\n",
       "    </tr>\n",
       "    <tr>\n",
       "      <th>4</th>\n",
       "      <td>SS</td>\n",
       "      <td>9-1208</td>\n",
       "      <td>30</td>\n",
       "      <td>CASH</td>\n",
       "      <td>2018-10-01 08:44:34</td>\n",
       "      <td>2018-10-01 10:21:47</td>\n",
       "      <td>SS9120818100108443430</td>\n",
       "    </tr>\n",
       "  </tbody>\n",
       "</table>\n",
       "</div>"
      ],
      "text/plain": [
       "  meter_type pole_id  trans_amt pay_method         trans_start  \\\n",
       "0         SS  5-1817         30       CASH 2018-10-01 07:04:42   \n",
       "1         SS  WD-500        100       CASH 2018-10-01 08:05:03   \n",
       "2         SS  WD-500        150       CASH 2018-10-01 08:05:20   \n",
       "3         SS  9-1208        175       CASH 2018-10-01 08:43:23   \n",
       "4         SS  9-1208         30       CASH 2018-10-01 08:44:34   \n",
       "\n",
       "         meter_expire                    uuid  \n",
       "0 2018-10-01 08:14:24   SS5181718100107044230  \n",
       "1 2018-10-01 08:53:03  SSWD500181001080503100  \n",
       "2 2018-10-01 10:05:03  SSWD500181001080520150  \n",
       "3 2018-10-01 10:07:23  SS91208181001084323175  \n",
       "4 2018-10-01 10:21:47   SS9120818100108443430  "
      ]
     },
     "execution_count": 7,
     "metadata": {},
     "output_type": "execute_result"
    }
   ],
   "source": [
    "update.head()"
   ]
  },
  {
   "cell_type": "code",
   "execution_count": 8,
   "metadata": {},
   "outputs": [
    {
     "data": {
      "text/html": [
       "<div>\n",
       "<style scoped>\n",
       "    .dataframe tbody tr th:only-of-type {\n",
       "        vertical-align: middle;\n",
       "    }\n",
       "\n",
       "    .dataframe tbody tr th {\n",
       "        vertical-align: top;\n",
       "    }\n",
       "\n",
       "    .dataframe thead th {\n",
       "        text-align: right;\n",
       "    }\n",
       "</style>\n",
       "<table border=\"1\" class=\"dataframe\">\n",
       "  <thead>\n",
       "    <tr style=\"text-align: right;\">\n",
       "      <th></th>\n",
       "      <th>uuid</th>\n",
       "      <th>meter_type</th>\n",
       "      <th>pole_id</th>\n",
       "      <th>trans_amt</th>\n",
       "      <th>pay_method</th>\n",
       "      <th>trans_start</th>\n",
       "      <th>meter_expire</th>\n",
       "    </tr>\n",
       "  </thead>\n",
       "  <tbody>\n",
       "    <tr>\n",
       "      <th>0</th>\n",
       "      <td>SS5181718100107044230</td>\n",
       "      <td>SS</td>\n",
       "      <td>5-1817</td>\n",
       "      <td>30</td>\n",
       "      <td>CASH</td>\n",
       "      <td>2018-10-01 07:04:42</td>\n",
       "      <td>2018-10-01 08:14:24</td>\n",
       "    </tr>\n",
       "    <tr>\n",
       "      <th>1</th>\n",
       "      <td>SSWD500181001080503100</td>\n",
       "      <td>SS</td>\n",
       "      <td>WD-500</td>\n",
       "      <td>100</td>\n",
       "      <td>CASH</td>\n",
       "      <td>2018-10-01 08:05:03</td>\n",
       "      <td>2018-10-01 08:53:03</td>\n",
       "    </tr>\n",
       "    <tr>\n",
       "      <th>2</th>\n",
       "      <td>SSWD500181001080520150</td>\n",
       "      <td>SS</td>\n",
       "      <td>WD-500</td>\n",
       "      <td>150</td>\n",
       "      <td>CASH</td>\n",
       "      <td>2018-10-01 08:05:20</td>\n",
       "      <td>2018-10-01 10:05:03</td>\n",
       "    </tr>\n",
       "    <tr>\n",
       "      <th>3</th>\n",
       "      <td>SS91208181001084323175</td>\n",
       "      <td>SS</td>\n",
       "      <td>9-1208</td>\n",
       "      <td>175</td>\n",
       "      <td>CASH</td>\n",
       "      <td>2018-10-01 08:43:23</td>\n",
       "      <td>2018-10-01 10:07:23</td>\n",
       "    </tr>\n",
       "    <tr>\n",
       "      <th>4</th>\n",
       "      <td>SS9120818100108443430</td>\n",
       "      <td>SS</td>\n",
       "      <td>9-1208</td>\n",
       "      <td>30</td>\n",
       "      <td>CASH</td>\n",
       "      <td>2018-10-01 08:44:34</td>\n",
       "      <td>2018-10-01 10:21:47</td>\n",
       "    </tr>\n",
       "  </tbody>\n",
       "</table>\n",
       "</div>"
      ],
      "text/plain": [
       "                     uuid meter_type pole_id  trans_amt pay_method  \\\n",
       "0   SS5181718100107044230         SS  5-1817         30       CASH   \n",
       "1  SSWD500181001080503100         SS  WD-500        100       CASH   \n",
       "2  SSWD500181001080520150         SS  WD-500        150       CASH   \n",
       "3  SS91208181001084323175         SS  9-1208        175       CASH   \n",
       "4   SS9120818100108443430         SS  9-1208         30       CASH   \n",
       "\n",
       "          trans_start        meter_expire  \n",
       "0 2018-10-01 07:04:42 2018-10-01 08:14:24  \n",
       "1 2018-10-01 08:05:03 2018-10-01 08:53:03  \n",
       "2 2018-10-01 08:05:20 2018-10-01 10:05:03  \n",
       "3 2018-10-01 08:43:23 2018-10-01 10:07:23  \n",
       "4 2018-10-01 08:44:34 2018-10-01 10:21:47  "
      ]
     },
     "execution_count": 8,
     "metadata": {},
     "output_type": "execute_result"
    }
   ],
   "source": [
    "# Rearrange column order\n",
    "cols = update.columns.tolist()\n",
    "# Set last column as first\n",
    "cols = cols[-1:] + cols[:-1]\n",
    "update = update[cols]\n",
    "update.head()"
   ]
  },
  {
   "cell_type": "code",
   "execution_count": 9,
   "metadata": {},
   "outputs": [
    {
     "data": {
      "text/html": [
       "<div>\n",
       "<style scoped>\n",
       "    .dataframe tbody tr th:only-of-type {\n",
       "        vertical-align: middle;\n",
       "    }\n",
       "\n",
       "    .dataframe tbody tr th {\n",
       "        vertical-align: top;\n",
       "    }\n",
       "\n",
       "    .dataframe thead th {\n",
       "        text-align: right;\n",
       "    }\n",
       "</style>\n",
       "<table border=\"1\" class=\"dataframe\">\n",
       "  <thead>\n",
       "    <tr style=\"text-align: right;\">\n",
       "      <th></th>\n",
       "      <th>uuid</th>\n",
       "      <th>meter_type</th>\n",
       "      <th>pole_id</th>\n",
       "      <th>trans_amt</th>\n",
       "      <th>pay_method</th>\n",
       "      <th>trans_start</th>\n",
       "      <th>meter_expire</th>\n",
       "    </tr>\n",
       "  </thead>\n",
       "  <tbody>\n",
       "    <tr>\n",
       "      <th>0</th>\n",
       "      <td>SSJ50718010100571650</td>\n",
       "      <td>SS</td>\n",
       "      <td>J-507</td>\n",
       "      <td>50</td>\n",
       "      <td>CASH</td>\n",
       "      <td>2018-01-01 00:57:16</td>\n",
       "      <td>2018-01-01 00:57:16</td>\n",
       "    </tr>\n",
       "    <tr>\n",
       "      <th>1</th>\n",
       "      <td>MS2400E118010101163925</td>\n",
       "      <td>MS</td>\n",
       "      <td>2-400E1</td>\n",
       "      <td>25</td>\n",
       "      <td>CASH</td>\n",
       "      <td>2018-01-01 01:16:39</td>\n",
       "      <td>2018-01-01 01:16:39</td>\n",
       "    </tr>\n",
       "    <tr>\n",
       "      <th>2</th>\n",
       "      <td>MS2400E118010101164225</td>\n",
       "      <td>MS</td>\n",
       "      <td>2-400E1</td>\n",
       "      <td>25</td>\n",
       "      <td>CASH</td>\n",
       "      <td>2018-01-01 01:16:42</td>\n",
       "      <td>2018-01-01 01:16:42</td>\n",
       "    </tr>\n",
       "    <tr>\n",
       "      <th>3</th>\n",
       "      <td>SSG40018010101274125</td>\n",
       "      <td>SS</td>\n",
       "      <td>G-400</td>\n",
       "      <td>25</td>\n",
       "      <td>CASH</td>\n",
       "      <td>2018-01-01 01:27:41</td>\n",
       "      <td>2018-01-01 01:27:41</td>\n",
       "    </tr>\n",
       "    <tr>\n",
       "      <th>4</th>\n",
       "      <td>SSFI4151801010137505</td>\n",
       "      <td>SS</td>\n",
       "      <td>FI-415</td>\n",
       "      <td>5</td>\n",
       "      <td>CASH</td>\n",
       "      <td>2018-01-01 01:37:50</td>\n",
       "      <td>2018-01-01 01:37:50</td>\n",
       "    </tr>\n",
       "  </tbody>\n",
       "</table>\n",
       "</div>"
      ],
      "text/plain": [
       "                     uuid meter_type  pole_id  trans_amt pay_method  \\\n",
       "0    SSJ50718010100571650         SS    J-507         50       CASH   \n",
       "1  MS2400E118010101163925         MS  2-400E1         25       CASH   \n",
       "2  MS2400E118010101164225         MS  2-400E1         25       CASH   \n",
       "3    SSG40018010101274125         SS    G-400         25       CASH   \n",
       "4    SSFI4151801010137505         SS   FI-415          5       CASH   \n",
       "\n",
       "           trans_start         meter_expire  \n",
       "0  2018-01-01 00:57:16  2018-01-01 00:57:16  \n",
       "1  2018-01-01 01:16:39  2018-01-01 01:16:39  \n",
       "2  2018-01-01 01:16:42  2018-01-01 01:16:42  \n",
       "3  2018-01-01 01:27:41  2018-01-01 01:27:41  \n",
       "4  2018-01-01 01:37:50  2018-01-01 01:37:50  "
      ]
     },
     "execution_count": 9,
     "metadata": {},
     "output_type": "execute_result"
    }
   ],
   "source": [
    "portal = pd.read_csv('../../../../data/prod/treas_parking_payments_2018_datasd.csv')\n",
    "\n",
    "portal.head()"
   ]
  },
  {
   "cell_type": "code",
   "execution_count": 18,
   "metadata": {},
   "outputs": [
    {
     "data": {
      "text/html": [
       "<div>\n",
       "<style scoped>\n",
       "    .dataframe tbody tr th:only-of-type {\n",
       "        vertical-align: middle;\n",
       "    }\n",
       "\n",
       "    .dataframe tbody tr th {\n",
       "        vertical-align: top;\n",
       "    }\n",
       "\n",
       "    .dataframe thead th {\n",
       "        text-align: right;\n",
       "    }\n",
       "</style>\n",
       "<table border=\"1\" class=\"dataframe\">\n",
       "  <thead>\n",
       "    <tr style=\"text-align: right;\">\n",
       "      <th></th>\n",
       "      <th>uuid</th>\n",
       "      <th>meter_type</th>\n",
       "      <th>pole_id</th>\n",
       "      <th>trans_amt</th>\n",
       "      <th>pay_method</th>\n",
       "      <th>trans_start</th>\n",
       "      <th>meter_expire</th>\n",
       "    </tr>\n",
       "  </thead>\n",
       "  <tbody>\n",
       "    <tr>\n",
       "      <th>0</th>\n",
       "      <td>SSJ50718010100571650</td>\n",
       "      <td>SS</td>\n",
       "      <td>J-507</td>\n",
       "      <td>50</td>\n",
       "      <td>CASH</td>\n",
       "      <td>2018-01-01 00:57:16</td>\n",
       "      <td>2018-01-01 00:57:16</td>\n",
       "    </tr>\n",
       "    <tr>\n",
       "      <th>1</th>\n",
       "      <td>MS2400E118010101163925</td>\n",
       "      <td>MS</td>\n",
       "      <td>2-400E1</td>\n",
       "      <td>25</td>\n",
       "      <td>CASH</td>\n",
       "      <td>2018-01-01 01:16:39</td>\n",
       "      <td>2018-01-01 01:16:39</td>\n",
       "    </tr>\n",
       "    <tr>\n",
       "      <th>2</th>\n",
       "      <td>MS2400E118010101164225</td>\n",
       "      <td>MS</td>\n",
       "      <td>2-400E1</td>\n",
       "      <td>25</td>\n",
       "      <td>CASH</td>\n",
       "      <td>2018-01-01 01:16:42</td>\n",
       "      <td>2018-01-01 01:16:42</td>\n",
       "    </tr>\n",
       "    <tr>\n",
       "      <th>3</th>\n",
       "      <td>SSG40018010101274125</td>\n",
       "      <td>SS</td>\n",
       "      <td>G-400</td>\n",
       "      <td>25</td>\n",
       "      <td>CASH</td>\n",
       "      <td>2018-01-01 01:27:41</td>\n",
       "      <td>2018-01-01 01:27:41</td>\n",
       "    </tr>\n",
       "    <tr>\n",
       "      <th>4</th>\n",
       "      <td>SSFI4151801010137505</td>\n",
       "      <td>SS</td>\n",
       "      <td>FI-415</td>\n",
       "      <td>5</td>\n",
       "      <td>CASH</td>\n",
       "      <td>2018-01-01 01:37:50</td>\n",
       "      <td>2018-01-01 01:37:50</td>\n",
       "    </tr>\n",
       "  </tbody>\n",
       "</table>\n",
       "</div>"
      ],
      "text/plain": [
       "                     uuid meter_type  pole_id  trans_amt pay_method  \\\n",
       "0    SSJ50718010100571650         SS    J-507         50       CASH   \n",
       "1  MS2400E118010101163925         MS  2-400E1         25       CASH   \n",
       "2  MS2400E118010101164225         MS  2-400E1         25       CASH   \n",
       "3    SSG40018010101274125         SS    G-400         25       CASH   \n",
       "4    SSFI4151801010137505         SS   FI-415          5       CASH   \n",
       "\n",
       "           trans_start         meter_expire  \n",
       "0  2018-01-01 00:57:16  2018-01-01 00:57:16  \n",
       "1  2018-01-01 01:16:39  2018-01-01 01:16:39  \n",
       "2  2018-01-01 01:16:42  2018-01-01 01:16:42  \n",
       "3  2018-01-01 01:27:41  2018-01-01 01:27:41  \n",
       "4  2018-01-01 01:37:50  2018-01-01 01:37:50  "
      ]
     },
     "execution_count": 18,
     "metadata": {},
     "output_type": "execute_result"
    }
   ],
   "source": [
    "# Rearrange column order\n",
    "portal_cols = portal.columns.tolist()\n",
    "# Set last column as first\n",
    "portal_cols = portal_cols[-1:] + portal_cols[:-1]\n",
    "portal = portal[cols]\n",
    "portal.head()"
   ]
  },
  {
   "cell_type": "code",
   "execution_count": 10,
   "metadata": {},
   "outputs": [
    {
     "data": {
      "text/html": [
       "<div>\n",
       "<style scoped>\n",
       "    .dataframe tbody tr th:only-of-type {\n",
       "        vertical-align: middle;\n",
       "    }\n",
       "\n",
       "    .dataframe tbody tr th {\n",
       "        vertical-align: top;\n",
       "    }\n",
       "\n",
       "    .dataframe thead th {\n",
       "        text-align: right;\n",
       "    }\n",
       "</style>\n",
       "<table border=\"1\" class=\"dataframe\">\n",
       "  <thead>\n",
       "    <tr style=\"text-align: right;\">\n",
       "      <th></th>\n",
       "      <th>uuid</th>\n",
       "      <th>meter_type</th>\n",
       "      <th>pole_id</th>\n",
       "      <th>trans_amt</th>\n",
       "      <th>pay_method</th>\n",
       "      <th>trans_start</th>\n",
       "      <th>meter_expire</th>\n",
       "    </tr>\n",
       "  </thead>\n",
       "  <tbody>\n",
       "    <tr>\n",
       "      <th>0</th>\n",
       "      <td>SSJ50718010100571650</td>\n",
       "      <td>SS</td>\n",
       "      <td>J-507</td>\n",
       "      <td>50</td>\n",
       "      <td>CASH</td>\n",
       "      <td>2018-01-01 00:57:16</td>\n",
       "      <td>2018-01-01 00:57:16</td>\n",
       "    </tr>\n",
       "    <tr>\n",
       "      <th>1</th>\n",
       "      <td>MS2400E118010101163925</td>\n",
       "      <td>MS</td>\n",
       "      <td>2-400E1</td>\n",
       "      <td>25</td>\n",
       "      <td>CASH</td>\n",
       "      <td>2018-01-01 01:16:39</td>\n",
       "      <td>2018-01-01 01:16:39</td>\n",
       "    </tr>\n",
       "    <tr>\n",
       "      <th>2</th>\n",
       "      <td>MS2400E118010101164225</td>\n",
       "      <td>MS</td>\n",
       "      <td>2-400E1</td>\n",
       "      <td>25</td>\n",
       "      <td>CASH</td>\n",
       "      <td>2018-01-01 01:16:42</td>\n",
       "      <td>2018-01-01 01:16:42</td>\n",
       "    </tr>\n",
       "    <tr>\n",
       "      <th>3</th>\n",
       "      <td>SSG40018010101274125</td>\n",
       "      <td>SS</td>\n",
       "      <td>G-400</td>\n",
       "      <td>25</td>\n",
       "      <td>CASH</td>\n",
       "      <td>2018-01-01 01:27:41</td>\n",
       "      <td>2018-01-01 01:27:41</td>\n",
       "    </tr>\n",
       "    <tr>\n",
       "      <th>4</th>\n",
       "      <td>SSFI4151801010137505</td>\n",
       "      <td>SS</td>\n",
       "      <td>FI-415</td>\n",
       "      <td>5</td>\n",
       "      <td>CASH</td>\n",
       "      <td>2018-01-01 01:37:50</td>\n",
       "      <td>2018-01-01 01:37:50</td>\n",
       "    </tr>\n",
       "  </tbody>\n",
       "</table>\n",
       "</div>"
      ],
      "text/plain": [
       "                     uuid meter_type  pole_id  trans_amt pay_method  \\\n",
       "0    SSJ50718010100571650         SS    J-507         50       CASH   \n",
       "1  MS2400E118010101163925         MS  2-400E1         25       CASH   \n",
       "2  MS2400E118010101164225         MS  2-400E1         25       CASH   \n",
       "3    SSG40018010101274125         SS    G-400         25       CASH   \n",
       "4    SSFI4151801010137505         SS   FI-415          5       CASH   \n",
       "\n",
       "          trans_start        meter_expire  \n",
       "0 2018-01-01 00:57:16 2018-01-01 00:57:16  \n",
       "1 2018-01-01 01:16:39 2018-01-01 01:16:39  \n",
       "2 2018-01-01 01:16:42 2018-01-01 01:16:42  \n",
       "3 2018-01-01 01:27:41 2018-01-01 01:27:41  \n",
       "4 2018-01-01 01:37:50 2018-01-01 01:37:50  "
      ]
     },
     "execution_count": 10,
     "metadata": {},
     "output_type": "execute_result"
    }
   ],
   "source": [
    "portal['trans_start'] = pd.to_datetime(portal['trans_start'],  format=\"%Y-%m-%d %H:%M:%S\")\n",
    "portal['meter_expire'] = pd.to_datetime(portal['meter_expire'],  format=\"%Y-%m-%d %H:%M:%S\")\n",
    "portal.head()"
   ]
  },
  {
   "cell_type": "code",
   "execution_count": 11,
   "metadata": {},
   "outputs": [
    {
     "data": {
      "text/html": [
       "<div>\n",
       "<style scoped>\n",
       "    .dataframe tbody tr th:only-of-type {\n",
       "        vertical-align: middle;\n",
       "    }\n",
       "\n",
       "    .dataframe tbody tr th {\n",
       "        vertical-align: top;\n",
       "    }\n",
       "\n",
       "    .dataframe thead th {\n",
       "        text-align: right;\n",
       "    }\n",
       "</style>\n",
       "<table border=\"1\" class=\"dataframe\">\n",
       "  <thead>\n",
       "    <tr style=\"text-align: right;\">\n",
       "      <th></th>\n",
       "      <th>uuid</th>\n",
       "      <th>meter_type</th>\n",
       "      <th>pole_id</th>\n",
       "      <th>trans_amt</th>\n",
       "      <th>pay_method</th>\n",
       "      <th>trans_start</th>\n",
       "      <th>meter_expire</th>\n",
       "    </tr>\n",
       "  </thead>\n",
       "  <tbody>\n",
       "    <tr>\n",
       "      <th>0</th>\n",
       "      <td>SSJ50718010100571650</td>\n",
       "      <td>SS</td>\n",
       "      <td>J-507</td>\n",
       "      <td>50</td>\n",
       "      <td>CASH</td>\n",
       "      <td>2018-01-01 00:57:16</td>\n",
       "      <td>2018-01-01 00:57:16</td>\n",
       "    </tr>\n",
       "    <tr>\n",
       "      <th>1</th>\n",
       "      <td>MS2400E118010101163925</td>\n",
       "      <td>MS</td>\n",
       "      <td>2-400E1</td>\n",
       "      <td>25</td>\n",
       "      <td>CASH</td>\n",
       "      <td>2018-01-01 01:16:39</td>\n",
       "      <td>2018-01-01 01:16:39</td>\n",
       "    </tr>\n",
       "    <tr>\n",
       "      <th>2</th>\n",
       "      <td>MS2400E118010101164225</td>\n",
       "      <td>MS</td>\n",
       "      <td>2-400E1</td>\n",
       "      <td>25</td>\n",
       "      <td>CASH</td>\n",
       "      <td>2018-01-01 01:16:42</td>\n",
       "      <td>2018-01-01 01:16:42</td>\n",
       "    </tr>\n",
       "    <tr>\n",
       "      <th>3</th>\n",
       "      <td>SSG40018010101274125</td>\n",
       "      <td>SS</td>\n",
       "      <td>G-400</td>\n",
       "      <td>25</td>\n",
       "      <td>CASH</td>\n",
       "      <td>2018-01-01 01:27:41</td>\n",
       "      <td>2018-01-01 01:27:41</td>\n",
       "    </tr>\n",
       "    <tr>\n",
       "      <th>4</th>\n",
       "      <td>SSFI4151801010137505</td>\n",
       "      <td>SS</td>\n",
       "      <td>FI-415</td>\n",
       "      <td>5</td>\n",
       "      <td>CASH</td>\n",
       "      <td>2018-01-01 01:37:50</td>\n",
       "      <td>2018-01-01 01:37:50</td>\n",
       "    </tr>\n",
       "  </tbody>\n",
       "</table>\n",
       "</div>"
      ],
      "text/plain": [
       "                     uuid meter_type  pole_id  trans_amt pay_method  \\\n",
       "0    SSJ50718010100571650         SS    J-507         50       CASH   \n",
       "1  MS2400E118010101163925         MS  2-400E1         25       CASH   \n",
       "2  MS2400E118010101164225         MS  2-400E1         25       CASH   \n",
       "3    SSG40018010101274125         SS    G-400         25       CASH   \n",
       "4    SSFI4151801010137505         SS   FI-415          5       CASH   \n",
       "\n",
       "          trans_start        meter_expire  \n",
       "0 2018-01-01 00:57:16 2018-01-01 00:57:16  \n",
       "1 2018-01-01 01:16:39 2018-01-01 01:16:39  \n",
       "2 2018-01-01 01:16:42 2018-01-01 01:16:42  \n",
       "3 2018-01-01 01:27:41 2018-01-01 01:27:41  \n",
       "4 2018-01-01 01:37:50 2018-01-01 01:37:50  "
      ]
     },
     "execution_count": 11,
     "metadata": {},
     "output_type": "execute_result"
    }
   ],
   "source": [
    "portal_up = pd.concat([portal, update])\n",
    "portal_up = portal_up.sort_values(by='trans_start')\n",
    "portal_up.head()"
   ]
  },
  {
   "cell_type": "code",
   "execution_count": 12,
   "metadata": {},
   "outputs": [
    {
     "data": {
      "text/plain": [
       "(18, 7)"
      ]
     },
     "execution_count": 12,
     "metadata": {},
     "output_type": "execute_result"
    }
   ],
   "source": [
    "dupes = portal_up[portal_up.duplicated(['uuid'], keep=False)]\n",
    "dupes.shape"
   ]
  },
  {
   "cell_type": "code",
   "execution_count": 13,
   "metadata": {},
   "outputs": [
    {
     "data": {
      "text/plain": [
       "(7560646, 7)"
      ]
     },
     "execution_count": 13,
     "metadata": {},
     "output_type": "execute_result"
    }
   ],
   "source": [
    "portal_up.shape"
   ]
  },
  {
   "cell_type": "code",
   "execution_count": 14,
   "metadata": {},
   "outputs": [],
   "source": [
    "portal_up = portal_up.drop_duplicates('uuid', keep='last')"
   ]
  },
  {
   "cell_type": "code",
   "execution_count": 15,
   "metadata": {},
   "outputs": [],
   "source": [
    "portal_up_18 = portal_up[portal_up['trans_start'] >= '2018-01-01 00:00:00']"
   ]
  },
  {
   "cell_type": "code",
   "execution_count": 16,
   "metadata": {},
   "outputs": [
    {
     "data": {
      "text/plain": [
       "(7560637, 7)"
      ]
     },
     "execution_count": 16,
     "metadata": {},
     "output_type": "execute_result"
    }
   ],
   "source": [
    "portal_up_18.shape"
   ]
  },
  {
   "cell_type": "code",
   "execution_count": 17,
   "metadata": {},
   "outputs": [
    {
     "data": {
      "text/plain": [
       "Timestamp('2018-10-10 22:12:30')"
      ]
     },
     "execution_count": 17,
     "metadata": {},
     "output_type": "execute_result"
    }
   ],
   "source": [
    "portal_up_18['trans_start'].max()"
   ]
  },
  {
   "cell_type": "code",
   "execution_count": 18,
   "metadata": {},
   "outputs": [
    {
     "data": {
      "text/plain": [
       "Timestamp('2018-01-01 00:57:16')"
      ]
     },
     "execution_count": 18,
     "metadata": {},
     "output_type": "execute_result"
    }
   ],
   "source": [
    "portal_up_18['trans_start'].min()"
   ]
  },
  {
   "cell_type": "code",
   "execution_count": 19,
   "metadata": {},
   "outputs": [],
   "source": [
    "portal_up_18.to_csv('../../../../data/prod/treas_parking_payments_2018_datasd.csv', index=False, encoding='utf-8', doublequote=True, date_format=\"%Y-%m-%d %H:%M:%S\")"
   ]
  },
  {
   "cell_type": "code",
   "execution_count": 27,
   "metadata": {},
   "outputs": [],
   "source": [
    "portal2 = pd.read_csv('../../../../data/prod/treas_parking_payments_2018_datasd.csv')"
   ]
  },
  {
   "cell_type": "code",
   "execution_count": null,
   "metadata": {},
   "outputs": [],
   "source": []
  },
  {
   "cell_type": "code",
   "execution_count": 28,
   "metadata": {},
   "outputs": [
    {
     "data": {
      "text/plain": [
       "(6796605, 7)"
      ]
     },
     "execution_count": 28,
     "metadata": {},
     "output_type": "execute_result"
    }
   ],
   "source": [
    "portal2.shape"
   ]
  },
  {
   "cell_type": "code",
   "execution_count": 29,
   "metadata": {},
   "outputs": [],
   "source": [
    "portal2_up = portal2.drop_duplicates('uuid', keep='last')"
   ]
  },
  {
   "cell_type": "code",
   "execution_count": 30,
   "metadata": {},
   "outputs": [
    {
     "data": {
      "text/plain": [
       "(6796605, 7)"
      ]
     },
     "execution_count": 30,
     "metadata": {},
     "output_type": "execute_result"
    }
   ],
   "source": [
    "portal2_up.shape"
   ]
  },
  {
   "cell_type": "code",
   "execution_count": 31,
   "metadata": {},
   "outputs": [
    {
     "data": {
      "text/plain": [
       "'2018-09-11 19:58:53'"
      ]
     },
     "execution_count": 31,
     "metadata": {},
     "output_type": "execute_result"
    }
   ],
   "source": [
    "portal2_up['trans_start'].max()"
   ]
  },
  {
   "cell_type": "code",
   "execution_count": null,
   "metadata": {},
   "outputs": [],
   "source": []
  }
 ],
 "metadata": {
  "kernelspec": {
   "display_name": "Python 3",
   "language": "python",
   "name": "python3"
  },
  "language_info": {
   "codemirror_mode": {
    "name": "ipython",
    "version": 3
   },
   "file_extension": ".py",
   "mimetype": "text/x-python",
   "name": "python",
   "nbconvert_exporter": "python",
   "pygments_lexer": "ipython3",
   "version": "3.6.4"
  }
 },
 "nbformat": 4,
 "nbformat_minor": 1
}
