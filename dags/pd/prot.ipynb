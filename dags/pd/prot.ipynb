{
 "cells": [
  {
   "cell_type": "code",
   "execution_count": null,
   "metadata": {
    "collapsed": false
   },
   "outputs": [],
   "source": [
    "import string\n",
    "import os\n",
    "import glob\n",
    "import pandas as pd\n",
    "import numpy as np"
   ]
  },
  {
   "cell_type": "code",
   "execution_count": null,
   "metadata": {
    "collapsed": true
   },
   "outputs": [],
   "source": [
    "# Download daily reports from ftp to temp folder\n",
    "\n",
    "def get_cfs_data():\n",
    "    wget_str = \"wget -np --continue \" \\\n",
    "    + \"--user=$user \" \\\n",
    "    + \"--password=$passw \" \\\n",
    "    + \"--directory-prefix=$temp_dir \" \\\n",
    "    + \"ftp://ftp.sannet.gov/IN/SDPD/calls*\"\n",
    "    \n",
    "    tmpl = string.Template(wget_str)\n",
    "    command = tmpl.substitute(\n",
    "        user='anonymous'\n",
    "        passw='anonymous'\n",
    "        temp_dir='/data/temp/pd_cfs'\n",
    "    )\n",
    "    os.system(command)"
   ]
  },
  {
   "cell_type": "code",
   "execution_count": null,
   "metadata": {
    "collapsed": false
   },
   "outputs": [],
   "source": [
    "get_cfs_data()"
   ]
  },
  {
   "cell_type": "code",
   "execution_count": null,
   "metadata": {
    "collapsed": true
   },
   "outputs": [],
   "source": [
    "# Data processing\n",
    "\n",
    "def process_cfs_data():\n",
    "    \n",
    "    path = \"/data/temp/pd_cfs\"\n",
    "    allFiles = glob.glob(os.path.join(path,\"*.csv\"))\n",
    "    \n",
    "    np_array_list = []\n",
    "    \n",
    "    for file_ in allFiles:\n",
    "        df = pd.read_csv(file_, header=None, error_bad_lines=False)\n",
    "        np_array_list.append(df.as_matrix())\n",
    "        \n",
    "    comb_np_array = np.vstack(np_array_list)\n",
    "    \n",
    "    temp_frame = pd.DataFrame(comb_np_array)\n",
    "    curr_frame = pd.read_csv('/data/prod/pd_calls_for_service_2016_datasd.csv')\n",
    "    \n",
    "    columns_names = current.columns.values\n",
    "    temp_frame.columns = columns_names\n",
    "    \n",
    "    prod_frame = curr_frame.append(temp_frame, ignore_index=True)\n",
    "    prod_frame = prod_frame.drop_duplicates(subset=['incident_num'])\n",
    "    \n",
    "    prod_frame['date_time'] = pd.to_datetime(prod_frame['date_time'])\n",
    "    prod_frame['day'] = prod_frame['day'].astype(int)\n",
    "    prod_frame['stno'] = prod_frame['stno'].astype(int)\n",
    "    prod_frame['beat'] = pd.to_numeric(prod_frame['beat'], errors='coerce')\n",
    "    prod_frame['priority'] = pd.to_numeric(prod_frame['priority'],errors='coerce')\n",
    "    \n",
    "    prod_frame.to_csv('/data/prod/pd_calls_for_service_2016_datasd.csv', index=False, encoding='utf-8')"
   ]
  },
  {
   "cell_type": "code",
   "execution_count": null,
   "metadata": {
    "collapsed": true
   },
   "outputs": [],
   "source": [
    "process_cfs_data()"
   ]
  }
 ],
 "metadata": {
  "kernelspec": {
   "display_name": "Python 2",
   "language": "python",
   "name": "python2"
  },
  "language_info": {
   "codemirror_mode": {
    "name": "ipython",
    "version": 2
   },
   "file_extension": ".py",
   "mimetype": "text/x-python",
   "name": "python",
   "nbconvert_exporter": "python",
   "pygments_lexer": "ipython2",
   "version": "2.7.9"
  }
 },
 "nbformat": 4,
 "nbformat_minor": 1
}
