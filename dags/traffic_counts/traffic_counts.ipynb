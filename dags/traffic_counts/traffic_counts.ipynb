{
 "cells": [
  {
   "cell_type": "code",
   "execution_count": 3,
   "metadata": {},
   "outputs": [
    {
     "ename": "ModuleNotFoundError",
     "evalue": "No module named 'Code'",
     "output_type": "error",
     "traceback": [
      "\u001b[0;31m---------------------------------------------------------------------------\u001b[0m",
      "\u001b[0;31mModuleNotFoundError\u001b[0m                       Traceback (most recent call last)",
      "\u001b[0;32m<ipython-input-3-456b7eceb3c0>\u001b[0m in \u001b[0;36m<module>\u001b[0;34m()\u001b[0m\n\u001b[1;32m      3\u001b[0m \u001b[0;32mimport\u001b[0m \u001b[0mlogging\u001b[0m\u001b[0;34m\u001b[0m\u001b[0m\n\u001b[1;32m      4\u001b[0m \u001b[0;32mfrom\u001b[0m \u001b[0msubprocess\u001b[0m \u001b[0;32mimport\u001b[0m \u001b[0mPopen\u001b[0m\u001b[0;34m,\u001b[0m \u001b[0mPIPE\u001b[0m\u001b[0;34m\u001b[0m\u001b[0m\n\u001b[0;32m----> 5\u001b[0;31m \u001b[0;32mfrom\u001b[0m \u001b[0mCode\u001b[0m\u001b[0;34m.\u001b[0m\u001b[0msd_airflow\u001b[0m\u001b[0;34m.\u001b[0m\u001b[0mposeidon\u001b[0m\u001b[0;34m.\u001b[0m\u001b[0mutil\u001b[0m \u001b[0;32mimport\u001b[0m \u001b[0mgeneral\u001b[0m\u001b[0;34m\u001b[0m\u001b[0m\n\u001b[0m",
      "\u001b[0;31mModuleNotFoundError\u001b[0m: No module named 'Code'"
     ]
    }
   ],
   "source": [
    "\"\"\"Traffic counts _jobs file.\"\"\"\n",
    "import pandas as pd\n",
    "import logging\n",
    "from subprocess import Popen, PIPE\n",
    "from poseidon.util import general"
   ]
  },
  {
   "cell_type": "code",
   "execution_count": 4,
   "metadata": {},
   "outputs": [
    {
     "name": "stdout",
     "output_type": "stream",
     "text": [
      "/Users/apple/Code/sd_airflow/poseidon/poseidon/dags/traffic_counts\r\n"
     ]
    }
   ],
   "source": [
    "!pwd"
   ]
  },
  {
   "cell_type": "code",
   "execution_count": null,
   "metadata": {},
   "outputs": [],
   "source": [
    "conf = general.config\n",
    "fy = general.get_FY_year()\n",
    "\n",
    "\n",
    "def get_traffic_counts(out_fname='traffic_counts_file'):\n",
    "    \"\"\"Get traffic counts file from shared drive.\"\"\"\n",
    "    logging.info('Retrieving data for current FY.')\n",
    "    command = \"smbclient //ad.sannet.gov/dfs \" \\\n",
    "        + \"--user={adname}%{adpass} -W ad -c \" \\\n",
    "        + \"'cd \\\"TSW-TEO-Shared/TEO/\" \\\n",
    "        + \"TEO-Transportation-Systems-and-Safety-Programs/\" \\\n",
    "        + \"TEO-Traffic Data Gathering Services/{fy}/RECORD FINDER\\\";\" \\\n",
    "        + \" ls; get Machine_Count_Index.xlsx {temp_dir}/{out_f}.xlsx;'\"\n",
    "\n",
    "    command = command.format(adname=conf['mrm_sannet_user'],\n",
    "                             adpass=conf['mrm_sannet_pass'],\n",
    "                             fy=fy,\n",
    "                             temp_dir=conf['temp_data_dir'],\n",
    "                             out_f=out_fname)\n",
    "\n",
    "    p = Popen(command, shell=True, stdout=PIPE, stderr=PIPE)\n",
    "    output, error = p.communicate()\n",
    "    if p.returncode != 0:\n",
    "        logging.info(fy + ' folder does not exist.')\n",
    "\n",
    "        logging.info('Retieving data for previous FY.')\n",
    "        fy1 = general.get_prev_FY_year()\n",
    "\n",
    "        command = \"smbclient //ad.sannet.gov/dfs \" \\\n",
    "            + \"--user={adname}%{adpass} -W ad -c \" \\\n",
    "            + \"'cd \\\"TSW-TEO-Shared/TEO/\" \\\n",
    "            + \"TEO-Transportation-Systems-and-Safety-Programs/\" \\\n",
    "            + \"TEO-Traffic Data Gathering Services/{fy}/RECORD FINDER\\\";\" \\\n",
    "            + \" ls; get Machine_Count_Index.xlsx {temp_dir}/{out_f}.xlsx;'\"\n",
    "\n",
    "        command = command.format(adname=conf['mrm_sannet_user'],\n",
    "                                 adpass=conf['mrm_sannet_pass'],\n",
    "                                 fy=fy1,\n",
    "                                 temp_dir=conf['temp_data_dir'],\n",
    "                                 out_f=out_fname)\n",
    "        p = Popen(command, shell=True, stdout=PIPE, stderr=PIPE)\n",
    "        output, error = p.communicate()\n",
    "        if p.returncode != 0:\n",
    "            logging.info(fy1 + ' data does not exist.')\n",
    "            # print fy1 + ' data does not exist.'\n",
    "            return 'Task failed.'\n",
    "\n",
    "        else:\n",
    "            return 'Successfully retrieved ' + fy1 + ' data.'\n",
    "\n",
    "    else:\n",
    "        return 'Successfully retrieved ' + fy + ' data.'"
   ]
  },
  {
   "cell_type": "code",
   "execution_count": null,
   "metadata": {},
   "outputs": [],
   "source": [
    "def clean_traffic_counts(src_fname='traffic_counts_file',\n",
    "                         out_fname='traffic_counts_raw_clean'):\n",
    "    \"\"\"Clean traffic counts data.\"\"\"\n",
    "    xlsx_file = \"{0}/{1}.xlsx\"\\\n",
    "        .format(conf['temp_data_dir'], src_fname)\n",
    "    out_csv_file = \"{0}/{1}.csv\"\\\n",
    "        .format(conf['temp_data_dir'], out_fname)\n",
    "\n",
    "    names = ['street_name',\n",
    "             'limits',\n",
    "             'all_count',\n",
    "             'northbound_count',\n",
    "             'southbound_count',\n",
    "             'eastbound_count',\n",
    "             'westbound_count',\n",
    "             'total_count',\n",
    "             'file_no',\n",
    "             'count_date']\n",
    "\n",
    "    worksheet = pd.read_excel(xlsx_file,\n",
    "                              sheetname='TRAFFIC',\n",
    "                              header_row=None,\n",
    "                              skiprows=[0, 1, 2, 3],\n",
    "                              parse_cols=[8, 9, 10, 11, 12, 13, 14, 15, 16, 17],\n",
    "                              names=names)\n",
    "\n",
    "    # Write temp csv\n",
    "    general.pos_write_csv(\n",
    "        worksheet,\n",
    "        out_csv_file,\n",
    "        date_format=conf['date_format_ymd_hms'])\n",
    "\n",
    "    return \"Successfully cleaned traffic counts data.\""
   ]
  },
  {
   "cell_type": "code",
   "execution_count": null,
   "metadata": {},
   "outputs": [],
   "source": [
    "def build_traffic_counts(src_fname='traffic_counts_raw_clean',\n",
    "                         out_fname='traffic_counts_datasd'):\n",
    "    \"\"\"Build traffic counts production data.\"\"\"\n",
    "    src_file = \"{0}/{1}.csv\"\\\n",
    "        .format(conf['temp_data_dir'], src_fname)\n",
    "\n",
    "    out_file = \"{0}/{1}.csv\"\\\n",
    "        .format(conf['prod_data_dir'], out_fname)\n",
    "\n",
    "    # read in csv from temp\n",
    "    counts = pd.read_csv(src_file)\n",
    "\n",
    "    # remove rows that are part of the main worksheet but empty for some reason\n",
    "    counts = counts[counts['street_name'] != ' ']\n",
    "\n",
    "    # date type\n",
    "    counts['count_date'] = pd.to_datetime(counts['count_date'])\n",
    "\n",
    "    # create id field based on file id and street\n",
    "    counts['id'] = counts.street_name.str.cat(counts.file_no, sep=\"\")\\\n",
    "                         .str.replace(\" \", \"\")\\\n",
    "                         .str.replace(\"-\", \"\")\n",
    "\n",
    "    # reorder columns\n",
    "    cols = counts.columns.tolist()\n",
    "    cols = cols[-1:] + cols[:-1]\n",
    "    counts = counts[cols]\n",
    "\n",
    "    # write to production file\n",
    "    new_file_path = out_file\n",
    "\n",
    "    general.pos_write_csv(\n",
    "        counts,\n",
    "        new_file_path,\n",
    "        date_format=conf['date_format_ymd_hms'])\n",
    "\n",
    "    return \"Successfully built traffic counts production file.\""
   ]
  }
 ],
 "metadata": {
  "kernelspec": {
   "display_name": "Python 3",
   "language": "python",
   "name": "python3"
  },
  "language_info": {
   "codemirror_mode": {
    "name": "ipython",
    "version": 3
   },
   "file_extension": ".py",
   "mimetype": "text/x-python",
   "name": "python",
   "nbconvert_exporter": "python",
   "pygments_lexer": "ipython3",
   "version": "3.6.4"
  },
  "toc": {
   "base_numbering": 1,
   "nav_menu": {},
   "number_sections": true,
   "sideBar": true,
   "skip_h1_title": false,
   "title_cell": "Table of Contents",
   "title_sidebar": "Contents",
   "toc_cell": false,
   "toc_position": {},
   "toc_section_display": true,
   "toc_window_display": false
  }
 },
 "nbformat": 4,
 "nbformat_minor": 2
}
