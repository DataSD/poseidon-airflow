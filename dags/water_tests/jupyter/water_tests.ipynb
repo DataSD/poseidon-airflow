{
 "cells": [
  {
   "cell_type": "code",
   "execution_count": 2,
   "metadata": {
    "collapsed": false
   },
   "outputs": [],
   "source": [
    "import cx_Oracle\n",
    "import pandas as pd\n",
    "import os\n",
    "import string\n",
    "from dfply import *\n",
    "\n",
    "def file_to_string(rel_file_path):\n",
    "    with open(rel_file_path, 'r') as ftoread:\n",
    "        fstring = ftoread.read()\n",
    "    return fstring\n",
    "\n",
    "#date_start = \"01-JAN-2014\"\n",
    "date_start = \"01-OCT-2016\"\n",
    "date_end = \"15-JUN-2017\"\n",
    "db = cx_Oracle.connect(os.environ.get('CONN_ORACLEWPL'))"
   ]
  },
  {
   "cell_type": "code",
   "execution_count": 3,
   "metadata": {
    "collapsed": false
   },
   "outputs": [
    {
     "name": "stdout",
     "output_type": "stream",
     "text": [
      "-- Grab total coliform & total chlorine in sites that are not part of the total coliform moni\n",
      "-- SAMPLE_DATE, SOURCE, SAMPLE_ID, L_ANALYTE, L_VALUE, F_ANALYTE, F_VALUE, F_FIELD_RECORD\n",
      "SELECT DISTINCT\n",
      "SAMPLE_DATE as SAMPLE_DATE, \n",
      "s.SOURCE as SOURCE, \n",
      "s.sample_id as SAMPLE_ID, \n",
      "r.analyte as L_ANALYTE, \n",
      "r.qualifier as L_VALUE, \n",
      "f.analyte as F_ANALYTE, \n",
      "f.qualifier||f.value as F_VALUE,  \n",
      "f.field_record as F_FIELD_RECORD\n",
      "FROM\n",
      "WPL.SAMPLE s, WPL.FIELD_DATA f, WPL.RESULT r, WPL.XR_SOURCE xrs\n",
      "WHERE s.sample_id=r.sample_id\n",
      "AND test_number=1\n",
      "AND test_type='SAMP'\n",
      "AND r.analyte in ('T_COLIFORM')\n",
      "AND r.reportable=1\n",
      "AND f.analyte in ('CL2_RES_TOTAL')\n",
      "AND s.Source in (SELECT DISTINCT SOURCE FROM WPL.XR_SOURCE WHERE SOURCE_NAME = 'SYS' AND VALID='Y')\n",
      "and S.SOURCE not in ('119 SYS','136 SYS','15A SYS','340 SYS','344 SYS')\n",
      "AND SAMPLE_DATE BETWEEN '01-OCT-2016' AND '15-JUN-2017'\n",
      "AND s.sample_id=r.sample_id\n",
      "AND s.field_record=f.field_record AND xrs.source=s.source\n"
     ]
    }
   ],
   "source": [
    "t = string.Template(file_to_string('../jzn1.sql')).substitute(ds=date_start, de=date_end)\n",
    "print(t)"
   ]
  },
  {
   "cell_type": "code",
   "execution_count": null,
   "metadata": {
    "collapsed": true
   },
   "outputs": [],
   "source": [
    "jzn_2_q = string.Template(\"\"\"\n",
    "-- Select 2nd part of analysis - ecoli linke with view 1\n",
    "-- (SAMPLE_DATE, SOURCE, SAMPLE_ID, L_ANALYTE, L_VALUE, F_ANALYTE, F_VALUE, F_FIELD_RECORD)\n",
    "SELECT DISTINCT\n",
    "s.SAMPLE_DATE as SAMPLE_DATE, \n",
    "s.SOURCE as SOURCE, \n",
    "s.sample_id as SAMPLE_ID, \n",
    "r.analyte as L_ANALYTE, \n",
    "r.qualifier as L_VALUE, \n",
    "f.analyte as F_ANALYTE,\n",
    "' '||f.qualifier||' '||f.value AS F_VALUE,\n",
    "f.field_record as F_FIELD_RECORD\n",
    "FROM\n",
    "WPL.SAMPLE s, WPL.FIELD_DATA f, WPL.RESULT r, WPL.XR_SOURCE xrs\n",
    "WHERE s.sample_id=r.sample_id\n",
    "AND test_number=1\n",
    "AND test_type='SAMP'\n",
    "AND r.analyte in ('E_COLI')\n",
    "AND r.reportable=1\n",
    "AND f.analyte in ('CL2_RES_TOTAL')\n",
    "AND s.Source in (SELECT DISTINCT SOURCE FROM WPL.XR_SOURCE WHERE SOURCE_NAME = 'SYS' AND VALID='Y')\n",
    "AND SAMPLE_DATE BETWEEN '$ds' AND '$de'\n",
    "AND s.sample_id=r.sample_id\n",
    "AND s.field_record=f.field_record\n",
    "AND xrs.source=s.source\n",
    "\"\"\").substitute(ds=date_start, de=date_end)"
   ]
  },
  {
   "cell_type": "code",
   "execution_count": null,
   "metadata": {
    "collapsed": false
   },
   "outputs": [],
   "source": [
    "jzn_3_q = string.Template(\"\"\"\n",
    "-- Use total coliform again and link to field data of temp\n",
    "-- (F_FIELD_RECORD, F_ANALYTE, F_QUAL, F_VALUE)\n",
    "SELECT DISTINCT f.field_record as F_FIELD_RECORD, \n",
    "f.analyte as F_ANALYTE, \n",
    "f.qualifier as F_QUAL,\n",
    "f.value as F_VALUE\n",
    "FROM\n",
    "WPL.SAMPLE s, WPL.FIELD_DATA f, WPL.RESULT r\n",
    "WHERE r.analyte in ('T_COLIFORM')\n",
    "AND f.analyte in ('TEMPERATURE')\n",
    "AND s.source in (SELECT DISTINCT SOURCE FROM WPL.XR_SOURCE WHERE SOURCE_NAME ='SYS' AND VALID='Y')\n",
    "AND SAMPLE_DATE BETWEEN '$ds' AND '$de'\n",
    "AND s.sample_id=r.sample_id\n",
    "AND s.field_record=f.field_record\n",
    "\"\"\").substitute(ds=date_start, de=date_end)"
   ]
  },
  {
   "cell_type": "code",
   "execution_count": null,
   "metadata": {
    "collapsed": false
   },
   "outputs": [],
   "source": [
    "jzn_4_q = string.Template(\"\"\"\n",
    "-- Ecoli linked with field record ph\n",
    "-- (F_FIELD_RECORD, F_ANALYTE, F_QUAL, F_VALUE)\n",
    "SELECT DISTINCT\n",
    "f.field_record as F_FIELD_RECORD, \n",
    "f.analyte as F_ANALYTE, \n",
    "f.qualifier as F_QUAL, \n",
    "f.value as F_VALUE\n",
    "FROM\n",
    "WPL.SAMPLE s, WPL.FIELD_DATA f, WPL.RESULT r\n",
    "WHERE r.analyte in ('E_COLI')\n",
    "AND f.analyte in ('PH')\n",
    "AND s.source in (SELECT DISTINCT SOURCE FROM WPL.XR_SOURCE WHERE SOURCE_NAME ='SYS' AND VALID='Y')\n",
    "AND SAMPLE_DATE BETWEEN '$ds' AND '$de'\n",
    "AND s.sample_id=r.sample_id\n",
    "AND s.field_record=f.field_record\n",
    "\"\"\").substitute(ds=date_start, de=date_end)"
   ]
  },
  {
   "cell_type": "code",
   "execution_count": null,
   "metadata": {
    "collapsed": false
   },
   "outputs": [],
   "source": [
    "jzn_1 = pd.read_sql_query(jzn_1_q, db, coerce_float=True, index_col='F_FIELD_RECORD')\n",
    "jzn_1.F_VALUE = pd.to_numeric(jzn_1.F_VALUE, errors='coerce')\n",
    "jzn_1 = jzn_1[jzn_1.F_VALUE.notnull()]\n",
    "jzn_1.head()\n"
   ]
  },
  {
   "cell_type": "code",
   "execution_count": null,
   "metadata": {
    "collapsed": false,
    "scrolled": true
   },
   "outputs": [],
   "source": [
    "jzn_2 = pd.read_sql_query(jzn_2_q, db, coerce_float=True, index_col='F_FIELD_RECORD')\n",
    "jzn_2.F_VALUE = pd.to_numeric(jzn_2.F_VALUE, errors='coerce')\n",
    "jzn_2 = jzn_2[jzn_2.F_VALUE.notnull()]\n",
    "jzn_2.head()"
   ]
  },
  {
   "cell_type": "code",
   "execution_count": null,
   "metadata": {
    "collapsed": false
   },
   "outputs": [],
   "source": [
    "jzn_3 = pd.read_sql_query(jzn_3_q, db, coerce_float=True, index_col='F_FIELD_RECORD')\n",
    "jzn_3.F_VALUE = pd.to_numeric(jzn_3.F_VALUE, errors='coerce')\n",
    "jzn_3 = jzn_3[jzn_3.F_VALUE.notnull()]\n",
    "jzn_3.head()"
   ]
  },
  {
   "cell_type": "code",
   "execution_count": null,
   "metadata": {
    "collapsed": false
   },
   "outputs": [],
   "source": [
    "jzn_4 = pd.read_sql_query(jzn_4_q, db, coerce_float=True, index_col='F_FIELD_RECORD')\n",
    "jzn_4.F_VALUE = pd.to_numeric(jzn_4.F_VALUE, errors='coerce')\n",
    "jzn_4 = jzn_4[jzn_4.F_VALUE.notnull()]\n",
    "jzn_4.tail()"
   ]
  },
  {
   "cell_type": "code",
   "execution_count": null,
   "metadata": {
    "collapsed": false
   },
   "outputs": [],
   "source": [
    "jn_1 = jzn_1.rename(columns = {\n",
    "    'SOURCE':'V5_SOURCE',\n",
    "    'SAMPLE_DATE':'V5_SAMPLE_DATE',\n",
    "    'SAMPLE_ID':'V5_SAMPLE_ID',\n",
    "    'F_VALUE':'V5_CL2_TOTAL',\n",
    "    'L_VALUE':'V5_T_COLIFORM'\n",
    "})\n",
    "jn_1 = jn_1.filter(like='V5',axis=1)\n",
    "jn_1.head()"
   ]
  },
  {
   "cell_type": "code",
   "execution_count": null,
   "metadata": {
    "collapsed": false
   },
   "outputs": [],
   "source": [
    "jn_2 = jzn_2.rename(columns = {\n",
    "    'L_VALUE':'V5_E_COLI'\n",
    "})\n",
    "jn_2 = jn_2.filter(like='V5',axis=1)\n",
    "jn_2.head()"
   ]
  },
  {
   "cell_type": "code",
   "execution_count": null,
   "metadata": {
    "collapsed": false
   },
   "outputs": [],
   "source": [
    "jn_3 = jzn_3.rename(columns = {\n",
    "    'F_QUAL':'V5_TEMP_PART1',\n",
    "    'F_VALUE':'V5_TEMP_PART2'\n",
    "})\n",
    "jn_3 = jn_3.filter(like='V5',axis=1)\n",
    "jn_3.head()"
   ]
  },
  {
   "cell_type": "code",
   "execution_count": null,
   "metadata": {
    "collapsed": false
   },
   "outputs": [],
   "source": [
    "jn_4 = jzn_4.rename(columns = {\n",
    "    'F_QUAL':'V5_PH_PART1',\n",
    "    'F_VALUE':'V5_PH_PART2'\n",
    "}).filter(like='V5',axis=1)\n",
    "jn_4.head()"
   ]
  },
  {
   "cell_type": "code",
   "execution_count": null,
   "metadata": {
    "collapsed": false
   },
   "outputs": [],
   "source": [
    "df = jn_1.join([jn_2, jn_3, jn_4], how='inner')\n",
    "df.head()"
   ]
  },
  {
   "cell_type": "code",
   "execution_count": null,
   "metadata": {
    "collapsed": false
   },
   "outputs": [],
   "source": [
    "df = df.rename(columns = {\n",
    "    'V5_PH_PART2':'V5_PH',\n",
    "    'V5_TEMP_PART2':'V5_TEMPERATURE'\n",
    "})\n",
    "\n",
    "del df['V5_PH_PART1']\n",
    "del df['V5_TEMP_PART1']\n",
    "\n",
    "df.head()"
   ]
  },
  {
   "cell_type": "code",
   "execution_count": null,
   "metadata": {
    "collapsed": false
   },
   "outputs": [],
   "source": [
    "df = df.rename(columns=lambda x: re.sub('V5\\_','',x))\n",
    "df.index.rename(name='FR_NUM', inplace=True)\n",
    "df.head()"
   ]
  },
  {
   "cell_type": "code",
   "execution_count": null,
   "metadata": {
    "collapsed": false
   },
   "outputs": [],
   "source": [
    "df.index.rename(name='FR_NUM', inplace=True)\n",
    "df.head()"
   ]
  },
  {
   "cell_type": "code",
   "execution_count": null,
   "metadata": {
    "collapsed": false
   },
   "outputs": [],
   "source": [
    "df.to_csv('./test.csv', index=True, encoding='utf-8', doublequote=True, date_format=\"%Y-%m-%d %H:%M:%S\")"
   ]
  }
 ],
 "metadata": {
  "kernelspec": {
   "display_name": "Python 2",
   "language": "python",
   "name": "python2"
  },
  "language_info": {
   "codemirror_mode": {
    "name": "ipython",
    "version": 2
   },
   "file_extension": ".py",
   "mimetype": "text/x-python",
   "name": "python",
   "nbconvert_exporter": "python",
   "pygments_lexer": "ipython2",
   "version": "2.7.9"
  }
 },
 "nbformat": 4,
 "nbformat_minor": 1
}
