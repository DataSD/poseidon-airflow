{
 "cells": [
  {
   "cell_type": "code",
   "execution_count": 1,
   "metadata": {
    "collapsed": true,
    "deletable": true,
    "editable": true
   },
   "outputs": [],
   "source": [
    "import requests\n",
    "import pandas as pd\n",
    "import json"
   ]
  },
  {
   "cell_type": "code",
   "execution_count": 3,
   "metadata": {
    "collapsed": false,
    "deletable": true,
    "editable": true
   },
   "outputs": [
    {
     "data": {
      "text/plain": [
       "[{u'_id': u'000000000000000000016979',\n",
       "  u'avatar': u'http://pbs.twimg.com/profile_images/805197583647784961/h-b37si__normal.jpg',\n",
       "  u'avatar_https': u'https://pbs.twimg.com/profile_images/805197583647784961/h-b37si__normal.jpg',\n",
       "  u'can_see_content_library': False,\n",
       "  u'counts': {u'daily_suggestions': 25,\n",
       "   u'drafts': 0,\n",
       "   u'pending': 3,\n",
       "   u'reminders': 0,\n",
       "   u'sent': 2048},\n",
       "  u'cover_photo': u'https://pbs.twimg.com/profile_banners/17170754/1459541509',\n",
       "  u'default': True,\n",
       "  u'disabled': False,\n",
       "  u'disabled_features': [],\n",
       "  u'disconnected': False,\n",
       "  u'formatted_service': u'Twitter',\n",
       "  u'formatted_username': u'@MrMaksimize',\n",
       "  u'id': u'000000000000000000016979',\n",
       "  u'locked': False,\n",
       "  u'reports_logo': None,\n",
       "  u'schedules': [{u'days': [u'sun',\n",
       "     u'mon',\n",
       "     u'tue',\n",
       "     u'wed',\n",
       "     u'thu',\n",
       "     u'fri',\n",
       "     u'sat'],\n",
       "    u'times': [u'07:35', u'09:24', u'11:03', u'14:35', u'19:07']}],\n",
       "  u'service': u'twitter',\n",
       "  u'service_id': u'17170754',\n",
       "  u'service_type': u'profile',\n",
       "  u'service_username': u'MrMaksimize',\n",
       "  u'shortener': {u'domain': u'sdgo.io'},\n",
       "  u'statistics': {u'followers': 1612},\n",
       "  u'team_members': [],\n",
       "  u'timezone': u'America/Los_Angeles',\n",
       "  u'timezone_city': u'San Francisco, CA - United States',\n",
       "  u'user_id': u'000000000000000000018062',\n",
       "  u'utm_tracking': u'enabled',\n",
       "  u'verb': u'tweet'},\n",
       " {u'_id': u'50f5912bf88b40ca12000005',\n",
       "  u'avatar': u'https://scontent.xx.fbcdn.net/v/t1.0-1/p50x50/16729208_10102182424430961_2705022534070458699_n.jpg?oh=ac52aa61b2fa802136060c7b87e6a43f&oe=5973C004',\n",
       "  u'avatar_https': u'https://scontent.xx.fbcdn.net/v/t1.0-1/p50x50/16729208_10102182424430961_2705022534070458699_n.jpg?oh=ac52aa61b2fa802136060c7b87e6a43f&oe=5973C004',\n",
       "  u'can_see_content_library': False,\n",
       "  u'counts': {u'drafts': 0, u'pending': 0, u'reminders': 0, u'sent': 65},\n",
       "  u'cover_photo': u'https://scontent.xx.fbcdn.net/v/t1.0-0/p180x540/10406473_10101542364251691_2193967763710345744_n.jpg?oh=6f5360624cd9a5368af9239209e79cae&oe=58815133',\n",
       "  u'default': False,\n",
       "  u'disabled': False,\n",
       "  u'disabled_features': [],\n",
       "  u'disconnected': False,\n",
       "  u'formatted_service': u'Facebook',\n",
       "  u'formatted_username': u'Maksim Pecherskiy',\n",
       "  u'id': u'50f5912bf88b40ca12000005',\n",
       "  u'locked': False,\n",
       "  u'reports_logo': None,\n",
       "  u'schedules': [{u'days': [u'mon',\n",
       "     u'tue',\n",
       "     u'wed',\n",
       "     u'thu',\n",
       "     u'fri',\n",
       "     u'sat',\n",
       "     u'sun'],\n",
       "    u'times': [u'00:08', u'19:59', u'20:56', u'22:07', u'23:26']}],\n",
       "  u'service': u'facebook',\n",
       "  u'service_id': u'22011603',\n",
       "  u'service_type': u'profile',\n",
       "  u'service_username': u'Maksim Pecherskiy',\n",
       "  u'shortener': {u'domain': u'buff.ly'},\n",
       "  u'timezone': u'America/Los_Angeles',\n",
       "  u'timezone_city': u'San Francisco, CA - United States',\n",
       "  u'user_id': u'000000000000000000018062',\n",
       "  u'utm_tracking': u'enabled',\n",
       "  u'verb': u'post'},\n",
       " {u'_id': u'50f59180f88b40650f00000d',\n",
       "  u'avatar': u'https://media.licdn.com/mpr/mprx/0_xKXrfbplqfy1cGuV13yO3nnlKd-tcPDn0NtYW-PlzET1tiScPKKj3vll1Ihfq83nPKylkr-A4erPNcv99i32FPxjger-NcdcPi312tErnWLYY3-w0tBgu6k3jjoGjcY6V85pwhGU297',\n",
       "  u'avatar_https': u'https://media.licdn.com/mpr/mprx/0_xKXrfbplqfy1cGuV13yO3nnlKd-tcPDn0NtYW-PlzET1tiScPKKj3vll1Ihfq83nPKylkr-A4erPNcv99i32FPxjger-NcdcPi312tErnWLYY3-w0tBgu6k3jjoGjcY6V85pwhGU297',\n",
       "  u'can_see_content_library': False,\n",
       "  u'counts': {u'daily_suggestions': 25,\n",
       "   u'drafts': 0,\n",
       "   u'pending': 1,\n",
       "   u'reminders': 0,\n",
       "   u'sent': 122},\n",
       "  u'cover_photo': u'https://d3ijcis4e2ziok.cloudfront.net/default-cover-photos/blurry-blue-background-iii_facebook_timeline_cover.jpg',\n",
       "  u'default': False,\n",
       "  u'disabled': False,\n",
       "  u'disabled_features': [],\n",
       "  u'disconnected': False,\n",
       "  u'formatted_service': u'LinkedIn',\n",
       "  u'formatted_username': u'Maksim Pecherskiy',\n",
       "  u'id': u'50f59180f88b40650f00000d',\n",
       "  u'locked': False,\n",
       "  u'reports_logo': None,\n",
       "  u'schedules': [{u'days': [u'mon',\n",
       "     u'tue',\n",
       "     u'wed',\n",
       "     u'thu',\n",
       "     u'fri',\n",
       "     u'sat',\n",
       "     u'sun'],\n",
       "    u'times': [u'09:53', u'10:40', u'12:18', u'14:18', u'19:03']}],\n",
       "  u'service': u'linkedin',\n",
       "  u'service_id': u'hiLizOH9ww',\n",
       "  u'service_type': u'profile',\n",
       "  u'service_username': u'Maksim Pecherskiy',\n",
       "  u'shortener': {u'domain': u'buff.ly'},\n",
       "  u'statistics': {u'connections': 500},\n",
       "  u'timezone': u'America/Los_Angeles',\n",
       "  u'timezone_city': u'San Francisco, CA - United States',\n",
       "  u'user_id': u'000000000000000000018062',\n",
       "  u'utm_tracking': u'enabled',\n",
       "  u'verb': u'post'}]"
      ]
     },
     "execution_count": 3,
     "metadata": {},
     "output_type": "execute_result"
    }
   ],
   "source": [
    "payload = {'access_token': '1/e611f89f20853fcc632e3196d3b32b94'}\n",
    "r = requests.get('https://api.bufferapp.com/1/profiles.json', params=payload)\n",
    "resp = json.loads(r.text)\n",
    "resp"
   ]
  },
  {
   "cell_type": "code",
   "execution_count": 7,
   "metadata": {
    "collapsed": false
   },
   "outputs": [
    {
     "name": "stdout",
     "output_type": "stream",
     "text": [
      "Twitter\n",
      "000000000000000000016979\n",
      "Facebook\n",
      "50f5912bf88b40ca12000005\n",
      "LinkedIn\n",
      "50f59180f88b40650f00000d\n"
     ]
    }
   ],
   "source": [
    "for profile in resp:\n",
    "    print profile['formatted_service']\n",
    "    print profile['id']"
   ]
  },
  {
   "cell_type": "code",
   "execution_count": 7,
   "metadata": {
    "collapsed": true,
    "deletable": true,
    "editable": true
   },
   "outputs": [],
   "source": [
    "twitter_profile = '000000000000000000016979'\n",
    "fb_profile = '50f5912bf88b40ca12000005'\n",
    "li_profile='50f59180f88b40650f00000d'\n",
    "access_token = '1/e611f89f20853fcc632e3196d3b32b94'"
   ]
  },
  {
   "cell_type": "code",
   "execution_count": 43,
   "metadata": {
    "collapsed": false,
    "deletable": true,
    "editable": true
   },
   "outputs": [],
   "source": []
  },
  {
   "cell_type": "code",
   "execution_count": 8,
   "metadata": {
    "collapsed": false,
    "deletable": true,
    "editable": true
   },
   "outputs": [
    {
     "ename": "NameError",
     "evalue": "name 'access_token' is not defined",
     "output_type": "error",
     "traceback": [
      "\u001b[0;31m\u001b[0m",
      "\u001b[0;31mNameError\u001b[0mTraceback (most recent call last)",
      "\u001b[0;32m<ipython-input-8-d774f98d7507>\u001b[0m in \u001b[0;36m<module>\u001b[0;34m()\u001b[0m\n\u001b[1;32m      3\u001b[0m \u001b[0mtweet\u001b[0m \u001b[0;34m=\u001b[0m \u001b[0mchosen\u001b[0m\u001b[0;34m[\u001b[0m\u001b[0;34m'Tweet'\u001b[0m\u001b[0;34m]\u001b[0m\u001b[0;34m.\u001b[0m\u001b[0miloc\u001b[0m\u001b[0;34m[\u001b[0m\u001b[0;36m0\u001b[0m\u001b[0;34m]\u001b[0m\u001b[0;34m\u001b[0m\u001b[0m\n\u001b[1;32m      4\u001b[0m \u001b[0;34m\u001b[0m\u001b[0m\n\u001b[0;32m----> 5\u001b[0;31m \u001b[0mparams\u001b[0m \u001b[0;34m=\u001b[0m \u001b[0;34m{\u001b[0m\u001b[0;34m'access_token'\u001b[0m\u001b[0;34m:\u001b[0m \u001b[0maccess_token\u001b[0m\u001b[0;34m}\u001b[0m\u001b[0;34m\u001b[0m\u001b[0m\n\u001b[0m\u001b[1;32m      6\u001b[0m payload = {\n\u001b[1;32m      7\u001b[0m     \u001b[0;34m'profile_ids'\u001b[0m\u001b[0;34m:\u001b[0m \u001b[0;34m[\u001b[0m\u001b[0mtwitter_profile\u001b[0m\u001b[0;34m,\u001b[0m \u001b[0mli_profile\u001b[0m\u001b[0;34m]\u001b[0m\u001b[0;34m,\u001b[0m\u001b[0;34m\u001b[0m\u001b[0m\n",
      "\u001b[0;31mNameError\u001b[0m: name 'access_token' is not defined"
     ]
    }
   ],
   "source": [
    "df = pd.read_csv(\"https://docs.google.com/spreadsheets/d/1T7IIRH_8u5cRluQHOyrR7cW60IKIVDgn3XFOO_2Qt2o/pub?gid=0&single=true&output=csv\")\n",
    "chosen = df.sample(1)\n",
    "tweet = chosen['Tweet'].iloc[0]\n",
    "\n",
    "params = {'access_token': access_token}\n",
    "payload = {\n",
    "    'profile_ids': [twitter_profile, li_profile],\n",
    "    'text': tweet,\n",
    "    'shorten': True\n",
    "}\n",
    "\n",
    "r = requests.post('https://api.bufferapp.com/1/updates/create.json', params=params, data=payload)\n",
    "r.raise_for_status()\n",
    "r.content"
   ]
  },
  {
   "cell_type": "code",
   "execution_count": null,
   "metadata": {
    "collapsed": true,
    "deletable": true,
    "editable": true
   },
   "outputs": [],
   "source": []
  }
 ],
 "metadata": {
  "kernelspec": {
   "display_name": "Python 2",
   "language": "python",
   "name": "python2"
  },
  "language_info": {
   "codemirror_mode": {
    "name": "ipython",
    "version": 2
   },
   "file_extension": ".py",
   "mimetype": "text/x-python",
   "name": "python",
   "nbconvert_exporter": "python",
   "pygments_lexer": "ipython2",
   "version": "2.7.9"
  }
 },
 "nbformat": 4,
 "nbformat_minor": 2
}
