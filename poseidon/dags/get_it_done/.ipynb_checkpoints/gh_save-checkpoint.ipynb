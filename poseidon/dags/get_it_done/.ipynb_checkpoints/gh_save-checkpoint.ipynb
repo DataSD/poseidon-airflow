{
 "cells": [
  {
   "cell_type": "code",
   "execution_count": 120,
   "metadata": {
    "collapsed": false
   },
   "outputs": [],
   "source": [
    "token = \"39c88aeef19685691cff39ea51b4627124504c0c\""
   ]
  },
  {
   "cell_type": "code",
   "execution_count": 121,
   "metadata": {
    "collapsed": false
   },
   "outputs": [
    {
     "data": {
      "text/plain": [
       "ContentFile(path=\"src/_datasets/code-enforcement-violations.md\")"
      ]
     },
     "execution_count": 121,
     "metadata": {},
     "output_type": "execute_result"
    }
   ],
   "source": [
    "from github import Github\n",
    "fpath = 'src/_datasets/code-enforcement-violations.md'\n",
    "g = Github(login_or_token=token)\n",
    "\n",
    "r = g.get_repo('cityofsandiego/seaboard')\n",
    "\n",
    "c = r.get_file_contents(fpath)\n",
    "c"
   ]
  },
  {
   "cell_type": "code",
   "execution_count": 131,
   "metadata": {
    "collapsed": false,
    "scrolled": true
   },
   "outputs": [
    {
     "data": {
      "text/plain": [
       "'---\\nschema: default\\ntitle: Code Enforcement Violations\\norganization: Development Services\\nnotes: \"Code Enforcement Violations as provided by Development Services Department\\'s\\\\r\\\\n <a href=\\\\\"https://www.sandiego.gov/development-services/opendsd\\\\\" target=\\\\\"_blank\\\\\">OpenDSD</a>.\\\\r\\\\n\\\\r\\\\nFor more information and to be able to search code enforcement cases, please visit \\\\r\\\\n<a href=\\\\\"https://www.sandiego.gov/development-services/opendsd\\\\\" target=\\\\\"_blank\\\\\">OpenDSD</a>.\\\\r\\\\n\\\\r\\\\nTo download a zipped XML please see <a href=\\\\\"https://www.sandiego.gov/development-services/opendsd/codenforcement\\\\\" target=\\\\\"_blank\\\\\"> OpenDSD\\'s Code Enforcement Activity Reports</a>.\\\\r\\\\n\\\\r\\\\nAlternatively, you can use DSD\\'s <a href=\\\\\"https://www.sandiego.gov/development-services/opendsd/developers\\\\\" target=\\\\\"_blank\\\\\">API</a> directly.\\\\r\\\\n\\\\r\\\\nTo learn more about the process, please see:\\\\r\\\\n<ul>\\\\r\\\\n<li><a href=\\\\\"https://www.sandiego.gov/development-services/opendsd/codeenfreports\\\\\" target=\\\\\"_blank\\\\\">Code Enforcement Reports</a></li>\\\\r\\\\n</ul>\"\\nresources:\\n  - name: Code Enforcement Cases  (past 6 months)\\n    url: \\'https://datasd-prod.s3.amazonaws.com/dsd/mappedcedcases6months_datasd.csv\\'\\n    format: csv\\n  - name: Code Enforcement Cases with Complaints (past 6 months)\\n    url: >-\\n      https://datasd-prod.s3.amazonaws.com/dsd/mappedcedcases6months_complaints_datasd.csv\\n    format: csv\\n  - name: Code Enforcement Cases (past 3 years)\\n    url: \\'https://datasd-prod.s3.amazonaws.com/dsd/mappedcedcases3years_datasd.csv\\'\\n    format: csv\\n  - name: Code Enforcement Cases with Complaints (past 3 years)\\n    url: >-\\n      https://datasd-prod.s3.amazonaws.com/dsd/mappedcedcases3years_complaints_datasd.csv\\n    format: csv\\n  - name: Code Enforcement Dictionary\\n    url: >-\\n      https://datasd-prod.s3.amazonaws.com/dsd/code_enforcement_dictionary_datasd.csv\\n    format: csv\\n  - name: Complaint Type Codes\\n    url: \\'https://datasd-prod.s3.amazonaws.com/dsd/complaint_types_datasd.csv\\'\\n    format: csv\\n  - name: Code Enforcement Remedies\\n    url: \\'https://datasd-prod.s3.amazonaws.com/dsd/code_enf_remedies_datasd.csv\\'\\n    format: csv\\ndate_issued: \\'2017-02-10\\'\\ndate_modified: \\'2017-02-10\\'\\nlicense: \\'http://www.opendefinition.org/licenses/odc-pddl\\'\\ncategory:\\n  - Economy and Community\\nmaintainer: City of San Diego\\nmaintainer_email: data@sandiego.gov\\n---'"
      ]
     },
     "execution_count": 131,
     "metadata": {},
     "output_type": "execute_result"
    }
   ],
   "source": [
    "import base64\n",
    "cstring = base64.b64decode(c.content)\n",
    "cstring"
   ]
  },
  {
   "cell_type": "code",
   "execution_count": 132,
   "metadata": {
    "collapsed": false,
    "scrolled": true
   },
   "outputs": [
    {
     "data": {
      "text/plain": [
       "'---\\nschema: default\\ntitle: Code Enforcement Violations\\norganization: Development Services\\nnotes: \"Code Enforcement Violations as provided by Development Services Department\\'s\\\\r\\\\n <a href=\\\\\"https://www.sandiego.gov/development-services/opendsd\\\\\" target=\\\\\"_blank\\\\\">OpenDSD</a>.\\\\r\\\\n\\\\r\\\\nFor more information and to be able to search code enforcement cases, please visit \\\\r\\\\n<a href=\\\\\"https://www.sandiego.gov/development-services/opendsd\\\\\" target=\\\\\"_blank\\\\\">OpenDSD</a>.\\\\r\\\\n\\\\r\\\\nTo download a zipped XML please see <a href=\\\\\"https://www.sandiego.gov/development-services/opendsd/codenforcement\\\\\" target=\\\\\"_blank\\\\\"> OpenDSD\\'s Code Enforcement Activity Reports</a>.\\\\r\\\\n\\\\r\\\\nAlternatively, you can use DSD\\'s <a href=\\\\\"https://www.sandiego.gov/development-services/opendsd/developers\\\\\" target=\\\\\"_blank\\\\\">API</a> directly.\\\\r\\\\n\\\\r\\\\nTo learn more about the process, please see:\\\\r\\\\n<ul>\\\\r\\\\n<li><a href=\\\\\"https://www.sandiego.gov/development-services/opendsd/codeenfreports\\\\\" target=\\\\\"_blank\\\\\">Code Enforcement Reports</a></li>\\\\r\\\\n</ul>\"\\nresources:\\n  - name: Code Enforcement Cases  (past 6 months)\\n    url: \\'https://datasd-prod.s3.amazonaws.com/dsd/mappedcedcases6months_datasd.csv\\'\\n    format: csv\\n  - name: Code Enforcement Cases with Complaints (past 6 months)\\n    url: >-\\n      https://datasd-prod.s3.amazonaws.com/dsd/mappedcedcases6months_complaints_datasd.csv\\n    format: csv\\n  - name: Code Enforcement Cases (past 3 years)\\n    url: \\'https://datasd-prod.s3.amazonaws.com/dsd/mappedcedcases3years_datasd.csv\\'\\n    format: csv\\n  - name: Code Enforcement Cases with Complaints (past 3 years)\\n    url: >-\\n      https://datasd-prod.s3.amazonaws.com/dsd/mappedcedcases3years_complaints_datasd.csv\\n    format: csv\\n  - name: Code Enforcement Dictionary\\n    url: >-\\n      https://datasd-prod.s3.amazonaws.com/dsd/code_enforcement_dictionary_datasd.csv\\n    format: csv\\n  - name: Complaint Type Codes\\n    url: \\'https://datasd-prod.s3.amazonaws.com/dsd/complaint_types_datasd.csv\\'\\n    format: csv\\n  - name: Code Enforcement Remedies\\n    url: \\'https://datasd-prod.s3.amazonaws.com/dsd/code_enf_remedies_datasd.csv\\'\\n    format: csv\\ndate_issued: \\'2017-02-10\\'\\ndate_modified: \\'2017-11-12\\'\\nlicense: \\'http://www.opendefinition.org/licenses/odc-pddl\\'\\ncategory:\\n  - Economy and Community\\nmaintainer: City of San Diego\\nmaintainer_email: data@sandiego.gov\\n---'"
      ]
     },
     "execution_count": 132,
     "metadata": {},
     "output_type": "execute_result"
    }
   ],
   "source": [
    "import re\n",
    "from datetime import datetime\n",
    "date_pattern = \"(?<=date_modified\\: \\\\\\')\\d{4}-\\d{2}-\\d{2}\"\n",
    "#today = datetime.now().strftime(\"%Y-%m-%d\")\n",
    "today = '2017-11-12'\n",
    "\n",
    "#c2 = re.sub(\"date_modified: \\'2017-02-10\\'\", 'hello', cstring, 1)\n",
    "#c2 = re.sub(date_pattern, 'hello', cstring, 1)\n",
    "match = re.search(date_pattern, cstring)\n",
    "\n",
    "\n",
    "#c2\n",
    "#if match.group() ==\n",
    "#match.group()\n",
    "\n",
    "if match and match.group() != today:\n",
    "    cstring2 = re.sub(date_pattern, today, cstring, 1)\n",
    "\n",
    "cstring2"
   ]
  },
  {
   "cell_type": "code",
   "execution_count": 83,
   "metadata": {
    "collapsed": false
   },
   "outputs": [],
   "source": [
    "update_path = '/' + c.path"
   ]
  },
  {
   "cell_type": "code",
   "execution_count": 84,
   "metadata": {
    "collapsed": false
   },
   "outputs": [
    {
     "data": {
      "text/plain": [
       "{'commit': Commit(sha=\"9867d942a21b3adba13e7098a58690eef007d27e\"),\n",
       " 'content': ContentFile(path=\"src/_datasets/data-inventory.md\")}"
      ]
     },
     "execution_count": 84,
     "metadata": {},
     "output_type": "execute_result"
    }
   ],
   "source": [
    "#cstring_enc = base64.b64encode(cstring)\n",
    "cstring_enc = cstring\n",
    "r.update_file(path=update_path, message='update', content=cstring_enc, sha=c.sha)"
   ]
  },
  {
   "cell_type": "code",
   "execution_count": null,
   "metadata": {
    "collapsed": true
   },
   "outputs": [],
   "source": []
  }
 ],
 "metadata": {
  "kernelspec": {
   "display_name": "Python 2",
   "language": "python",
   "name": "python2"
  },
  "language_info": {
   "codemirror_mode": {
    "name": "ipython",
    "version": 2
   },
   "file_extension": ".py",
   "mimetype": "text/x-python",
   "name": "python",
   "nbconvert_exporter": "python",
   "pygments_lexer": "ipython2",
   "version": "2.7.9"
  }
 },
 "nbformat": 4,
 "nbformat_minor": 2
}
