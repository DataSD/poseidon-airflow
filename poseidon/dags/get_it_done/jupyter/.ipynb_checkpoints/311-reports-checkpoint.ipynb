{
 "cells": [
  {
   "cell_type": "code",
   "execution_count": 398,
   "metadata": {
    "collapsed": false
   },
   "outputs": [],
   "source": [
    "import pandas as pd\n",
    "from datetime import datetime"
   ]
  },
  {
   "cell_type": "code",
   "execution_count": 399,
   "metadata": {
    "collapsed": false
   },
   "outputs": [],
   "source": [
    "reports = pd.read_csv(r'C:\\Users\\abower\\ETL\\311\\report1480976779956.csv', dtype={18: str, 35: str})"
   ]
  },
  {
   "cell_type": "code",
   "execution_count": 400,
   "metadata": {
    "collapsed": false
   },
   "outputs": [],
   "source": [
    "graffiti = reports[(reports['Hide from Web'] > 0) & (reports['SAP Problem Type'] == 'Graffiti Removal')]"
   ]
  },
  {
   "cell_type": "code",
   "execution_count": 401,
   "metadata": {
    "collapsed": false
   },
   "outputs": [],
   "source": [
    "visible = reports[reports['Hide from Web'] == 0]"
   ]
  },
  {
   "cell_type": "code",
   "execution_count": 402,
   "metadata": {
    "collapsed": true
   },
   "outputs": [],
   "source": [
    "final_reports = pd.concat([graffiti, visible])"
   ]
  },
  {
   "cell_type": "code",
   "execution_count": 403,
   "metadata": {
    "collapsed": false
   },
   "outputs": [],
   "source": [
    "final_reports = final_reports.reset_index(drop=True)"
   ]
  },
  {
   "cell_type": "code",
   "execution_count": 404,
   "metadata": {
    "collapsed": false
   },
   "outputs": [],
   "source": [
    "tests = final_reports[(final_reports['Public Description'].str.match('test',case=False)) | \n",
    "                      (final_reports['Public Description'].str.contains('just a test',na=False,case=False)) | \n",
    "                      (final_reports['Public Description'].str.contains('test only',na=False,case=False)) | \n",
    "                      (final_reports['Public Description'].str.contains('test-',na=False,case=False)) | \n",
    "                      (final_reports['Public Description'].str.contains('test -',na=False,case=False)) | \n",
    "                      (final_reports['Public Description'].str.contains('test report',na=False,case=False)) | \n",
    "                      (final_reports['Public Description'].str.contains('test case',na=False,case=False)) | \n",
    "                      (final_reports['Public Description'].str.contains('a test',na=False,case=False)) | \n",
    "                      (final_reports['Public Description'].str.contains('test test',na=False,case=False)) |\n",
    "                      (final_reports['Public Description'].str.contains('testing something',na=False,case=False))]"
   ]
  },
  {
   "cell_type": "code",
   "execution_count": 405,
   "metadata": {
    "collapsed": false
   },
   "outputs": [],
   "source": [
    "tests_series = tests['Case Number']"
   ]
  },
  {
   "cell_type": "code",
   "execution_count": 406,
   "metadata": {
    "collapsed": false
   },
   "outputs": [],
   "source": [
    "tests_series = tests_series.tolist()"
   ]
  },
  {
   "cell_type": "markdown",
   "metadata": {},
   "source": [
    "Remove one more record that is a test case but does not meet any of the above conditions"
   ]
  },
  {
   "cell_type": "code",
   "execution_count": 407,
   "metadata": {
    "collapsed": true
   },
   "outputs": [],
   "source": [
    "tests_series.append(80507)"
   ]
  },
  {
   "cell_type": "markdown",
   "metadata": {},
   "source": [
    "Remove a record that has a license plate number in it"
   ]
  },
  {
   "cell_type": "code",
   "execution_count": 408,
   "metadata": {
    "collapsed": true
   },
   "outputs": [],
   "source": [
    "tests_series.append(104333)"
   ]
  },
  {
   "cell_type": "code",
   "execution_count": 409,
   "metadata": {
    "collapsed": false
   },
   "outputs": [],
   "source": [
    "final_reports = final_reports[~final_reports['Case Number'].isin(tests_series)]"
   ]
  },
  {
   "cell_type": "code",
   "execution_count": 410,
   "metadata": {
    "collapsed": false
   },
   "outputs": [],
   "source": [
    "final_reports = final_reports.reset_index(drop=True)"
   ]
  },
  {
   "cell_type": "code",
   "execution_count": 411,
   "metadata": {
    "collapsed": false
   },
   "outputs": [],
   "source": [
    "final_reports['Opened Date'] = pd.to_datetime(final_reports['Opened Date'])"
   ]
  },
  {
   "cell_type": "code",
   "execution_count": 412,
   "metadata": {
    "collapsed": false
   },
   "outputs": [],
   "source": [
    "final_reports['Closed Date'] = pd.to_datetime(final_reports['Closed Date'])"
   ]
  },
  {
   "cell_type": "code",
   "execution_count": 413,
   "metadata": {
    "collapsed": false
   },
   "outputs": [],
   "source": [
    "final_reports.drop(['Hide from Web','Public Description','Referred Email List','Problem Description'], axis=1, inplace=True)"
   ]
  },
  {
   "cell_type": "code",
   "execution_count": 414,
   "metadata": {
    "collapsed": false
   },
   "outputs": [
    {
     "name": "stderr",
     "output_type": "stream",
     "text": [
      "C:\\Program Files\\Anaconda3\\lib\\site-packages\\ipykernel\\__main__.py:1: FutureWarning: sort(columns=....) is deprecated, use sort_values(by=.....)\n",
      "  if __name__ == '__main__':\n"
     ]
    }
   ],
   "source": [
    "final_reports = final_reports.sort(['Case Number'])"
   ]
  },
  {
   "cell_type": "code",
   "execution_count": 415,
   "metadata": {
    "collapsed": false
   },
   "outputs": [],
   "source": [
    "final_reports = final_reports.rename(columns={'Case Number':'case_number', \n",
    "                                              'Parent Case Number':'parent_case_number', \n",
    "                                              'Status':'status',\n",
    "                                              'Mobile/Web Status':'mobile_web_status', \n",
    "                                              'Duplicate Verified':'duplicate_verified', \n",
    "                                              'Override Duplicate':'override_duplicate',\n",
    "                                              'Functional Location':'functional_location', \n",
    "                                              'Question #1':'question_1', \n",
    "                                              'Answer #1':'answer_1', \n",
    "                                              'Answer #1 Options':'answer_1_options',\n",
    "                                              'Question #2':'question_2', \n",
    "                                              'Answer #2':'answer_2', \n",
    "                                              'Answer #2 Options':'answer_2_options', \n",
    "                                              'Question #3':'question_3',\n",
    "                                              'Answer #3':'answer_3', \n",
    "                                              'Question #4':'question_4', \n",
    "                                              'Answer #4':'answer_4', \n",
    "                                              'Referral Email List':'referral_email',\n",
    "                                              'Referred Email Update':'referred_email_update', \n",
    "                                              'Case Origin':'case_origin',\n",
    "                                              'Opened Date':'opened_date', \n",
    "                                              'Closed Date':'closed_date', \n",
    "                                              'Open':'open', \n",
    "                                              'Closed':'closed', \n",
    "                                              'Subject':'subject', \n",
    "                                              'Problem Group':'problem_group', \n",
    "                                              'Problem Category':'problem_category',\n",
    "                                              'Problem Category Detail':'problem_category_detail', \n",
    "                                              'Geolocation Lat Long':'coordinates', \n",
    "                                              'Geolocation (Latitude)':'lat',\n",
    "                                              'Geolocation (Longitude)':'lng', \n",
    "                                              'SAP Notification Number':'sap_notification_number',\n",
    "                                              'SAP Problem Category':'sap_problem_category', \n",
    "                                              'SAP Problem Code':'sap_problem_code', \n",
    "                                              'SAP Problem Type':'sap_problem_type',\n",
    "                                              'Street Address':'address', \n",
    "                                              'Case Record Type':'case_record_type'})"
   ]
  },
  {
   "cell_type": "code",
   "execution_count": 416,
   "metadata": {
    "collapsed": false
   },
   "outputs": [],
   "source": [
    "final_reports.to_csv(r'C:\\Users\\abower\\Desktop\\portal_data\\get_it_done_311_requests_datasd.csv', index=False)"
   ]
  },
  {
   "cell_type": "code",
   "execution_count": null,
   "metadata": {
    "collapsed": true
   },
   "outputs": [],
   "source": []
  }
 ],
 "metadata": {
  "anaconda-cloud": {},
  "kernelspec": {
   "display_name": "Python 2",
   "language": "python",
   "name": "python2"
  },
  "language_info": {
   "codemirror_mode": {
    "name": "ipython",
    "version": 2
   },
   "file_extension": ".py",
   "mimetype": "text/x-python",
   "name": "python",
   "nbconvert_exporter": "python",
   "pygments_lexer": "ipython2",
   "version": "2.7.11"
  }
 },
 "nbformat": 4,
 "nbformat_minor": 1
}
