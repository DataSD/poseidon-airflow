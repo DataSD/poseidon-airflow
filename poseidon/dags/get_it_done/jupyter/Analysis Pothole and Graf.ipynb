{
 "cells": [
  {
   "cell_type": "code",
   "execution_count": 44,
   "metadata": {
    "collapsed": false
   },
   "outputs": [],
   "source": [
    "import pandas as pd\n",
    "from datetime import datetime, timedelta\n",
    "import json, requests\n"
   ]
  },
  {
   "cell_type": "code",
   "execution_count": 45,
   "metadata": {
    "collapsed": true
   },
   "outputs": [],
   "source": [
    "def prepare_sonar_gid_data():\n",
    "    gid_csv = '/data/prod/get_it_done_311_requests_datasd.csv'\n",
    "\n",
    "    # Read CSV\n",
    "    gid = pd.read_csv(gid_csv)\n",
    "\n",
    "    # Set accepted fields\n",
    "    fields = ['service_request_id', 'requested_datetime', 'closed_date', 'source',\n",
    "     'service_name', 'service_subtype', 'status_description', 'lat', 'long']\n",
    "\n",
    "    #Filter on field\n",
    "    gid = gid[fields]\n",
    "\n",
    "    # Convert datetime columns\n",
    "    gid['requested_datetime'] = pd.to_datetime(gid['requested_datetime'])\n",
    "    gid['closed_date'] = pd.to_datetime(gid['closed_date'])\n",
    "\n",
    "    return gid\n",
    "\n",
    "\n",
    "\n",
    "\n",
    "\n"
   ]
  },
  {
   "cell_type": "code",
   "execution_count": 46,
   "metadata": {
    "collapsed": false
   },
   "outputs": [
    {
     "data": {
      "text/plain": [
       "array(['Curb', 'Graffiti', 'Pothole', 'Sidewalk', 'Other',\n",
       "       'Abandoned Vehicle', 'Litter/Dumping', 'Dead Animal',\n",
       "       'Traffic Sign', 'Traffic Signal', 'Storm Drain', 'Street Light',\n",
       "       'Tree Hazard', nan, 'Faded striping', 'Street Sweeping',\n",
       "       'Damaged Guardrail', 'Street Flooded', 'Parking Meter',\n",
       "       'Illegal discharge', 'Over Irrigation'], dtype=object)"
      ]
     },
     "execution_count": 46,
     "metadata": {},
     "output_type": "execute_result"
    }
   ],
   "source": [
    "gid = prepare_sonar_gid_data()\n",
    "gid.dtypes\n",
    "gid.service_name.unique()"
   ]
  },
  {
   "cell_type": "code",
   "execution_count": 55,
   "metadata": {
    "collapsed": false
   },
   "outputs": [
    {
     "data": {
      "text/html": [
       "<div>\n",
       "<table border=\"1\" class=\"dataframe\">\n",
       "  <thead>\n",
       "    <tr style=\"text-align: right;\">\n",
       "      <th></th>\n",
       "      <th>index</th>\n",
       "      <th>service_request_id</th>\n",
       "      <th>requested_datetime</th>\n",
       "      <th>closed_date</th>\n",
       "      <th>source</th>\n",
       "      <th>service_name</th>\n",
       "      <th>service_subtype</th>\n",
       "      <th>status_description</th>\n",
       "      <th>lat</th>\n",
       "      <th>long</th>\n",
       "      <th>open_len</th>\n",
       "    </tr>\n",
       "  </thead>\n",
       "  <tbody>\n",
       "    <tr>\n",
       "      <th>0</th>\n",
       "      <td>39</td>\n",
       "      <td>177233</td>\n",
       "      <td>2017-04-25 09:22:00</td>\n",
       "      <td>2017-04-25 09:24:00</td>\n",
       "      <td>Crew/Self Generated</td>\n",
       "      <td>Graffiti</td>\n",
       "      <td>NaN</td>\n",
       "      <td>Closed</td>\n",
       "      <td>32.790413</td>\n",
       "      <td>-117.173146</td>\n",
       "      <td>0 days 00:02:00</td>\n",
       "    </tr>\n",
       "    <tr>\n",
       "      <th>1</th>\n",
       "      <td>479</td>\n",
       "      <td>176779</td>\n",
       "      <td>2017-04-24 09:43:00</td>\n",
       "      <td>2017-04-25 00:03:00</td>\n",
       "      <td>Web</td>\n",
       "      <td>Pothole</td>\n",
       "      <td>NaN</td>\n",
       "      <td>Closed</td>\n",
       "      <td>32.812063</td>\n",
       "      <td>-117.216127</td>\n",
       "      <td>0 days 14:20:00</td>\n",
       "    </tr>\n",
       "    <tr>\n",
       "      <th>2</th>\n",
       "      <td>738</td>\n",
       "      <td>176517</td>\n",
       "      <td>2017-04-23 13:54:00</td>\n",
       "      <td>2017-04-25 00:02:00</td>\n",
       "      <td>Phone</td>\n",
       "      <td>Pothole</td>\n",
       "      <td>NaN</td>\n",
       "      <td>Closed</td>\n",
       "      <td>32.715700</td>\n",
       "      <td>-117.161093</td>\n",
       "      <td>1 days 10:08:00</td>\n",
       "    </tr>\n",
       "    <tr>\n",
       "      <th>3</th>\n",
       "      <td>886</td>\n",
       "      <td>176369</td>\n",
       "      <td>2017-04-23 06:27:00</td>\n",
       "      <td>2017-04-25 09:15:00</td>\n",
       "      <td>Web</td>\n",
       "      <td>Graffiti</td>\n",
       "      <td>NaN</td>\n",
       "      <td>Closed</td>\n",
       "      <td>32.573401</td>\n",
       "      <td>-117.054985</td>\n",
       "      <td>2 days 02:48:00</td>\n",
       "    </tr>\n",
       "    <tr>\n",
       "      <th>4</th>\n",
       "      <td>1015</td>\n",
       "      <td>176238</td>\n",
       "      <td>2017-04-22 17:31:00</td>\n",
       "      <td>2017-04-25 00:02:00</td>\n",
       "      <td>Phone</td>\n",
       "      <td>Pothole</td>\n",
       "      <td>NaN</td>\n",
       "      <td>Closed</td>\n",
       "      <td>32.801138</td>\n",
       "      <td>-117.140358</td>\n",
       "      <td>2 days 06:31:00</td>\n",
       "    </tr>\n",
       "  </tbody>\n",
       "</table>\n",
       "</div>"
      ],
      "text/plain": [
       "   index  service_request_id  requested_datetime         closed_date  \\\n",
       "0     39              177233 2017-04-25 09:22:00 2017-04-25 09:24:00   \n",
       "1    479              176779 2017-04-24 09:43:00 2017-04-25 00:03:00   \n",
       "2    738              176517 2017-04-23 13:54:00 2017-04-25 00:02:00   \n",
       "3    886              176369 2017-04-23 06:27:00 2017-04-25 09:15:00   \n",
       "4   1015              176238 2017-04-22 17:31:00 2017-04-25 00:02:00   \n",
       "\n",
       "                source service_name service_subtype status_description  \\\n",
       "0  Crew/Self Generated     Graffiti             NaN             Closed   \n",
       "1                  Web      Pothole             NaN             Closed   \n",
       "2                Phone      Pothole             NaN             Closed   \n",
       "3                  Web     Graffiti             NaN             Closed   \n",
       "4                Phone      Pothole             NaN             Closed   \n",
       "\n",
       "         lat        long        open_len  \n",
       "0  32.790413 -117.173146 0 days 00:02:00  \n",
       "1  32.812063 -117.216127 0 days 14:20:00  \n",
       "2  32.715700 -117.161093 1 days 10:08:00  \n",
       "3  32.573401 -117.054985 2 days 02:48:00  \n",
       "4  32.801138 -117.140358 2 days 06:31:00  "
      ]
     },
     "execution_count": 55,
     "metadata": {},
     "output_type": "execute_result"
    }
   ],
   "source": [
    "days_7 = datetime.now() - timedelta(days=7)\n",
    "days_30 = datetime.now() - timedelta(days=30)\n",
    "\n",
    "range_start = days_30\n",
    "\n",
    "#Get only closed potholes\n",
    "closed_mask = (((gid.service_name == 'Pothole') | (gid.service_name == 'Graffiti')) & (gid.status_description == 'Closed'))\n",
    "open_mask = (((gid.service_name == 'Pothole') | (gid.service_name == 'Graffiti')) &\\\n",
    "              ((gid.status_description == 'New') | (gid.status_description == 'Acknowledged') | (gid.status_description == 'Assigned') | (gid.status_description == 'Duplicate')))\n",
    "#mask = (((gid.service_name == 'Pothole')) & (gid.status_description == 'Closed'))\n",
    "\n",
    "gid2 = gid[closed_mask]\n",
    "gid3 = gid[open_mask]\n",
    "#gid_ph_closed = gid_ph_closed.copy()\n",
    "\n",
    "# Get closed potholes, last x days\n",
    "gid2 = gid2[gid2['closed_date'] >= range_start]\n",
    "gid2['open_len'] = gid2['closed_date'] - gid2['requested_datetime']\n",
    "gid2.reset_index(inplace=True)\n",
    "\n",
    "gid2.head(5)"
   ]
  },
  {
   "cell_type": "code",
   "execution_count": 56,
   "metadata": {
    "collapsed": false
   },
   "outputs": [
    {
     "data": {
      "text/plain": [
       "Timedelta('2 days 06:31:00')"
      ]
     },
     "execution_count": 56,
     "metadata": {},
     "output_type": "execute_result"
    }
   ],
   "source": [
    "delta = gid2['open_len'][4]\n",
    "delta"
   ]
  },
  {
   "cell_type": "code",
   "execution_count": 57,
   "metadata": {
    "collapsed": false
   },
   "outputs": [
    {
     "data": {
      "text/plain": [
       "2.2715277777777776"
      ]
     },
     "execution_count": 57,
     "metadata": {},
     "output_type": "execute_result"
    }
   ],
   "source": [
    "delta.total_seconds() / 86400"
   ]
  },
  {
   "cell_type": "code",
   "execution_count": 58,
   "metadata": {
    "collapsed": false
   },
   "outputs": [
    {
     "data": {
      "text/html": [
       "<div>\n",
       "<table border=\"1\" class=\"dataframe\">\n",
       "  <thead>\n",
       "    <tr style=\"text-align: right;\">\n",
       "      <th></th>\n",
       "      <th>index</th>\n",
       "      <th>service_request_id</th>\n",
       "      <th>requested_datetime</th>\n",
       "      <th>closed_date</th>\n",
       "      <th>source</th>\n",
       "      <th>service_name</th>\n",
       "      <th>service_subtype</th>\n",
       "      <th>status_description</th>\n",
       "      <th>lat</th>\n",
       "      <th>long</th>\n",
       "      <th>open_len</th>\n",
       "    </tr>\n",
       "  </thead>\n",
       "  <tbody>\n",
       "    <tr>\n",
       "      <th>0</th>\n",
       "      <td>39</td>\n",
       "      <td>177233</td>\n",
       "      <td>2017-04-25 09:22:00</td>\n",
       "      <td>2017-04-25 09:24:00</td>\n",
       "      <td>Crew/Self Generated</td>\n",
       "      <td>Graffiti</td>\n",
       "      <td>NaN</td>\n",
       "      <td>Closed</td>\n",
       "      <td>32.790413</td>\n",
       "      <td>-117.173146</td>\n",
       "      <td>0.001389</td>\n",
       "    </tr>\n",
       "    <tr>\n",
       "      <th>1</th>\n",
       "      <td>479</td>\n",
       "      <td>176779</td>\n",
       "      <td>2017-04-24 09:43:00</td>\n",
       "      <td>2017-04-25 00:03:00</td>\n",
       "      <td>Web</td>\n",
       "      <td>Pothole</td>\n",
       "      <td>NaN</td>\n",
       "      <td>Closed</td>\n",
       "      <td>32.812063</td>\n",
       "      <td>-117.216127</td>\n",
       "      <td>0.597222</td>\n",
       "    </tr>\n",
       "    <tr>\n",
       "      <th>2</th>\n",
       "      <td>738</td>\n",
       "      <td>176517</td>\n",
       "      <td>2017-04-23 13:54:00</td>\n",
       "      <td>2017-04-25 00:02:00</td>\n",
       "      <td>Phone</td>\n",
       "      <td>Pothole</td>\n",
       "      <td>NaN</td>\n",
       "      <td>Closed</td>\n",
       "      <td>32.715700</td>\n",
       "      <td>-117.161093</td>\n",
       "      <td>1.422222</td>\n",
       "    </tr>\n",
       "    <tr>\n",
       "      <th>3</th>\n",
       "      <td>886</td>\n",
       "      <td>176369</td>\n",
       "      <td>2017-04-23 06:27:00</td>\n",
       "      <td>2017-04-25 09:15:00</td>\n",
       "      <td>Web</td>\n",
       "      <td>Graffiti</td>\n",
       "      <td>NaN</td>\n",
       "      <td>Closed</td>\n",
       "      <td>32.573401</td>\n",
       "      <td>-117.054985</td>\n",
       "      <td>2.116667</td>\n",
       "    </tr>\n",
       "    <tr>\n",
       "      <th>4</th>\n",
       "      <td>1015</td>\n",
       "      <td>176238</td>\n",
       "      <td>2017-04-22 17:31:00</td>\n",
       "      <td>2017-04-25 00:02:00</td>\n",
       "      <td>Phone</td>\n",
       "      <td>Pothole</td>\n",
       "      <td>NaN</td>\n",
       "      <td>Closed</td>\n",
       "      <td>32.801138</td>\n",
       "      <td>-117.140358</td>\n",
       "      <td>2.271528</td>\n",
       "    </tr>\n",
       "  </tbody>\n",
       "</table>\n",
       "</div>"
      ],
      "text/plain": [
       "   index  service_request_id  requested_datetime         closed_date  \\\n",
       "0     39              177233 2017-04-25 09:22:00 2017-04-25 09:24:00   \n",
       "1    479              176779 2017-04-24 09:43:00 2017-04-25 00:03:00   \n",
       "2    738              176517 2017-04-23 13:54:00 2017-04-25 00:02:00   \n",
       "3    886              176369 2017-04-23 06:27:00 2017-04-25 09:15:00   \n",
       "4   1015              176238 2017-04-22 17:31:00 2017-04-25 00:02:00   \n",
       "\n",
       "                source service_name service_subtype status_description  \\\n",
       "0  Crew/Self Generated     Graffiti             NaN             Closed   \n",
       "1                  Web      Pothole             NaN             Closed   \n",
       "2                Phone      Pothole             NaN             Closed   \n",
       "3                  Web     Graffiti             NaN             Closed   \n",
       "4                Phone      Pothole             NaN             Closed   \n",
       "\n",
       "         lat        long  open_len  \n",
       "0  32.790413 -117.173146  0.001389  \n",
       "1  32.812063 -117.216127  0.597222  \n",
       "2  32.715700 -117.161093  1.422222  \n",
       "3  32.573401 -117.054985  2.116667  \n",
       "4  32.801138 -117.140358  2.271528  "
      ]
     },
     "execution_count": 58,
     "metadata": {},
     "output_type": "execute_result"
    }
   ],
   "source": [
    "gid2['open_len'] = gid2['open_len'].map(lambda x: x.total_seconds() / 86400)\n",
    "gid2.head()"
   ]
  },
  {
   "cell_type": "code",
   "execution_count": 59,
   "metadata": {
    "collapsed": false
   },
   "outputs": [
    {
     "data": {
      "text/plain": [
       "(3548, 11)"
      ]
     },
     "execution_count": 59,
     "metadata": {},
     "output_type": "execute_result"
    }
   ],
   "source": [
    "gid2.shape"
   ]
  },
  {
   "cell_type": "code",
   "execution_count": 60,
   "metadata": {
    "collapsed": false
   },
   "outputs": [
    {
     "data": {
      "text/html": [
       "<div>\n",
       "<table border=\"1\" class=\"dataframe\">\n",
       "  <thead>\n",
       "    <tr style=\"text-align: right;\">\n",
       "      <th></th>\n",
       "      <th>open_len</th>\n",
       "    </tr>\n",
       "    <tr>\n",
       "      <th>service_name</th>\n",
       "      <th></th>\n",
       "    </tr>\n",
       "  </thead>\n",
       "  <tbody>\n",
       "    <tr>\n",
       "      <th>Graffiti</th>\n",
       "      <td>41.264613</td>\n",
       "    </tr>\n",
       "    <tr>\n",
       "      <th>Pothole</th>\n",
       "      <td>40.341117</td>\n",
       "    </tr>\n",
       "  </tbody>\n",
       "</table>\n",
       "</div>"
      ],
      "text/plain": [
       "               open_len\n",
       "service_name           \n",
       "Graffiti      41.264613\n",
       "Pothole       40.341117"
      ]
     },
     "execution_count": 60,
     "metadata": {},
     "output_type": "execute_result"
    }
   ],
   "source": [
    "gid2[['service_name', 'open_len']].groupby('service_name').mean()\n",
    "# Avg Closure Time (past 30)"
   ]
  },
  {
   "cell_type": "code",
   "execution_count": 61,
   "metadata": {
    "collapsed": false
   },
   "outputs": [
    {
     "data": {
      "text/html": [
       "<div>\n",
       "<table border=\"1\" class=\"dataframe\">\n",
       "  <thead>\n",
       "    <tr style=\"text-align: right;\">\n",
       "      <th></th>\n",
       "      <th>open_len</th>\n",
       "    </tr>\n",
       "    <tr>\n",
       "      <th>service_name</th>\n",
       "      <th></th>\n",
       "    </tr>\n",
       "  </thead>\n",
       "  <tbody>\n",
       "    <tr>\n",
       "      <th>Graffiti</th>\n",
       "      <td>1126</td>\n",
       "    </tr>\n",
       "    <tr>\n",
       "      <th>Pothole</th>\n",
       "      <td>2422</td>\n",
       "    </tr>\n",
       "  </tbody>\n",
       "</table>\n",
       "</div>"
      ],
      "text/plain": [
       "              open_len\n",
       "service_name          \n",
       "Graffiti          1126\n",
       "Pothole           2422"
      ]
     },
     "execution_count": 61,
     "metadata": {},
     "output_type": "execute_result"
    }
   ],
   "source": [
    "gid2[['service_name', 'open_len']].groupby('service_name').count()\n",
    "# Requests (past 30)"
   ]
  },
  {
   "cell_type": "code",
   "execution_count": 62,
   "metadata": {
    "collapsed": false
   },
   "outputs": [
    {
     "data": {
      "text/html": [
       "<div>\n",
       "<table border=\"1\" class=\"dataframe\">\n",
       "  <thead>\n",
       "    <tr style=\"text-align: right;\">\n",
       "      <th></th>\n",
       "      <th>index</th>\n",
       "      <th>service_request_id</th>\n",
       "      <th>requested_datetime</th>\n",
       "      <th>closed_date</th>\n",
       "      <th>source</th>\n",
       "      <th>service_name</th>\n",
       "      <th>service_subtype</th>\n",
       "      <th>status_description</th>\n",
       "      <th>lat</th>\n",
       "      <th>long</th>\n",
       "    </tr>\n",
       "  </thead>\n",
       "  <tbody>\n",
       "    <tr>\n",
       "      <th>0</th>\n",
       "      <td>1</td>\n",
       "      <td>177274</td>\n",
       "      <td>2017-04-25 10:22:00</td>\n",
       "      <td>NaT</td>\n",
       "      <td>Web</td>\n",
       "      <td>Graffiti</td>\n",
       "      <td>NaN</td>\n",
       "      <td>New</td>\n",
       "      <td>32.569986</td>\n",
       "      <td>-117.083789</td>\n",
       "    </tr>\n",
       "    <tr>\n",
       "      <th>1</th>\n",
       "      <td>2</td>\n",
       "      <td>177273</td>\n",
       "      <td>2017-04-25 10:21:00</td>\n",
       "      <td>NaT</td>\n",
       "      <td>Web</td>\n",
       "      <td>Pothole</td>\n",
       "      <td>NaN</td>\n",
       "      <td>Acknowledged</td>\n",
       "      <td>32.778073</td>\n",
       "      <td>-117.140118</td>\n",
       "    </tr>\n",
       "    <tr>\n",
       "      <th>2</th>\n",
       "      <td>3</td>\n",
       "      <td>177272</td>\n",
       "      <td>2017-04-25 10:20:00</td>\n",
       "      <td>NaT</td>\n",
       "      <td>Web</td>\n",
       "      <td>Pothole</td>\n",
       "      <td>NaN</td>\n",
       "      <td>New</td>\n",
       "      <td>32.894160</td>\n",
       "      <td>-117.119412</td>\n",
       "    </tr>\n",
       "    <tr>\n",
       "      <th>3</th>\n",
       "      <td>9</td>\n",
       "      <td>177266</td>\n",
       "      <td>2017-04-25 10:12:00</td>\n",
       "      <td>NaT</td>\n",
       "      <td>Mobile</td>\n",
       "      <td>Graffiti</td>\n",
       "      <td>NaN</td>\n",
       "      <td>New</td>\n",
       "      <td>32.732021</td>\n",
       "      <td>-117.108138</td>\n",
       "    </tr>\n",
       "    <tr>\n",
       "      <th>4</th>\n",
       "      <td>11</td>\n",
       "      <td>177264</td>\n",
       "      <td>2017-04-25 10:10:00</td>\n",
       "      <td>NaT</td>\n",
       "      <td>Web</td>\n",
       "      <td>Graffiti</td>\n",
       "      <td>NaN</td>\n",
       "      <td>New</td>\n",
       "      <td>32.579685</td>\n",
       "      <td>-117.097321</td>\n",
       "    </tr>\n",
       "  </tbody>\n",
       "</table>\n",
       "</div>"
      ],
      "text/plain": [
       "   index  service_request_id  requested_datetime closed_date  source  \\\n",
       "0      1              177274 2017-04-25 10:22:00         NaT     Web   \n",
       "1      2              177273 2017-04-25 10:21:00         NaT     Web   \n",
       "2      3              177272 2017-04-25 10:20:00         NaT     Web   \n",
       "3      9              177266 2017-04-25 10:12:00         NaT  Mobile   \n",
       "4     11              177264 2017-04-25 10:10:00         NaT     Web   \n",
       "\n",
       "  service_name service_subtype status_description        lat        long  \n",
       "0     Graffiti             NaN                New  32.569986 -117.083789  \n",
       "1      Pothole             NaN       Acknowledged  32.778073 -117.140118  \n",
       "2      Pothole             NaN                New  32.894160 -117.119412  \n",
       "3     Graffiti             NaN                New  32.732021 -117.108138  \n",
       "4     Graffiti             NaN                New  32.579685 -117.097321  "
      ]
     },
     "execution_count": 62,
     "metadata": {},
     "output_type": "execute_result"
    }
   ],
   "source": [
    "gid3.reset_index(inplace=True)\n",
    "gid3.head()"
   ]
  },
  {
   "cell_type": "code",
   "execution_count": 63,
   "metadata": {
    "collapsed": false
   },
   "outputs": [
    {
     "data": {
      "text/html": [
       "<div>\n",
       "<table border=\"1\" class=\"dataframe\">\n",
       "  <thead>\n",
       "    <tr style=\"text-align: right;\">\n",
       "      <th></th>\n",
       "      <th>service_request_id</th>\n",
       "    </tr>\n",
       "    <tr>\n",
       "      <th>service_name</th>\n",
       "      <th></th>\n",
       "    </tr>\n",
       "  </thead>\n",
       "  <tbody>\n",
       "    <tr>\n",
       "      <th>Graffiti</th>\n",
       "      <td>2890</td>\n",
       "    </tr>\n",
       "    <tr>\n",
       "      <th>Pothole</th>\n",
       "      <td>6446</td>\n",
       "    </tr>\n",
       "  </tbody>\n",
       "</table>\n",
       "</div>"
      ],
      "text/plain": [
       "              service_request_id\n",
       "service_name                    \n",
       "Graffiti                    2890\n",
       "Pothole                     6446"
      ]
     },
     "execution_count": 63,
     "metadata": {},
     "output_type": "execute_result"
    }
   ],
   "source": [
    "gid3[['service_name', 'service_request_id']].groupby('service_name').count()"
   ]
  },
  {
   "cell_type": "code",
   "execution_count": null,
   "metadata": {
    "collapsed": true
   },
   "outputs": [],
   "source": []
  },
  {
   "cell_type": "code",
   "execution_count": null,
   "metadata": {
    "collapsed": true
   },
   "outputs": [],
   "source": []
  }
 ],
 "metadata": {
  "kernelspec": {
   "display_name": "Python 2",
   "language": "python",
   "name": "python2"
  },
  "language_info": {
   "codemirror_mode": {
    "name": "ipython",
    "version": 2
   },
   "file_extension": ".py",
   "mimetype": "text/x-python",
   "name": "python",
   "nbconvert_exporter": "python",
   "pygments_lexer": "ipython2",
   "version": "2.7.9"
  }
 },
 "nbformat": 4,
 "nbformat_minor": 2
}
