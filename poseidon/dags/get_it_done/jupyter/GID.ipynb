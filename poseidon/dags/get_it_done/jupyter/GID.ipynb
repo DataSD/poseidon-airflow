{
 "cells": [
  {
   "cell_type": "code",
   "execution_count": 20,
   "metadata": {
    "collapsed": false
   },
   "outputs": [],
   "source": [
    "import requests\n",
    "import pandas as pd\n",
    "import csv\n",
    "\n",
    "import xml.dom.minidom\n",
    "\n",
    "\n",
    "# pylint: disable=invalid-name\n",
    "def getUniqueElementValueFromXmlString(xmlString, elementName):\n",
    "    \"\"\"\n",
    "    Extracts an element value from an XML string.\n",
    "    For example, invoking\n",
    "    getUniqueElementValueFromXmlString(\n",
    "        '<?xml version=\"1.0\" encoding=\"UTF-8\"?><foo>bar</foo>', 'foo')\n",
    "    should return the value 'bar'.\n",
    "    \"\"\"\n",
    "    xmlStringAsDom = xml.dom.minidom.parseString(xmlString)\n",
    "    elementsByName = xmlStringAsDom.getElementsByTagName(elementName)\n",
    "    elementValue = None\n",
    "    if len(elementsByName) > 0:\n",
    "        elementValue = elementsByName[0].toxml().replace(\n",
    "            '<' + elementName + '>', '').replace('</' + elementName + '>', '')\n",
    "    return elementValue\n",
    "\n",
    "username = \"maksimp@sandiego.gov\"\n",
    "password = \"KrakatoaIsTheBestCoffeeShopEver2\"\n",
    "security_token = \"qn4CD0BK85EN8ZCXig2npOmN\"\n",
    "report_id = \"00Ot0000000mCVoEAM\"\n",
    "client_id = 'DataSD'\n",
    "sf_version = '29.0'\n",
    "domain = 'sdgov.my'\n",
    "\n",
    "def sf_login():\n",
    "    # Security Token Soap request body\n",
    "    login_soap_request_body = \"\"\"<?xml version=\"1.0\" encoding=\"utf-8\" ?>\n",
    "    <env:Envelope\n",
    "            xmlns:xsd=\"http://www.w3.org/2001/XMLSchema\"\n",
    "            xmlns:xsi=\"http://www.w3.org/2001/XMLSchema-instance\"\n",
    "            xmlns:env=\"http://schemas.xmlsoap.org/soap/envelope/\"\n",
    "            xmlns:urn=\"urn:partner.soap.sforce.com\">\n",
    "        <env:Header>\n",
    "            <urn:CallOptions>\n",
    "                <urn:client>{client_id}</urn:client>\n",
    "                <urn:defaultNamespace>sf</urn:defaultNamespace>\n",
    "            </urn:CallOptions>\n",
    "        </env:Header>\n",
    "        <env:Body>\n",
    "            <n1:login xmlns:n1=\"urn:partner.soap.sforce.com\">\n",
    "                <n1:username>{username}</n1:username>\n",
    "                <n1:password>{password}{token}</n1:password>\n",
    "            </n1:login>\n",
    "        </env:Body>\n",
    "    </env:Envelope>\"\"\".format(\n",
    "        username=username, password=password, token=security_token,\n",
    "        client_id=client_id)\n",
    "\n",
    "    soap_url = 'https://{domain}.salesforce.com/services/Soap/u/{sf_version}'\n",
    "\n",
    "    soap_url = soap_url.format(domain=domain, sf_version=sf_version)\n",
    "\n",
    "    login_soap_request_headers = {\n",
    "        'content-type': 'text/xml',\n",
    "        'charset': 'UTF-8',\n",
    "        'SOAPAction': 'login'\n",
    "    }\n",
    "    response = requests.post(\n",
    "            soap_url, login_soap_request_body, headers=login_soap_request_headers)\n",
    "\n",
    "    if response.status_code != 200:\n",
    "        raise Exception(\"Login Failed\")\n",
    "    \n",
    "    session_id = getUniqueElementValueFromXmlString(\n",
    "        response.content, 'sessionId')\n",
    "\n",
    "    return session_id\n"
   ]
  },
  {
   "cell_type": "code",
   "execution_count": 21,
   "metadata": {
    "collapsed": false
   },
   "outputs": [
    {
     "name": "stdout",
     "output_type": "stream",
     "text": [
      "get sid  00D61000000YoZw!AR8AQCUqar59Cq6gurNg6Neye6kO7wi.viZkUDe1_P8jsiJglGXl3pX_RvvoNVouHPyhXrPOyVaiF4w0RqwGXJ_lnfoOuCbj\n"
     ]
    }
   ],
   "source": [
    "\n",
    "sf = sf_login()\n",
    "\n",
    "print \"get sid \", sf\n",
    "\n",
    "\n"
   ]
  },
  {
   "cell_type": "code",
   "execution_count": null,
   "metadata": {
    "collapsed": true
   },
   "outputs": [],
   "source": [
    "d = requests.get(\n",
    "    \"https://sdgov.my.salesforce.com/{}?view=d&snip&export=1&enc=UTF-8&xf=csv\".format(report_id),\n",
    "                  headers = sf.headers, cookies = {'sid' : sf})\n",
    "\n",
    "lines = d.content.splitlines()\n",
    "reader = csv.reader(lines)\n",
    "data = list(reader)\n",
    "data = data[:-7]\n",
    "df = pd.DataFrame(data)\n",
    "df.columns = df.iloc[0]\n",
    "df = df.drop(0)\n",
    "\n",
    "df.shape"
   ]
  }
 ],
 "metadata": {
  "kernelspec": {
   "display_name": "Python 2",
   "language": "python",
   "name": "python2"
  },
  "language_info": {
   "codemirror_mode": {
    "name": "ipython",
    "version": 2
   },
   "file_extension": ".py",
   "mimetype": "text/x-python",
   "name": "python",
   "nbconvert_exporter": "python",
   "pygments_lexer": "ipython2",
   "version": "2.7.9"
  }
 },
 "nbformat": 4,
 "nbformat_minor": 2
}
