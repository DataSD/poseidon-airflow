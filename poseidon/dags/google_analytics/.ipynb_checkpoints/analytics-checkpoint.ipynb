{
 "cells": [
  {
   "cell_type": "code",
   "execution_count": 56,
   "metadata": {},
   "outputs": [],
   "source": [
    "import pandas as pd\n",
    "from apiclient.discovery import build\n",
    "from oauth2client.service_account import ServiceAccountCredentials"
   ]
  },
  {
   "cell_type": "code",
   "execution_count": 57,
   "metadata": {},
   "outputs": [],
   "source": [
    "import pprint\n",
    "import csv"
   ]
  },
  {
   "cell_type": "code",
   "execution_count": 58,
   "metadata": {},
   "outputs": [],
   "source": [
    "KEY_FILE_LOCATION = 'client_secrets_v4.json'"
   ]
  },
  {
   "cell_type": "code",
   "execution_count": 59,
   "metadata": {},
   "outputs": [],
   "source": [
    "SCOPES = ['https://www.googleapis.com/auth/analytics.readonly']"
   ]
  },
  {
   "cell_type": "code",
   "execution_count": 60,
   "metadata": {},
   "outputs": [],
   "source": [
    "credentials = ServiceAccountCredentials.from_json_keyfile_name(\n",
    "      KEY_FILE_LOCATION, SCOPES)"
   ]
  },
  {
   "cell_type": "code",
   "execution_count": 61,
   "metadata": {},
   "outputs": [],
   "source": [
    "analytics = build('analyticsreporting', 'v4', credentials=credentials)"
   ]
  },
  {
   "cell_type": "code",
   "execution_count": 62,
   "metadata": {},
   "outputs": [],
   "source": [
    "vids = ['124490020']\n",
    "r_names = ['users_sessions','traffic','devices','sessions']\n",
    "r_params = {'users_sessions':{'metrics':['ga:users','ga:sessions','ga:sessionDuration','ga:hits'],\n",
    "                              'dims':['ga:dateHour','ga:userType']},\n",
    "            'traffic':{'metrics':[],\n",
    "                       'dims':['ga:date','ga:source','ga:referralPath','ga:keyword']},\n",
    "            'devices':{'metrics':[],\n",
    "                       'dims':['ga:date','ga:deviceCategory','ga:browser','ga:browserVersion','ga:operatingSystem']},\n",
    "            'sessions':{'metrics':['ga:entrances','ga:exits','ga:uniquePageviews','ga:avgTimeOnPage','ga:pageviews'],\n",
    "                        'dims':['ga:date','ga:pagePath','ga:hostname']}}"
   ]
  },
  {
   "cell_type": "code",
   "execution_count": 63,
   "metadata": {},
   "outputs": [
    {
     "ename": "SyntaxError",
     "evalue": "invalid syntax (<ipython-input-63-b5a6ca944bb6>, line 19)",
     "output_type": "error",
     "traceback": [
      "\u001b[0;36m  File \u001b[0;32m\"<ipython-input-63-b5a6ca944bb6>\"\u001b[0;36m, line \u001b[0;32m19\u001b[0m\n\u001b[0;31m    }]}\u001b[0m\n\u001b[0m    ^\u001b[0m\n\u001b[0;31mSyntaxError\u001b[0m\u001b[0;31m:\u001b[0m invalid syntax\n"
     ]
    }
   ],
   "source": [
    "def runReports(startDate,endDate):\n",
    "    for vid in vids:\n",
    "        for name in r_names:\n",
    "            p = r_params.get(name)\n",
    "            metric_get = []\n",
    "            dim_get = []\n",
    "            for metric in p.get('metrics'):\n",
    "                metric_get.append({'expression': metric})\n",
    "            for dim in p.get('dims'):\n",
    "                dim_get.append({'name':dim})\n",
    "            body = {\n",
    "                'reportRequests': [\n",
    "                    {'viewId': vid,\n",
    "                    'dateRanges':[{'startDate': startDate, 'endDate': endDate}],\n",
    "                    'samplingLevel': 'LARGE',\n",
    "                    'metrics': metric_get,\n",
    "                    'dimensions': dim_get,\n",
    "                    'page_size': \n",
    "                    }]}\n",
    "            response = analytics.reports().batchGet(body=body).execute()\n",
    "            total_data = []\n",
    "            for i, report in enumerate(response.get('reports', [])):\n",
    "                rows = report.get('data', {}).get('rowCount', [])\n",
    "                if (rows > 1000):\n",
    "                    total_data.append(report.get('data', {}).get('rows', []))\n",
    "                    token = report.get('nextPageToken', {})\n",
    "                    body['reportRequests'][0]['pageToken'] = token\n",
    "                    pprint.pprint(body)"
   ]
  },
  {
   "cell_type": "code",
   "execution_count": null,
   "metadata": {},
   "outputs": [],
   "source": [
    "#runReports('2018-01-01','2018-12-31')"
   ]
  },
  {
   "cell_type": "code",
   "execution_count": 64,
   "metadata": {},
   "outputs": [],
   "source": [
    "start_date = '2016-01-01'\n",
    "end_date = '2016-12-31'\n",
    "response = analytics.reports().batchGet(\n",
    "    body={\n",
    "        'reportRequests': [\n",
    "            {'viewId': '124490020',\n",
    "            'dateRanges': [{'startDate': start_date,'endDate': end_date}],\n",
    "            'samplingLevel': 'LARGE',\n",
    "            'metrics': [{'expression': 'ga:users'},\n",
    "                        {'expression': 'ga:sessions'},\n",
    "                        {'expression': 'ga:sessionDuration'},\n",
    "                        {'expression':'ga:hits'},\n",
    "                       ],\n",
    "            'dimensions': [{'name':'ga:date'},\n",
    "                           {'name':'ga:hour'},\n",
    "                           {'name':'ga:userType'}],\n",
    "             'pageSize':100000\n",
    "            },\n",
    "            {'viewId': '124490020',\n",
    "            'dateRanges': [{'startDate': start_date,'endDate': end_date}],\n",
    "            'samplingLevel': 'LARGE',\n",
    "            'metrics': [{'expression': 'ga:sessions'}],\n",
    "            'dimensions': [{'name':'ga:date'},\n",
    "                           {'name':'ga:source'},\n",
    "                           {'name':'ga:referralPath'},\n",
    "                           {'name':'ga:keyword'}],\n",
    "             'pageSize':100000\n",
    "            },\n",
    "            {'viewId': '124490020',\n",
    "            'dateRanges': [{'startDate': start_date,'endDate': end_date}],\n",
    "            'samplingLevel': 'LARGE',\n",
    "            'metrics': [{'expression': 'ga:sessions'}],\n",
    "            'dimensions': [{'name':'ga:date'},\n",
    "                           {'name':'ga:deviceCategory'},\n",
    "                           {'name':'ga:browser'},\n",
    "                           {'name':'ga:browserVersion'},\n",
    "                           {'name':'ga:operatingSystem'}],\n",
    "             'pageSize':100000\n",
    "            },\n",
    "            {'viewId': '124490020',\n",
    "            'dateRanges': [{'startDate': start_date,'endDate': end_date}],\n",
    "            'samplingLevel': 'LARGE',\n",
    "            'metrics': [{'expression':'ga:entrances'},\n",
    "                        {'expression':'ga:exits'},\n",
    "                        {'expression':'ga:uniquePageviews'},\n",
    "                        {'expression':'ga:avgTimeOnPage'},\n",
    "                        {'expression':'ga:pageviews'},\n",
    "                       ],\n",
    "            'dimensions': [{'name':'ga:date'},\n",
    "                           {'name':'ga:hostname'},\n",
    "                           {'name':'ga:pagePathLevel1'},\n",
    "                           {'name':'ga:pagePathLevel2'},\n",
    "                           {'name':'ga:pagePathLevel3'}\n",
    "                           ],\n",
    "             'pageSize':100000\n",
    "            }\n",
    "        ]}).execute()"
   ]
  },
  {
   "cell_type": "code",
   "execution_count": 65,
   "metadata": {},
   "outputs": [],
   "source": [
    "def getDimensions(report):\n",
    "    columnHeader = report.get('columnHeader', {})\n",
    "    dimensionHeaders = columnHeader.get('dimensions', [])\n",
    "    dim_no = len(dimensionHeaders)\n",
    "    data = report.get('data', {}).get('rows', [])\n",
    "    print(report.get('data', {}).get('rowCount', []))\n",
    "    df_rows = []\n",
    "    for d in data:\n",
    "        dimensions = d['dimensions']\n",
    "        dict_row = {}\n",
    "        for i in range(dim_no):\n",
    "            dict_row[dimensionHeaders[i]] = dimensions[i]\n",
    "        df_rows.append(dict_row)\n",
    "        \n",
    "    df = pd.DataFrame(df_rows,columns=dimensionHeaders)\n",
    "    return df"
   ]
  },
  {
   "cell_type": "code",
   "execution_count": 66,
   "metadata": {},
   "outputs": [],
   "source": [
    "def getMetrics(report):\n",
    "    columnHeader = report.get('columnHeader', {})\n",
    "    metricHeaders = columnHeader.get('metricHeader', {}).get('metricHeaderEntries', [])\n",
    "    metricHeadersList = []\n",
    "    for metric in metricHeaders:\n",
    "        metricHeadersList.append(metric['name'])\n",
    "    met_no = len(metricHeadersList)\n",
    "    data = report.get('data', {}).get('rows', [])\n",
    "    df_rows = []\n",
    "    for d in data:\n",
    "        metrics = d['metrics'][0]['values']\n",
    "        dict_row = {}\n",
    "        for i in range(met_no):\n",
    "            dict_row[metricHeadersList[i]] = metrics[i]\n",
    "        df_rows.append(dict_row)\n",
    "        \n",
    "    df = pd.DataFrame(df_rows,columns=metricHeadersList)\n",
    "    return df"
   ]
  },
  {
   "cell_type": "code",
   "execution_count": 67,
   "metadata": {},
   "outputs": [
    {
     "name": "stdout",
     "output_type": "stream",
     "text": [
      "[]\n",
      "[]\n",
      "[]\n",
      "[]\n"
     ]
    }
   ],
   "source": [
    "reports = []\n",
    "for i, report in enumerate(response.get('reports', [])):\n",
    "    dims = getDimensions(report)\n",
    "    mets = getMetrics(report)\n",
    "    df = pd.merge(dims,mets,how=\"left\",left_index=True,right_index=True)\n",
    "    final_df = df\n",
    "    reports.append(final_df)"
   ]
  },
  {
   "cell_type": "code",
   "execution_count": 68,
   "metadata": {},
   "outputs": [],
   "source": [
    "users_sessions_report = reports[0]\n",
    "traffic_report = reports[1]\n",
    "devices_report = reports[2]\n",
    "pages_report = reports[3]"
   ]
  },
  {
   "cell_type": "code",
   "execution_count": 69,
   "metadata": {},
   "outputs": [
    {
     "data": {
      "text/plain": [
       "(0, 7)"
      ]
     },
     "execution_count": 69,
     "metadata": {},
     "output_type": "execute_result"
    }
   ],
   "source": [
    "users_sessions_report.shape"
   ]
  },
  {
   "cell_type": "code",
   "execution_count": 70,
   "metadata": {},
   "outputs": [
    {
     "data": {
      "text/plain": [
       "(0, 5)"
      ]
     },
     "execution_count": 70,
     "metadata": {},
     "output_type": "execute_result"
    }
   ],
   "source": [
    "traffic_report.shape"
   ]
  },
  {
   "cell_type": "code",
   "execution_count": 71,
   "metadata": {},
   "outputs": [
    {
     "data": {
      "text/plain": [
       "(0, 6)"
      ]
     },
     "execution_count": 71,
     "metadata": {},
     "output_type": "execute_result"
    }
   ],
   "source": [
    "devices_report.shape"
   ]
  },
  {
   "cell_type": "code",
   "execution_count": 72,
   "metadata": {},
   "outputs": [
    {
     "data": {
      "text/plain": [
       "(0, 10)"
      ]
     },
     "execution_count": 72,
     "metadata": {},
     "output_type": "execute_result"
    }
   ],
   "source": [
    "pages_report.shape"
   ]
  },
  {
   "cell_type": "code",
   "execution_count": 73,
   "metadata": {},
   "outputs": [
    {
     "data": {
      "text/html": [
       "<div>\n",
       "<style scoped>\n",
       "    .dataframe tbody tr th:only-of-type {\n",
       "        vertical-align: middle;\n",
       "    }\n",
       "\n",
       "    .dataframe tbody tr th {\n",
       "        vertical-align: top;\n",
       "    }\n",
       "\n",
       "    .dataframe thead th {\n",
       "        text-align: right;\n",
       "    }\n",
       "</style>\n",
       "<table border=\"1\" class=\"dataframe\">\n",
       "  <thead>\n",
       "    <tr style=\"text-align: right;\">\n",
       "      <th></th>\n",
       "      <th>ga:date</th>\n",
       "      <th>ga:hour</th>\n",
       "      <th>ga:userType</th>\n",
       "      <th>ga:users</th>\n",
       "      <th>ga:sessions</th>\n",
       "      <th>ga:sessionDuration</th>\n",
       "      <th>ga:hits</th>\n",
       "    </tr>\n",
       "  </thead>\n",
       "  <tbody>\n",
       "  </tbody>\n",
       "</table>\n",
       "</div>"
      ],
      "text/plain": [
       "Empty DataFrame\n",
       "Columns: [ga:date, ga:hour, ga:userType, ga:users, ga:sessions, ga:sessionDuration, ga:hits]\n",
       "Index: []"
      ]
     },
     "execution_count": 73,
     "metadata": {},
     "output_type": "execute_result"
    }
   ],
   "source": [
    "users_sessions_report.head()"
   ]
  },
  {
   "cell_type": "code",
   "execution_count": 74,
   "metadata": {},
   "outputs": [],
   "source": [
    "users_sessions_report.columns = ['date','hour','user_type','users','sessions','session_duration','hits']"
   ]
  },
  {
   "cell_type": "code",
   "execution_count": 75,
   "metadata": {},
   "outputs": [
    {
     "data": {
      "text/html": [
       "<div>\n",
       "<style scoped>\n",
       "    .dataframe tbody tr th:only-of-type {\n",
       "        vertical-align: middle;\n",
       "    }\n",
       "\n",
       "    .dataframe tbody tr th {\n",
       "        vertical-align: top;\n",
       "    }\n",
       "\n",
       "    .dataframe thead th {\n",
       "        text-align: right;\n",
       "    }\n",
       "</style>\n",
       "<table border=\"1\" class=\"dataframe\">\n",
       "  <thead>\n",
       "    <tr style=\"text-align: right;\">\n",
       "      <th></th>\n",
       "      <th>ga:date</th>\n",
       "      <th>ga:source</th>\n",
       "      <th>ga:referralPath</th>\n",
       "      <th>ga:keyword</th>\n",
       "      <th>ga:sessions</th>\n",
       "    </tr>\n",
       "  </thead>\n",
       "  <tbody>\n",
       "  </tbody>\n",
       "</table>\n",
       "</div>"
      ],
      "text/plain": [
       "Empty DataFrame\n",
       "Columns: [ga:date, ga:source, ga:referralPath, ga:keyword, ga:sessions]\n",
       "Index: []"
      ]
     },
     "execution_count": 75,
     "metadata": {},
     "output_type": "execute_result"
    }
   ],
   "source": [
    "traffic_report.head()"
   ]
  },
  {
   "cell_type": "code",
   "execution_count": 76,
   "metadata": {},
   "outputs": [],
   "source": [
    "traffic_report.columns = ['date','referral_source','referral_path','keyword','sessions']"
   ]
  },
  {
   "cell_type": "code",
   "execution_count": 77,
   "metadata": {},
   "outputs": [
    {
     "data": {
      "text/html": [
       "<div>\n",
       "<style scoped>\n",
       "    .dataframe tbody tr th:only-of-type {\n",
       "        vertical-align: middle;\n",
       "    }\n",
       "\n",
       "    .dataframe tbody tr th {\n",
       "        vertical-align: top;\n",
       "    }\n",
       "\n",
       "    .dataframe thead th {\n",
       "        text-align: right;\n",
       "    }\n",
       "</style>\n",
       "<table border=\"1\" class=\"dataframe\">\n",
       "  <thead>\n",
       "    <tr style=\"text-align: right;\">\n",
       "      <th></th>\n",
       "      <th>ga:date</th>\n",
       "      <th>ga:deviceCategory</th>\n",
       "      <th>ga:browser</th>\n",
       "      <th>ga:browserVersion</th>\n",
       "      <th>ga:operatingSystem</th>\n",
       "      <th>ga:sessions</th>\n",
       "    </tr>\n",
       "  </thead>\n",
       "  <tbody>\n",
       "  </tbody>\n",
       "</table>\n",
       "</div>"
      ],
      "text/plain": [
       "Empty DataFrame\n",
       "Columns: [ga:date, ga:deviceCategory, ga:browser, ga:browserVersion, ga:operatingSystem, ga:sessions]\n",
       "Index: []"
      ]
     },
     "execution_count": 77,
     "metadata": {},
     "output_type": "execute_result"
    }
   ],
   "source": [
    "devices_report.head()"
   ]
  },
  {
   "cell_type": "code",
   "execution_count": 78,
   "metadata": {},
   "outputs": [],
   "source": [
    "devices_report.columns = ['date','device_cat','browser','browser_version','op_system','sessions']"
   ]
  },
  {
   "cell_type": "code",
   "execution_count": 79,
   "metadata": {},
   "outputs": [
    {
     "data": {
      "text/html": [
       "<div>\n",
       "<style scoped>\n",
       "    .dataframe tbody tr th:only-of-type {\n",
       "        vertical-align: middle;\n",
       "    }\n",
       "\n",
       "    .dataframe tbody tr th {\n",
       "        vertical-align: top;\n",
       "    }\n",
       "\n",
       "    .dataframe thead th {\n",
       "        text-align: right;\n",
       "    }\n",
       "</style>\n",
       "<table border=\"1\" class=\"dataframe\">\n",
       "  <thead>\n",
       "    <tr style=\"text-align: right;\">\n",
       "      <th></th>\n",
       "      <th>ga:date</th>\n",
       "      <th>ga:hostname</th>\n",
       "      <th>ga:pagePathLevel1</th>\n",
       "      <th>ga:pagePathLevel2</th>\n",
       "      <th>ga:pagePathLevel3</th>\n",
       "      <th>ga:entrances</th>\n",
       "      <th>ga:exits</th>\n",
       "      <th>ga:uniquePageviews</th>\n",
       "      <th>ga:avgTimeOnPage</th>\n",
       "      <th>ga:pageviews</th>\n",
       "    </tr>\n",
       "  </thead>\n",
       "  <tbody>\n",
       "  </tbody>\n",
       "</table>\n",
       "</div>"
      ],
      "text/plain": [
       "Empty DataFrame\n",
       "Columns: [ga:date, ga:hostname, ga:pagePathLevel1, ga:pagePathLevel2, ga:pagePathLevel3, ga:entrances, ga:exits, ga:uniquePageviews, ga:avgTimeOnPage, ga:pageviews]\n",
       "Index: []"
      ]
     },
     "execution_count": 79,
     "metadata": {},
     "output_type": "execute_result"
    }
   ],
   "source": [
    "pages_report.head()"
   ]
  },
  {
   "cell_type": "code",
   "execution_count": 80,
   "metadata": {},
   "outputs": [],
   "source": [
    "pages_report.columns = ['date','hostname','page_path_1','page_path_2','page_path_3','entrances','exits','unique_pageviews','avg_time_on_page','pageviews']"
   ]
  },
  {
   "cell_type": "code",
   "execution_count": 81,
   "metadata": {},
   "outputs": [],
   "source": [
    "users_sessions_report['date'] = pd.to_datetime(users_sessions_report['date'])\n",
    "traffic_report['date'] = pd.to_datetime(traffic_report['date'])\n",
    "devices_report['date'] = pd.to_datetime(devices_report['date'])\n",
    "pages_report['date'] = pd.to_datetime(pages_report['date'])"
   ]
  },
  {
   "cell_type": "code",
   "execution_count": 82,
   "metadata": {},
   "outputs": [],
   "source": [
    "users_sessions_report.to_csv('~/Code/docker-airflow/data/prod/portal_users_sessions_2016_datasd.csv',index=False,date_format=\"%Y-%m-%d\")"
   ]
  },
  {
   "cell_type": "code",
   "execution_count": 83,
   "metadata": {},
   "outputs": [],
   "source": [
    "traffic_report.to_csv('~/Code/docker-airflow/data/prod/portal_traffic_sources_2016_datasd.csv',index=False,date_format=\"%Y-%m-%d\")"
   ]
  },
  {
   "cell_type": "code",
   "execution_count": 84,
   "metadata": {},
   "outputs": [],
   "source": [
    "devices_report.to_csv('~/Code/docker-airflow/data/prod/portal_devices_platforms_2016_datasd.csv',index=False,date_format=\"%Y-%m-%d\")"
   ]
  },
  {
   "cell_type": "code",
   "execution_count": 85,
   "metadata": {},
   "outputs": [],
   "source": [
    "pages_report.to_csv('~/Code/docker-airflow/data/prod/portal_pages_2016_datasd.csv',index=False,date_format=\"%Y-%m-%d\")"
   ]
  },
  {
   "cell_type": "code",
   "execution_count": null,
   "metadata": {},
   "outputs": [],
   "source": []
  }
 ],
 "metadata": {
  "kernelspec": {
   "display_name": "Python 3",
   "language": "python",
   "name": "python3"
  },
  "language_info": {
   "codemirror_mode": {
    "name": "ipython",
    "version": 3
   },
   "file_extension": ".py",
   "mimetype": "text/x-python",
   "name": "python",
   "nbconvert_exporter": "python",
   "pygments_lexer": "ipython3",
   "version": "3.6.4"
  }
 },
 "nbformat": 4,
 "nbformat_minor": 2
}
