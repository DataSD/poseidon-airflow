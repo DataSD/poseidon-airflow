{
 "cells": [
  {
   "cell_type": "code",
   "execution_count": 1,
   "metadata": {},
   "outputs": [],
   "source": [
    "import pandas as pd\n",
    "from apiclient.discovery import build\n",
    "from oauth2client.service_account import ServiceAccountCredentials"
   ]
  },
  {
   "cell_type": "code",
   "execution_count": 2,
   "metadata": {},
   "outputs": [],
   "source": [
    "import pprint\n",
    "import csv"
   ]
  },
  {
   "cell_type": "code",
   "execution_count": 3,
   "metadata": {},
   "outputs": [],
   "source": [
    "KEY_FILE_LOCATION = 'client_secrets_v4.json'"
   ]
  },
  {
   "cell_type": "code",
   "execution_count": 4,
   "metadata": {},
   "outputs": [],
   "source": [
    "SCOPES = ['https://www.googleapis.com/auth/analytics.readonly']"
   ]
  },
  {
   "cell_type": "code",
   "execution_count": 5,
   "metadata": {},
   "outputs": [],
   "source": [
    "credentials = ServiceAccountCredentials.from_json_keyfile_name(\n",
    "      KEY_FILE_LOCATION, SCOPES)"
   ]
  },
  {
   "cell_type": "code",
   "execution_count": 6,
   "metadata": {},
   "outputs": [],
   "source": [
    "analytics = build('analyticsreporting', 'v4', credentials=credentials)"
   ]
  },
  {
   "cell_type": "code",
   "execution_count": 7,
   "metadata": {},
   "outputs": [],
   "source": [
    "view_ids = ['124490020','83386397']"
   ]
  },
  {
   "cell_type": "code",
   "execution_count": 9,
   "metadata": {},
   "outputs": [],
   "source": [
    "start_date = '2019-01-01'\n",
    "end_date = '2019-12-31'\n",
    "response = analytics.reports().batchGet(\n",
    "    body={\n",
    "        'reportRequests': [\n",
    "            {'viewId': view_ids[1],\n",
    "            'dateRanges': [{'startDate': start_date,'endDate': end_date}],\n",
    "            'samplingLevel': 'LARGE',\n",
    "            'metrics': [{'expression': 'ga:users'},\n",
    "                        {'expression': 'ga:sessions'},\n",
    "                        {'expression': 'ga:sessionDuration'},\n",
    "                        {'expression':'ga:hits'},\n",
    "                       ],\n",
    "            'dimensions': [{'name':'ga:date'},\n",
    "                           {'name':'ga:hour'},\n",
    "                           {'name':'ga:userType'}],\n",
    "             'pageSize':100000\n",
    "            },\n",
    "            {'viewId': view_ids[1],\n",
    "            'dateRanges': [{'startDate': start_date,'endDate': end_date}],\n",
    "            'samplingLevel': 'LARGE',\n",
    "            'metrics': [{'expression': 'ga:sessions'}],\n",
    "            'dimensions': [{'name':'ga:date'},\n",
    "                           {'name':'ga:source'},\n",
    "                           {'name':'ga:referralPath'},\n",
    "                           {'name':'ga:keyword'}],\n",
    "             'pageSize':100000\n",
    "            },\n",
    "            {'viewId': view_ids[1],\n",
    "            'dateRanges': [{'startDate': start_date,'endDate': end_date}],\n",
    "            'samplingLevel': 'LARGE',\n",
    "            'metrics': [{'expression': 'ga:sessions'}],\n",
    "            'dimensions': [{'name':'ga:date'},\n",
    "                           {'name':'ga:deviceCategory'},\n",
    "                           {'name':'ga:browser'},\n",
    "                           {'name':'ga:browserVersion'},\n",
    "                           {'name':'ga:operatingSystem'}],\n",
    "             'pageSize':100000\n",
    "            },\n",
    "            {'viewId': view_ids[1],\n",
    "            'dateRanges': [{'startDate': start_date,'endDate': end_date}],\n",
    "            'samplingLevel': 'LARGE',\n",
    "            'metrics': [{'expression':'ga:entrances'},\n",
    "                        {'expression':'ga:exits'},\n",
    "                        {'expression':'ga:uniquePageviews'},\n",
    "                        {'expression':'ga:avgTimeOnPage'},\n",
    "                        {'expression':'ga:pageviews'},\n",
    "                        {'expression': 'ga:users'}\n",
    "                       ],\n",
    "            'dimensions': [{'name':'ga:date'},\n",
    "                           {'name':'ga:hostname'},\n",
    "                           {'name':'ga:pagePathLevel1'},\n",
    "                           {'name':'ga:pagePathLevel2'},\n",
    "                           {'name':'ga:pagePathLevel3'}\n",
    "                           ],\n",
    "             'pageSize':100000\n",
    "            },\n",
    "            {'viewId': view_ids[1],\n",
    "            'dateRanges': [{'startDate': start_date,'endDate': end_date}],\n",
    "            'samplingLevel': 'LARGE',\n",
    "            'metrics': [{'expression':'ga:totalEvents'},\n",
    "                        {'expression':'ga:users'}\n",
    "                       ],\n",
    "            'dimensions': [{'name':'ga:date'},\n",
    "                           {'name':'ga:eventCategory'},\n",
    "                           {'name':'ga:eventAction'},\n",
    "                           {'name':'ga:eventLabel'}\n",
    "                           ],\n",
    "             'pageSize':100000\n",
    "            }\n",
    "        ]}).execute()"
   ]
  },
  {
   "cell_type": "code",
   "execution_count": 10,
   "metadata": {},
   "outputs": [],
   "source": [
    "def getDimensions(report):\n",
    "    columnHeader = report.get('columnHeader', {})\n",
    "    dimensionHeaders = columnHeader.get('dimensions', [])\n",
    "    dim_no = len(dimensionHeaders)\n",
    "    data = report.get('data', {}).get('rows', [])\n",
    "    print(report.get('data', {}).get('rowCount', []))\n",
    "    df_rows = []\n",
    "    for d in data:\n",
    "        dimensions = d['dimensions']\n",
    "        dict_row = {}\n",
    "        for i in range(dim_no):\n",
    "            dict_row[dimensionHeaders[i]] = dimensions[i]\n",
    "        df_rows.append(dict_row)\n",
    "        \n",
    "    df = pd.DataFrame(df_rows,columns=dimensionHeaders)\n",
    "    return df"
   ]
  },
  {
   "cell_type": "code",
   "execution_count": 11,
   "metadata": {},
   "outputs": [],
   "source": [
    "def getMetrics(report):\n",
    "    columnHeader = report.get('columnHeader', {})\n",
    "    metricHeaders = columnHeader.get('metricHeader', {}).get('metricHeaderEntries', [])\n",
    "    metricHeadersList = []\n",
    "    for metric in metricHeaders:\n",
    "        metricHeadersList.append(metric['name'])\n",
    "    met_no = len(metricHeadersList)\n",
    "    data = report.get('data', {}).get('rows', [])\n",
    "    df_rows = []\n",
    "    for d in data:\n",
    "        metrics = d['metrics'][0]['values']\n",
    "        dict_row = {}\n",
    "        for i in range(met_no):\n",
    "            dict_row[metricHeadersList[i]] = metrics[i]\n",
    "        df_rows.append(dict_row)\n",
    "        \n",
    "    df = pd.DataFrame(df_rows,columns=metricHeadersList)\n",
    "    return df"
   ]
  },
  {
   "cell_type": "code",
   "execution_count": 12,
   "metadata": {},
   "outputs": [
    {
     "name": "stdout",
     "output_type": "stream",
     "text": [
      "7490\n",
      "34319\n",
      "21455\n",
      "82590\n",
      "192\n"
     ]
    }
   ],
   "source": [
    "reports = []\n",
    "for i, report in enumerate(response.get('reports', [])):\n",
    "    dims = getDimensions(report)\n",
    "    mets = getMetrics(report)\n",
    "    df = pd.merge(dims,mets,how=\"left\",left_index=True,right_index=True)\n",
    "    final_df = df\n",
    "    reports.append(final_df)"
   ]
  },
  {
   "cell_type": "code",
   "execution_count": 13,
   "metadata": {},
   "outputs": [],
   "source": [
    "users_sessions_report = reports[0]\n",
    "traffic_report = reports[1]\n",
    "devices_report = reports[2]\n",
    "pages_report = reports[3]\n",
    "events_report = reports[4]"
   ]
  },
  {
   "cell_type": "code",
   "execution_count": 14,
   "metadata": {},
   "outputs": [
    {
     "data": {
      "text/plain": [
       "(7490, 7)"
      ]
     },
     "execution_count": 14,
     "metadata": {},
     "output_type": "execute_result"
    }
   ],
   "source": [
    "users_sessions_report.shape"
   ]
  },
  {
   "cell_type": "code",
   "execution_count": 15,
   "metadata": {},
   "outputs": [
    {
     "data": {
      "text/plain": [
       "(34319, 5)"
      ]
     },
     "execution_count": 15,
     "metadata": {},
     "output_type": "execute_result"
    }
   ],
   "source": [
    "traffic_report.shape"
   ]
  },
  {
   "cell_type": "code",
   "execution_count": 16,
   "metadata": {},
   "outputs": [
    {
     "data": {
      "text/plain": [
       "(21455, 6)"
      ]
     },
     "execution_count": 16,
     "metadata": {},
     "output_type": "execute_result"
    }
   ],
   "source": [
    "devices_report.shape"
   ]
  },
  {
   "cell_type": "code",
   "execution_count": 17,
   "metadata": {},
   "outputs": [
    {
     "data": {
      "text/plain": [
       "(82590, 11)"
      ]
     },
     "execution_count": 17,
     "metadata": {},
     "output_type": "execute_result"
    }
   ],
   "source": [
    "pages_report.shape"
   ]
  },
  {
   "cell_type": "code",
   "execution_count": 18,
   "metadata": {},
   "outputs": [
    {
     "data": {
      "text/html": [
       "<div>\n",
       "<style scoped>\n",
       "    .dataframe tbody tr th:only-of-type {\n",
       "        vertical-align: middle;\n",
       "    }\n",
       "\n",
       "    .dataframe tbody tr th {\n",
       "        vertical-align: top;\n",
       "    }\n",
       "\n",
       "    .dataframe thead th {\n",
       "        text-align: right;\n",
       "    }\n",
       "</style>\n",
       "<table border=\"1\" class=\"dataframe\">\n",
       "  <thead>\n",
       "    <tr style=\"text-align: right;\">\n",
       "      <th></th>\n",
       "      <th>ga:date</th>\n",
       "      <th>ga:hour</th>\n",
       "      <th>ga:userType</th>\n",
       "      <th>ga:users</th>\n",
       "      <th>ga:sessions</th>\n",
       "      <th>ga:sessionDuration</th>\n",
       "      <th>ga:hits</th>\n",
       "    </tr>\n",
       "  </thead>\n",
       "  <tbody>\n",
       "    <tr>\n",
       "      <th>0</th>\n",
       "      <td>20190101</td>\n",
       "      <td>00</td>\n",
       "      <td>New Visitor</td>\n",
       "      <td>749</td>\n",
       "      <td>749</td>\n",
       "      <td>26554.0</td>\n",
       "      <td>1066</td>\n",
       "    </tr>\n",
       "    <tr>\n",
       "      <th>1</th>\n",
       "      <td>20190101</td>\n",
       "      <td>00</td>\n",
       "      <td>Returning Visitor</td>\n",
       "      <td>144</td>\n",
       "      <td>144</td>\n",
       "      <td>5979.0</td>\n",
       "      <td>158</td>\n",
       "    </tr>\n",
       "    <tr>\n",
       "      <th>2</th>\n",
       "      <td>20190101</td>\n",
       "      <td>01</td>\n",
       "      <td>New Visitor</td>\n",
       "      <td>764</td>\n",
       "      <td>735</td>\n",
       "      <td>19595.0</td>\n",
       "      <td>1066</td>\n",
       "    </tr>\n",
       "    <tr>\n",
       "      <th>3</th>\n",
       "      <td>20190101</td>\n",
       "      <td>01</td>\n",
       "      <td>Returning Visitor</td>\n",
       "      <td>115</td>\n",
       "      <td>115</td>\n",
       "      <td>8328.0</td>\n",
       "      <td>231</td>\n",
       "    </tr>\n",
       "    <tr>\n",
       "      <th>4</th>\n",
       "      <td>20190101</td>\n",
       "      <td>02</td>\n",
       "      <td>New Visitor</td>\n",
       "      <td>605</td>\n",
       "      <td>605</td>\n",
       "      <td>3098.0</td>\n",
       "      <td>634</td>\n",
       "    </tr>\n",
       "  </tbody>\n",
       "</table>\n",
       "</div>"
      ],
      "text/plain": [
       "    ga:date ga:hour        ga:userType ga:users ga:sessions  \\\n",
       "0  20190101      00        New Visitor      749         749   \n",
       "1  20190101      00  Returning Visitor      144         144   \n",
       "2  20190101      01        New Visitor      764         735   \n",
       "3  20190101      01  Returning Visitor      115         115   \n",
       "4  20190101      02        New Visitor      605         605   \n",
       "\n",
       "  ga:sessionDuration ga:hits  \n",
       "0            26554.0    1066  \n",
       "1             5979.0     158  \n",
       "2            19595.0    1066  \n",
       "3             8328.0     231  \n",
       "4             3098.0     634  "
      ]
     },
     "execution_count": 18,
     "metadata": {},
     "output_type": "execute_result"
    }
   ],
   "source": [
    "users_sessions_report.head()"
   ]
  },
  {
   "cell_type": "code",
   "execution_count": 19,
   "metadata": {},
   "outputs": [],
   "source": [
    "users_sessions_report.columns = ['date','hour','user_type','users','sessions','session_duration','hits']"
   ]
  },
  {
   "cell_type": "code",
   "execution_count": 20,
   "metadata": {},
   "outputs": [
    {
     "data": {
      "text/html": [
       "<div>\n",
       "<style scoped>\n",
       "    .dataframe tbody tr th:only-of-type {\n",
       "        vertical-align: middle;\n",
       "    }\n",
       "\n",
       "    .dataframe tbody tr th {\n",
       "        vertical-align: top;\n",
       "    }\n",
       "\n",
       "    .dataframe thead th {\n",
       "        text-align: right;\n",
       "    }\n",
       "</style>\n",
       "<table border=\"1\" class=\"dataframe\">\n",
       "  <thead>\n",
       "    <tr style=\"text-align: right;\">\n",
       "      <th></th>\n",
       "      <th>ga:date</th>\n",
       "      <th>ga:source</th>\n",
       "      <th>ga:referralPath</th>\n",
       "      <th>ga:keyword</th>\n",
       "      <th>ga:sessions</th>\n",
       "    </tr>\n",
       "  </thead>\n",
       "  <tbody>\n",
       "    <tr>\n",
       "      <th>0</th>\n",
       "      <td>20190101</td>\n",
       "      <td>(direct)</td>\n",
       "      <td>(not set)</td>\n",
       "      <td>(not set)</td>\n",
       "      <td>21871</td>\n",
       "    </tr>\n",
       "    <tr>\n",
       "      <th>1</th>\n",
       "      <td>20190101</td>\n",
       "      <td>10news.com</td>\n",
       "      <td>/</td>\n",
       "      <td>(not set)</td>\n",
       "      <td>29</td>\n",
       "    </tr>\n",
       "    <tr>\n",
       "      <th>2</th>\n",
       "      <td>20190101</td>\n",
       "      <td>10news.com</td>\n",
       "      <td>/news/city-launches-app-to-help-customers-moni...</td>\n",
       "      <td>(not set)</td>\n",
       "      <td>14</td>\n",
       "    </tr>\n",
       "    <tr>\n",
       "      <th>3</th>\n",
       "      <td>20190101</td>\n",
       "      <td>agency.governmentjobs.com</td>\n",
       "      <td>//sandiego/default.cfm</td>\n",
       "      <td>(not set)</td>\n",
       "      <td>43</td>\n",
       "    </tr>\n",
       "    <tr>\n",
       "      <th>4</th>\n",
       "      <td>20190101</td>\n",
       "      <td>agency.governmentjobs.com</td>\n",
       "      <td>/sandiego/default.cfm</td>\n",
       "      <td>(not set)</td>\n",
       "      <td>115</td>\n",
       "    </tr>\n",
       "  </tbody>\n",
       "</table>\n",
       "</div>"
      ],
      "text/plain": [
       "    ga:date                  ga:source  \\\n",
       "0  20190101                   (direct)   \n",
       "1  20190101                 10news.com   \n",
       "2  20190101                 10news.com   \n",
       "3  20190101  agency.governmentjobs.com   \n",
       "4  20190101  agency.governmentjobs.com   \n",
       "\n",
       "                                     ga:referralPath ga:keyword ga:sessions  \n",
       "0                                          (not set)  (not set)       21871  \n",
       "1                                                  /  (not set)          29  \n",
       "2  /news/city-launches-app-to-help-customers-moni...  (not set)          14  \n",
       "3                             //sandiego/default.cfm  (not set)          43  \n",
       "4                              /sandiego/default.cfm  (not set)         115  "
      ]
     },
     "execution_count": 20,
     "metadata": {},
     "output_type": "execute_result"
    }
   ],
   "source": [
    "traffic_report.head()"
   ]
  },
  {
   "cell_type": "code",
   "execution_count": 21,
   "metadata": {},
   "outputs": [],
   "source": [
    "traffic_report.columns = ['date','referral_source','referral_path','keyword','sessions']"
   ]
  },
  {
   "cell_type": "code",
   "execution_count": 22,
   "metadata": {},
   "outputs": [
    {
     "data": {
      "text/html": [
       "<div>\n",
       "<style scoped>\n",
       "    .dataframe tbody tr th:only-of-type {\n",
       "        vertical-align: middle;\n",
       "    }\n",
       "\n",
       "    .dataframe tbody tr th {\n",
       "        vertical-align: top;\n",
       "    }\n",
       "\n",
       "    .dataframe thead th {\n",
       "        text-align: right;\n",
       "    }\n",
       "</style>\n",
       "<table border=\"1\" class=\"dataframe\">\n",
       "  <thead>\n",
       "    <tr style=\"text-align: right;\">\n",
       "      <th></th>\n",
       "      <th>ga:date</th>\n",
       "      <th>ga:deviceCategory</th>\n",
       "      <th>ga:browser</th>\n",
       "      <th>ga:browserVersion</th>\n",
       "      <th>ga:operatingSystem</th>\n",
       "      <th>ga:sessions</th>\n",
       "    </tr>\n",
       "  </thead>\n",
       "  <tbody>\n",
       "    <tr>\n",
       "      <th>0</th>\n",
       "      <td>20190101</td>\n",
       "      <td>desktop</td>\n",
       "      <td>Chrome</td>\n",
       "      <td>49.0.2623.112</td>\n",
       "      <td>Windows</td>\n",
       "      <td>29</td>\n",
       "    </tr>\n",
       "    <tr>\n",
       "      <th>1</th>\n",
       "      <td>20190101</td>\n",
       "      <td>desktop</td>\n",
       "      <td>Chrome</td>\n",
       "      <td>54.0.2840.71</td>\n",
       "      <td>Windows</td>\n",
       "      <td>14</td>\n",
       "    </tr>\n",
       "    <tr>\n",
       "      <th>2</th>\n",
       "      <td>20190101</td>\n",
       "      <td>desktop</td>\n",
       "      <td>Chrome</td>\n",
       "      <td>57.0.2987.133</td>\n",
       "      <td>Windows</td>\n",
       "      <td>14</td>\n",
       "    </tr>\n",
       "    <tr>\n",
       "      <th>3</th>\n",
       "      <td>20190101</td>\n",
       "      <td>desktop</td>\n",
       "      <td>Chrome</td>\n",
       "      <td>58.0.2988.0</td>\n",
       "      <td>Windows</td>\n",
       "      <td>14</td>\n",
       "    </tr>\n",
       "    <tr>\n",
       "      <th>4</th>\n",
       "      <td>20190101</td>\n",
       "      <td>desktop</td>\n",
       "      <td>Chrome</td>\n",
       "      <td>63.0.3239.132</td>\n",
       "      <td>Windows</td>\n",
       "      <td>14</td>\n",
       "    </tr>\n",
       "  </tbody>\n",
       "</table>\n",
       "</div>"
      ],
      "text/plain": [
       "    ga:date ga:deviceCategory ga:browser ga:browserVersion ga:operatingSystem  \\\n",
       "0  20190101           desktop     Chrome     49.0.2623.112            Windows   \n",
       "1  20190101           desktop     Chrome      54.0.2840.71            Windows   \n",
       "2  20190101           desktop     Chrome     57.0.2987.133            Windows   \n",
       "3  20190101           desktop     Chrome       58.0.2988.0            Windows   \n",
       "4  20190101           desktop     Chrome     63.0.3239.132            Windows   \n",
       "\n",
       "  ga:sessions  \n",
       "0          29  \n",
       "1          14  \n",
       "2          14  \n",
       "3          14  \n",
       "4          14  "
      ]
     },
     "execution_count": 22,
     "metadata": {},
     "output_type": "execute_result"
    }
   ],
   "source": [
    "devices_report.head()"
   ]
  },
  {
   "cell_type": "code",
   "execution_count": 23,
   "metadata": {},
   "outputs": [],
   "source": [
    "devices_report.columns = ['date','device_cat','browser','browser_version','op_system','sessions']"
   ]
  },
  {
   "cell_type": "code",
   "execution_count": 24,
   "metadata": {},
   "outputs": [
    {
     "data": {
      "text/html": [
       "<div>\n",
       "<style scoped>\n",
       "    .dataframe tbody tr th:only-of-type {\n",
       "        vertical-align: middle;\n",
       "    }\n",
       "\n",
       "    .dataframe tbody tr th {\n",
       "        vertical-align: top;\n",
       "    }\n",
       "\n",
       "    .dataframe thead th {\n",
       "        text-align: right;\n",
       "    }\n",
       "</style>\n",
       "<table border=\"1\" class=\"dataframe\">\n",
       "  <thead>\n",
       "    <tr style=\"text-align: right;\">\n",
       "      <th></th>\n",
       "      <th>ga:date</th>\n",
       "      <th>ga:hostname</th>\n",
       "      <th>ga:pagePathLevel1</th>\n",
       "      <th>ga:pagePathLevel2</th>\n",
       "      <th>ga:pagePathLevel3</th>\n",
       "      <th>ga:entrances</th>\n",
       "      <th>ga:exits</th>\n",
       "      <th>ga:uniquePageviews</th>\n",
       "      <th>ga:avgTimeOnPage</th>\n",
       "      <th>ga:pageviews</th>\n",
       "      <th>ga:users</th>\n",
       "    </tr>\n",
       "  </thead>\n",
       "  <tbody>\n",
       "    <tr>\n",
       "      <th>0</th>\n",
       "      <td>20190101</td>\n",
       "      <td>apps.sandiego.gov</td>\n",
       "      <td>/citizenacct/</td>\n",
       "      <td>/reset/</td>\n",
       "      <td>/doReset.do</td>\n",
       "      <td>0</td>\n",
       "      <td>0</td>\n",
       "      <td>14</td>\n",
       "      <td>3.589905362776025</td>\n",
       "      <td>317</td>\n",
       "      <td>14</td>\n",
       "    </tr>\n",
       "    <tr>\n",
       "      <th>1</th>\n",
       "      <td>20190101</td>\n",
       "      <td>apps.sandiego.gov</td>\n",
       "      <td>/citizenacct/</td>\n",
       "      <td>/reset/</td>\n",
       "      <td>/setupHint.do</td>\n",
       "      <td>0</td>\n",
       "      <td>0</td>\n",
       "      <td>14</td>\n",
       "      <td>14.483290488431876</td>\n",
       "      <td>389</td>\n",
       "      <td>14</td>\n",
       "    </tr>\n",
       "    <tr>\n",
       "      <th>2</th>\n",
       "      <td>20190101</td>\n",
       "      <td>apps.sandiego.gov</td>\n",
       "      <td>/citizenacct/</td>\n",
       "      <td>/reset/</td>\n",
       "      <td>/toMain.do</td>\n",
       "      <td>0</td>\n",
       "      <td>0</td>\n",
       "      <td>14</td>\n",
       "      <td>2.121212121212121</td>\n",
       "      <td>231</td>\n",
       "      <td>14</td>\n",
       "    </tr>\n",
       "    <tr>\n",
       "      <th>3</th>\n",
       "      <td>20190101</td>\n",
       "      <td>apps.sandiego.gov</td>\n",
       "      <td>/citizenacct/</td>\n",
       "      <td>/signup/</td>\n",
       "      <td>/addUser.do</td>\n",
       "      <td>0</td>\n",
       "      <td>14</td>\n",
       "      <td>14</td>\n",
       "      <td>17.208333333333332</td>\n",
       "      <td>86</td>\n",
       "      <td>14</td>\n",
       "    </tr>\n",
       "    <tr>\n",
       "      <th>4</th>\n",
       "      <td>20190101</td>\n",
       "      <td>www.sandiego.gov</td>\n",
       "      <td>/airports/</td>\n",
       "      <td>/brown/</td>\n",
       "      <td>/brownfaq</td>\n",
       "      <td>0</td>\n",
       "      <td>14</td>\n",
       "      <td>14</td>\n",
       "      <td>0.0</td>\n",
       "      <td>14</td>\n",
       "      <td>14</td>\n",
       "    </tr>\n",
       "  </tbody>\n",
       "</table>\n",
       "</div>"
      ],
      "text/plain": [
       "    ga:date        ga:hostname ga:pagePathLevel1 ga:pagePathLevel2  \\\n",
       "0  20190101  apps.sandiego.gov     /citizenacct/           /reset/   \n",
       "1  20190101  apps.sandiego.gov     /citizenacct/           /reset/   \n",
       "2  20190101  apps.sandiego.gov     /citizenacct/           /reset/   \n",
       "3  20190101  apps.sandiego.gov     /citizenacct/          /signup/   \n",
       "4  20190101   www.sandiego.gov        /airports/           /brown/   \n",
       "\n",
       "  ga:pagePathLevel3 ga:entrances ga:exits ga:uniquePageviews  \\\n",
       "0       /doReset.do            0        0                 14   \n",
       "1     /setupHint.do            0        0                 14   \n",
       "2        /toMain.do            0        0                 14   \n",
       "3       /addUser.do            0       14                 14   \n",
       "4         /brownfaq            0       14                 14   \n",
       "\n",
       "     ga:avgTimeOnPage ga:pageviews ga:users  \n",
       "0   3.589905362776025          317       14  \n",
       "1  14.483290488431876          389       14  \n",
       "2   2.121212121212121          231       14  \n",
       "3  17.208333333333332           86       14  \n",
       "4                 0.0           14       14  "
      ]
     },
     "execution_count": 24,
     "metadata": {},
     "output_type": "execute_result"
    }
   ],
   "source": [
    "pages_report.head()"
   ]
  },
  {
   "cell_type": "code",
   "execution_count": 25,
   "metadata": {},
   "outputs": [],
   "source": [
    "pages_report.columns = ['date','hostname','page_path_1','page_path_2','page_path_3','entrances','exits','unique_pageviews','avg_time_on_page','pageviews','users']"
   ]
  },
  {
   "cell_type": "code",
   "execution_count": 26,
   "metadata": {},
   "outputs": [
    {
     "data": {
      "text/html": [
       "<div>\n",
       "<style scoped>\n",
       "    .dataframe tbody tr th:only-of-type {\n",
       "        vertical-align: middle;\n",
       "    }\n",
       "\n",
       "    .dataframe tbody tr th {\n",
       "        vertical-align: top;\n",
       "    }\n",
       "\n",
       "    .dataframe thead th {\n",
       "        text-align: right;\n",
       "    }\n",
       "</style>\n",
       "<table border=\"1\" class=\"dataframe\">\n",
       "  <thead>\n",
       "    <tr style=\"text-align: right;\">\n",
       "      <th></th>\n",
       "      <th>ga:date</th>\n",
       "      <th>ga:eventCategory</th>\n",
       "      <th>ga:eventAction</th>\n",
       "      <th>ga:eventLabel</th>\n",
       "      <th>ga:totalEvents</th>\n",
       "      <th>ga:users</th>\n",
       "    </tr>\n",
       "  </thead>\n",
       "  <tbody>\n",
       "    <tr>\n",
       "      <th>0</th>\n",
       "      <td>20190102</td>\n",
       "      <td>ShareThis</td>\n",
       "      <td>facebook</td>\n",
       "      <td>https://www.sandiego.gov/blog/learn-bicycle-re...</td>\n",
       "      <td>1</td>\n",
       "      <td>1</td>\n",
       "    </tr>\n",
       "    <tr>\n",
       "      <th>1</th>\n",
       "      <td>20190102</td>\n",
       "      <td>ShareThis</td>\n",
       "      <td>facebook</td>\n",
       "      <td>https://www.sandiego.gov/blog/trash-pick-up-sc...</td>\n",
       "      <td>1</td>\n",
       "      <td>1</td>\n",
       "    </tr>\n",
       "    <tr>\n",
       "      <th>2</th>\n",
       "      <td>20190102</td>\n",
       "      <td>ShareThis</td>\n",
       "      <td>twitter</td>\n",
       "      <td>https://www.sandiego.gov/stadium/eventscalendar</td>\n",
       "      <td>1</td>\n",
       "      <td>1</td>\n",
       "    </tr>\n",
       "    <tr>\n",
       "      <th>3</th>\n",
       "      <td>20190104</td>\n",
       "      <td>ShareThis</td>\n",
       "      <td>linkedin</td>\n",
       "      <td>https://www.sandiego.gov/attractions</td>\n",
       "      <td>1</td>\n",
       "      <td>1</td>\n",
       "    </tr>\n",
       "    <tr>\n",
       "      <th>4</th>\n",
       "      <td>20190107</td>\n",
       "      <td>ShareThis</td>\n",
       "      <td>facebook</td>\n",
       "      <td>https://www.sandiego.gov/blog/find-art-share-art</td>\n",
       "      <td>1</td>\n",
       "      <td>1</td>\n",
       "    </tr>\n",
       "  </tbody>\n",
       "</table>\n",
       "</div>"
      ],
      "text/plain": [
       "    ga:date ga:eventCategory ga:eventAction  \\\n",
       "0  20190102        ShareThis       facebook   \n",
       "1  20190102        ShareThis       facebook   \n",
       "2  20190102        ShareThis        twitter   \n",
       "3  20190104        ShareThis       linkedin   \n",
       "4  20190107        ShareThis       facebook   \n",
       "\n",
       "                                       ga:eventLabel ga:totalEvents ga:users  \n",
       "0  https://www.sandiego.gov/blog/learn-bicycle-re...              1        1  \n",
       "1  https://www.sandiego.gov/blog/trash-pick-up-sc...              1        1  \n",
       "2    https://www.sandiego.gov/stadium/eventscalendar              1        1  \n",
       "3               https://www.sandiego.gov/attractions              1        1  \n",
       "4   https://www.sandiego.gov/blog/find-art-share-art              1        1  "
      ]
     },
     "execution_count": 26,
     "metadata": {},
     "output_type": "execute_result"
    }
   ],
   "source": [
    "events_report.head()"
   ]
  },
  {
   "cell_type": "code",
   "execution_count": 27,
   "metadata": {},
   "outputs": [],
   "source": [
    "events_report.columns = ['date','event_category','event_action','event_label','total_events','users']"
   ]
  },
  {
   "cell_type": "code",
   "execution_count": 28,
   "metadata": {},
   "outputs": [],
   "source": [
    "users_sessions_report['date'] = pd.to_datetime(users_sessions_report['date'])\n",
    "traffic_report['date'] = pd.to_datetime(traffic_report['date'])\n",
    "devices_report['date'] = pd.to_datetime(devices_report['date'])\n",
    "pages_report['date'] = pd.to_datetime(pages_report['date'])\n",
    "events_report['date'] = pd.to_datetime(events_report['date'])"
   ]
  },
  {
   "cell_type": "code",
   "execution_count": 29,
   "metadata": {},
   "outputs": [],
   "source": [
    "users_sessions_report.to_csv('~/Code/docker-airflow/data/prod/main_users_sessions_2019_datasd.csv',index=False,date_format=\"%Y-%m-%d\")"
   ]
  },
  {
   "cell_type": "code",
   "execution_count": 30,
   "metadata": {},
   "outputs": [],
   "source": [
    "traffic_report.to_csv('~/Code/docker-airflow/data/prod/main_traffic_sources_2019_datasd.csv',index=False,date_format=\"%Y-%m-%d\")"
   ]
  },
  {
   "cell_type": "code",
   "execution_count": 31,
   "metadata": {},
   "outputs": [],
   "source": [
    "devices_report.to_csv('~/Code/docker-airflow/data/prod/main_devices_platforms_2019_datasd.csv',index=False,date_format=\"%Y-%m-%d\")"
   ]
  },
  {
   "cell_type": "code",
   "execution_count": 32,
   "metadata": {},
   "outputs": [],
   "source": [
    "pages_report.to_csv('~/Code/docker-airflow/data/prod/main_pages_2019_datasd.csv',index=False,date_format=\"%Y-%m-%d\")"
   ]
  },
  {
   "cell_type": "code",
   "execution_count": 33,
   "metadata": {},
   "outputs": [],
   "source": [
    "events_report.to_csv('~/Code/docker-airflow/data/prod/main_events_2019_datasd.csv',index=False,date_format=\"%Y-%m-%d\")"
   ]
  },
  {
   "cell_type": "code",
   "execution_count": null,
   "metadata": {},
   "outputs": [],
   "source": []
  }
 ],
 "metadata": {
  "kernelspec": {
   "display_name": "Python 3",
   "language": "python",
   "name": "python3"
  },
  "language_info": {
   "codemirror_mode": {
    "name": "ipython",
    "version": 3
   },
   "file_extension": ".py",
   "mimetype": "text/x-python",
   "name": "python",
   "nbconvert_exporter": "python",
   "pygments_lexer": "ipython3",
   "version": "3.6.4"
  }
 },
 "nbformat": 4,
 "nbformat_minor": 2
}
