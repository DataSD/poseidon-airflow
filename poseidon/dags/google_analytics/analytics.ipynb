{
 "cells": [
  {
   "cell_type": "code",
   "execution_count": 56,
   "metadata": {},
   "outputs": [],
   "source": [
    "import pandas as pd\n",
    "from apiclient.discovery import build\n",
    "from oauth2client.service_account import ServiceAccountCredentials"
   ]
  },
  {
   "cell_type": "code",
   "execution_count": 57,
   "metadata": {},
   "outputs": [],
   "source": [
    "import pprint\n",
    "import csv"
   ]
  },
  {
   "cell_type": "code",
   "execution_count": 58,
   "metadata": {},
   "outputs": [],
   "source": [
    "KEY_FILE_LOCATION = 'client_secrets_v4.json'"
   ]
  },
  {
   "cell_type": "code",
   "execution_count": 59,
   "metadata": {},
   "outputs": [],
   "source": [
    "SCOPES = ['https://www.googleapis.com/auth/analytics.readonly']"
   ]
  },
  {
   "cell_type": "code",
   "execution_count": 60,
   "metadata": {},
   "outputs": [],
   "source": [
    "credentials = ServiceAccountCredentials.from_json_keyfile_name(\n",
    "      KEY_FILE_LOCATION, SCOPES)"
   ]
  },
  {
   "cell_type": "code",
   "execution_count": 61,
   "metadata": {},
   "outputs": [],
   "source": [
    "analytics = build('analyticsreporting', 'v4', credentials=credentials)"
   ]
  },
  {
   "cell_type": "code",
   "execution_count": 62,
   "metadata": {},
   "outputs": [],
   "source": [
    "vids = ['124490020']\n",
    "r_names = ['users_sessions','traffic','devices','sessions']\n",
    "r_params = {'users_sessions':{'metrics':['ga:users','ga:sessions','ga:sessionDuration','ga:hits'],\n",
    "                              'dims':['ga:dateHour','ga:userType']},\n",
    "            'traffic':{'metrics':[],\n",
    "                       'dims':['ga:date','ga:source','ga:referralPath','ga:keyword']},\n",
    "            'devices':{'metrics':[],\n",
    "                       'dims':['ga:date','ga:deviceCategory','ga:browser','ga:browserVersion','ga:operatingSystem']},\n",
    "            'sessions':{'metrics':['ga:entrances','ga:exits','ga:uniquePageviews','ga:avgTimeOnPage','ga:pageviews'],\n",
    "                        'dims':['ga:date','ga:pagePath','ga:hostname']}}"
   ]
  },
  {
   "cell_type": "code",
   "execution_count": 63,
   "metadata": {},
   "outputs": [
    {
     "ename": "SyntaxError",
     "evalue": "invalid syntax (<ipython-input-63-b5a6ca944bb6>, line 19)",
     "output_type": "error",
     "traceback": [
      "\u001b[0;36m  File \u001b[0;32m\"<ipython-input-63-b5a6ca944bb6>\"\u001b[0;36m, line \u001b[0;32m19\u001b[0m\n\u001b[0;31m    }]}\u001b[0m\n\u001b[0m    ^\u001b[0m\n\u001b[0;31mSyntaxError\u001b[0m\u001b[0;31m:\u001b[0m invalid syntax\n"
     ]
    }
   ],
   "source": [
    "def runReports(startDate,endDate):\n",
    "    for vid in vids:\n",
    "        for name in r_names:\n",
    "            p = r_params.get(name)\n",
    "            metric_get = []\n",
    "            dim_get = []\n",
    "            for metric in p.get('metrics'):\n",
    "                metric_get.append({'expression': metric})\n",
    "            for dim in p.get('dims'):\n",
    "                dim_get.append({'name':dim})\n",
    "            body = {\n",
    "                'reportRequests': [\n",
    "                    {'viewId': vid,\n",
    "                    'dateRanges':[{'startDate': startDate, 'endDate': endDate}],\n",
    "                    'samplingLevel': 'LARGE',\n",
    "                    'metrics': metric_get,\n",
    "                    'dimensions': dim_get,\n",
    "                    'page_size': \n",
    "                    }]}\n",
    "            response = analytics.reports().batchGet(body=body).execute()\n",
    "            total_data = []\n",
    "            for i, report in enumerate(response.get('reports', [])):\n",
    "                rows = report.get('data', {}).get('rowCount', [])\n",
    "                if (rows > 1000):\n",
    "                    total_data.append(report.get('data', {}).get('rows', []))\n",
    "                    token = report.get('nextPageToken', {})\n",
    "                    body['reportRequests'][0]['pageToken'] = token\n",
    "                    pprint.pprint(body)"
   ]
  },
  {
   "cell_type": "code",
   "execution_count": null,
   "metadata": {},
   "outputs": [],
   "source": [
    "#runReports('2018-01-01','2018-12-31')"
   ]
  },
  {
   "cell_type": "code",
   "execution_count": 86,
   "metadata": {},
   "outputs": [],
   "source": [
    "start_date = '2019-01-01'\n",
    "end_date = '2019-12-31'\n",
    "response = analytics.reports().batchGet(\n",
    "    body={\n",
    "        'reportRequests': [\n",
    "            {'viewId': '124490020',\n",
    "            'dateRanges': [{'startDate': start_date,'endDate': end_date}],\n",
    "            'samplingLevel': 'LARGE',\n",
    "            'metrics': [{'expression': 'ga:users'},\n",
    "                        {'expression': 'ga:sessions'},\n",
    "                        {'expression': 'ga:sessionDuration'},\n",
    "                        {'expression':'ga:hits'},\n",
    "                       ],\n",
    "            'dimensions': [{'name':'ga:date'},\n",
    "                           {'name':'ga:hour'},\n",
    "                           {'name':'ga:userType'}],\n",
    "             'pageSize':100000\n",
    "            },\n",
    "            {'viewId': '124490020',\n",
    "            'dateRanges': [{'startDate': start_date,'endDate': end_date}],\n",
    "            'samplingLevel': 'LARGE',\n",
    "            'metrics': [{'expression': 'ga:sessions'}],\n",
    "            'dimensions': [{'name':'ga:date'},\n",
    "                           {'name':'ga:source'},\n",
    "                           {'name':'ga:referralPath'},\n",
    "                           {'name':'ga:keyword'}],\n",
    "             'pageSize':100000\n",
    "            },\n",
    "            {'viewId': '124490020',\n",
    "            'dateRanges': [{'startDate': start_date,'endDate': end_date}],\n",
    "            'samplingLevel': 'LARGE',\n",
    "            'metrics': [{'expression': 'ga:sessions'}],\n",
    "            'dimensions': [{'name':'ga:date'},\n",
    "                           {'name':'ga:deviceCategory'},\n",
    "                           {'name':'ga:browser'},\n",
    "                           {'name':'ga:browserVersion'},\n",
    "                           {'name':'ga:operatingSystem'}],\n",
    "             'pageSize':100000\n",
    "            },\n",
    "            {'viewId': '124490020',\n",
    "            'dateRanges': [{'startDate': start_date,'endDate': end_date}],\n",
    "            'samplingLevel': 'LARGE',\n",
    "            'metrics': [{'expression':'ga:entrances'},\n",
    "                        {'expression':'ga:exits'},\n",
    "                        {'expression':'ga:uniquePageviews'},\n",
    "                        {'expression':'ga:avgTimeOnPage'},\n",
    "                        {'expression':'ga:pageviews'},\n",
    "                       ],\n",
    "            'dimensions': [{'name':'ga:date'},\n",
    "                           {'name':'ga:hostname'},\n",
    "                           {'name':'ga:pagePathLevel1'},\n",
    "                           {'name':'ga:pagePathLevel2'},\n",
    "                           {'name':'ga:pagePathLevel3'}\n",
    "                           ],\n",
    "             'pageSize':100000\n",
    "            }\n",
    "        ]}).execute()"
   ]
  },
  {
   "cell_type": "code",
   "execution_count": 87,
   "metadata": {},
   "outputs": [],
   "source": [
    "def getDimensions(report):\n",
    "    columnHeader = report.get('columnHeader', {})\n",
    "    dimensionHeaders = columnHeader.get('dimensions', [])\n",
    "    dim_no = len(dimensionHeaders)\n",
    "    data = report.get('data', {}).get('rows', [])\n",
    "    print(report.get('data', {}).get('rowCount', []))\n",
    "    df_rows = []\n",
    "    for d in data:\n",
    "        dimensions = d['dimensions']\n",
    "        dict_row = {}\n",
    "        for i in range(dim_no):\n",
    "            dict_row[dimensionHeaders[i]] = dimensions[i]\n",
    "        df_rows.append(dict_row)\n",
    "        \n",
    "    df = pd.DataFrame(df_rows,columns=dimensionHeaders)\n",
    "    return df"
   ]
  },
  {
   "cell_type": "code",
   "execution_count": 88,
   "metadata": {},
   "outputs": [],
   "source": [
    "def getMetrics(report):\n",
    "    columnHeader = report.get('columnHeader', {})\n",
    "    metricHeaders = columnHeader.get('metricHeader', {}).get('metricHeaderEntries', [])\n",
    "    metricHeadersList = []\n",
    "    for metric in metricHeaders:\n",
    "        metricHeadersList.append(metric['name'])\n",
    "    met_no = len(metricHeadersList)\n",
    "    data = report.get('data', {}).get('rows', [])\n",
    "    df_rows = []\n",
    "    for d in data:\n",
    "        metrics = d['metrics'][0]['values']\n",
    "        dict_row = {}\n",
    "        for i in range(met_no):\n",
    "            dict_row[metricHeadersList[i]] = metrics[i]\n",
    "        df_rows.append(dict_row)\n",
    "        \n",
    "    df = pd.DataFrame(df_rows,columns=metricHeadersList)\n",
    "    return df"
   ]
  },
  {
   "cell_type": "code",
   "execution_count": 89,
   "metadata": {},
   "outputs": [
    {
     "name": "stdout",
     "output_type": "stream",
     "text": [
      "4645\n",
      "2026\n",
      "3769\n",
      "5370\n"
     ]
    }
   ],
   "source": [
    "reports = []\n",
    "for i, report in enumerate(response.get('reports', [])):\n",
    "    dims = getDimensions(report)\n",
    "    mets = getMetrics(report)\n",
    "    df = pd.merge(dims,mets,how=\"left\",left_index=True,right_index=True)\n",
    "    final_df = df\n",
    "    reports.append(final_df)"
   ]
  },
  {
   "cell_type": "code",
   "execution_count": 90,
   "metadata": {},
   "outputs": [],
   "source": [
    "users_sessions_report = reports[0]\n",
    "traffic_report = reports[1]\n",
    "devices_report = reports[2]\n",
    "pages_report = reports[3]"
   ]
  },
  {
   "cell_type": "code",
   "execution_count": 91,
   "metadata": {},
   "outputs": [
    {
     "data": {
      "text/plain": [
       "(4645, 7)"
      ]
     },
     "execution_count": 91,
     "metadata": {},
     "output_type": "execute_result"
    }
   ],
   "source": [
    "users_sessions_report.shape"
   ]
  },
  {
   "cell_type": "code",
   "execution_count": 92,
   "metadata": {},
   "outputs": [
    {
     "data": {
      "text/plain": [
       "(2026, 5)"
      ]
     },
     "execution_count": 92,
     "metadata": {},
     "output_type": "execute_result"
    }
   ],
   "source": [
    "traffic_report.shape"
   ]
  },
  {
   "cell_type": "code",
   "execution_count": 93,
   "metadata": {},
   "outputs": [
    {
     "data": {
      "text/plain": [
       "(3769, 6)"
      ]
     },
     "execution_count": 93,
     "metadata": {},
     "output_type": "execute_result"
    }
   ],
   "source": [
    "devices_report.shape"
   ]
  },
  {
   "cell_type": "code",
   "execution_count": 94,
   "metadata": {},
   "outputs": [
    {
     "data": {
      "text/plain": [
       "(5370, 10)"
      ]
     },
     "execution_count": 94,
     "metadata": {},
     "output_type": "execute_result"
    }
   ],
   "source": [
    "pages_report.shape"
   ]
  },
  {
   "cell_type": "code",
   "execution_count": 95,
   "metadata": {},
   "outputs": [
    {
     "data": {
      "text/html": [
       "<div>\n",
       "<style scoped>\n",
       "    .dataframe tbody tr th:only-of-type {\n",
       "        vertical-align: middle;\n",
       "    }\n",
       "\n",
       "    .dataframe tbody tr th {\n",
       "        vertical-align: top;\n",
       "    }\n",
       "\n",
       "    .dataframe thead th {\n",
       "        text-align: right;\n",
       "    }\n",
       "</style>\n",
       "<table border=\"1\" class=\"dataframe\">\n",
       "  <thead>\n",
       "    <tr style=\"text-align: right;\">\n",
       "      <th></th>\n",
       "      <th>ga:date</th>\n",
       "      <th>ga:hour</th>\n",
       "      <th>ga:userType</th>\n",
       "      <th>ga:users</th>\n",
       "      <th>ga:sessions</th>\n",
       "      <th>ga:sessionDuration</th>\n",
       "      <th>ga:hits</th>\n",
       "    </tr>\n",
       "  </thead>\n",
       "  <tbody>\n",
       "    <tr>\n",
       "      <th>0</th>\n",
       "      <td>20190101</td>\n",
       "      <td>00</td>\n",
       "      <td>New Visitor</td>\n",
       "      <td>4</td>\n",
       "      <td>4</td>\n",
       "      <td>15.0</td>\n",
       "      <td>5</td>\n",
       "    </tr>\n",
       "    <tr>\n",
       "      <th>1</th>\n",
       "      <td>20190101</td>\n",
       "      <td>01</td>\n",
       "      <td>New Visitor</td>\n",
       "      <td>1</td>\n",
       "      <td>1</td>\n",
       "      <td>0.0</td>\n",
       "      <td>1</td>\n",
       "    </tr>\n",
       "    <tr>\n",
       "      <th>2</th>\n",
       "      <td>20190101</td>\n",
       "      <td>02</td>\n",
       "      <td>New Visitor</td>\n",
       "      <td>11</td>\n",
       "      <td>11</td>\n",
       "      <td>0.0</td>\n",
       "      <td>11</td>\n",
       "    </tr>\n",
       "    <tr>\n",
       "      <th>3</th>\n",
       "      <td>20190101</td>\n",
       "      <td>03</td>\n",
       "      <td>New Visitor</td>\n",
       "      <td>3</td>\n",
       "      <td>3</td>\n",
       "      <td>0.0</td>\n",
       "      <td>3</td>\n",
       "    </tr>\n",
       "    <tr>\n",
       "      <th>4</th>\n",
       "      <td>20190101</td>\n",
       "      <td>03</td>\n",
       "      <td>Returning Visitor</td>\n",
       "      <td>1</td>\n",
       "      <td>1</td>\n",
       "      <td>0.0</td>\n",
       "      <td>1</td>\n",
       "    </tr>\n",
       "  </tbody>\n",
       "</table>\n",
       "</div>"
      ],
      "text/plain": [
       "    ga:date ga:hour        ga:userType ga:users ga:sessions  \\\n",
       "0  20190101      00        New Visitor        4           4   \n",
       "1  20190101      01        New Visitor        1           1   \n",
       "2  20190101      02        New Visitor       11          11   \n",
       "3  20190101      03        New Visitor        3           3   \n",
       "4  20190101      03  Returning Visitor        1           1   \n",
       "\n",
       "  ga:sessionDuration ga:hits  \n",
       "0               15.0       5  \n",
       "1                0.0       1  \n",
       "2                0.0      11  \n",
       "3                0.0       3  \n",
       "4                0.0       1  "
      ]
     },
     "execution_count": 95,
     "metadata": {},
     "output_type": "execute_result"
    }
   ],
   "source": [
    "users_sessions_report.head()"
   ]
  },
  {
   "cell_type": "code",
   "execution_count": 96,
   "metadata": {},
   "outputs": [],
   "source": [
    "users_sessions_report.columns = ['date','hour','user_type','users','sessions','session_duration','hits']"
   ]
  },
  {
   "cell_type": "code",
   "execution_count": 97,
   "metadata": {},
   "outputs": [
    {
     "data": {
      "text/html": [
       "<div>\n",
       "<style scoped>\n",
       "    .dataframe tbody tr th:only-of-type {\n",
       "        vertical-align: middle;\n",
       "    }\n",
       "\n",
       "    .dataframe tbody tr th {\n",
       "        vertical-align: top;\n",
       "    }\n",
       "\n",
       "    .dataframe thead th {\n",
       "        text-align: right;\n",
       "    }\n",
       "</style>\n",
       "<table border=\"1\" class=\"dataframe\">\n",
       "  <thead>\n",
       "    <tr style=\"text-align: right;\">\n",
       "      <th></th>\n",
       "      <th>ga:date</th>\n",
       "      <th>ga:source</th>\n",
       "      <th>ga:referralPath</th>\n",
       "      <th>ga:keyword</th>\n",
       "      <th>ga:sessions</th>\n",
       "    </tr>\n",
       "  </thead>\n",
       "  <tbody>\n",
       "    <tr>\n",
       "      <th>0</th>\n",
       "      <td>20190101</td>\n",
       "      <td>(direct)</td>\n",
       "      <td>(not set)</td>\n",
       "      <td>(not set)</td>\n",
       "      <td>29</td>\n",
       "    </tr>\n",
       "    <tr>\n",
       "      <th>1</th>\n",
       "      <td>20190101</td>\n",
       "      <td>bing</td>\n",
       "      <td>(not set)</td>\n",
       "      <td>get it done san diego</td>\n",
       "      <td>1</td>\n",
       "    </tr>\n",
       "    <tr>\n",
       "      <th>2</th>\n",
       "      <td>20190101</td>\n",
       "      <td>bing</td>\n",
       "      <td>(not set)</td>\n",
       "      <td>san diego get it done</td>\n",
       "      <td>1</td>\n",
       "    </tr>\n",
       "    <tr>\n",
       "      <th>3</th>\n",
       "      <td>20190101</td>\n",
       "      <td>google</td>\n",
       "      <td>(not set)</td>\n",
       "      <td>(not provided)</td>\n",
       "      <td>39</td>\n",
       "    </tr>\n",
       "    <tr>\n",
       "      <th>4</th>\n",
       "      <td>20190101</td>\n",
       "      <td>plot.ly</td>\n",
       "      <td>/</td>\n",
       "      <td>(not set)</td>\n",
       "      <td>1</td>\n",
       "    </tr>\n",
       "  </tbody>\n",
       "</table>\n",
       "</div>"
      ],
      "text/plain": [
       "    ga:date ga:source ga:referralPath             ga:keyword ga:sessions\n",
       "0  20190101  (direct)       (not set)              (not set)          29\n",
       "1  20190101      bing       (not set)  get it done san diego           1\n",
       "2  20190101      bing       (not set)  san diego get it done           1\n",
       "3  20190101    google       (not set)         (not provided)          39\n",
       "4  20190101   plot.ly               /              (not set)           1"
      ]
     },
     "execution_count": 97,
     "metadata": {},
     "output_type": "execute_result"
    }
   ],
   "source": [
    "traffic_report.head()"
   ]
  },
  {
   "cell_type": "code",
   "execution_count": 98,
   "metadata": {},
   "outputs": [],
   "source": [
    "traffic_report.columns = ['date','referral_source','referral_path','keyword','sessions']"
   ]
  },
  {
   "cell_type": "code",
   "execution_count": 99,
   "metadata": {},
   "outputs": [
    {
     "data": {
      "text/html": [
       "<div>\n",
       "<style scoped>\n",
       "    .dataframe tbody tr th:only-of-type {\n",
       "        vertical-align: middle;\n",
       "    }\n",
       "\n",
       "    .dataframe tbody tr th {\n",
       "        vertical-align: top;\n",
       "    }\n",
       "\n",
       "    .dataframe thead th {\n",
       "        text-align: right;\n",
       "    }\n",
       "</style>\n",
       "<table border=\"1\" class=\"dataframe\">\n",
       "  <thead>\n",
       "    <tr style=\"text-align: right;\">\n",
       "      <th></th>\n",
       "      <th>ga:date</th>\n",
       "      <th>ga:deviceCategory</th>\n",
       "      <th>ga:browser</th>\n",
       "      <th>ga:browserVersion</th>\n",
       "      <th>ga:operatingSystem</th>\n",
       "      <th>ga:sessions</th>\n",
       "    </tr>\n",
       "  </thead>\n",
       "  <tbody>\n",
       "    <tr>\n",
       "      <th>0</th>\n",
       "      <td>20190101</td>\n",
       "      <td>desktop</td>\n",
       "      <td>Chrome</td>\n",
       "      <td>68.0.3440.106</td>\n",
       "      <td>Linux</td>\n",
       "      <td>5</td>\n",
       "    </tr>\n",
       "    <tr>\n",
       "      <th>1</th>\n",
       "      <td>20190101</td>\n",
       "      <td>desktop</td>\n",
       "      <td>Chrome</td>\n",
       "      <td>69.0.3497.81</td>\n",
       "      <td>Windows</td>\n",
       "      <td>1</td>\n",
       "    </tr>\n",
       "    <tr>\n",
       "      <th>2</th>\n",
       "      <td>20190101</td>\n",
       "      <td>desktop</td>\n",
       "      <td>Chrome</td>\n",
       "      <td>70.0.3538.102</td>\n",
       "      <td>Windows</td>\n",
       "      <td>1</td>\n",
       "    </tr>\n",
       "    <tr>\n",
       "      <th>3</th>\n",
       "      <td>20190101</td>\n",
       "      <td>desktop</td>\n",
       "      <td>Chrome</td>\n",
       "      <td>71.0.3578.98</td>\n",
       "      <td>Linux</td>\n",
       "      <td>22</td>\n",
       "    </tr>\n",
       "    <tr>\n",
       "      <th>4</th>\n",
       "      <td>20190101</td>\n",
       "      <td>desktop</td>\n",
       "      <td>Chrome</td>\n",
       "      <td>71.0.3578.98</td>\n",
       "      <td>Macintosh</td>\n",
       "      <td>1</td>\n",
       "    </tr>\n",
       "  </tbody>\n",
       "</table>\n",
       "</div>"
      ],
      "text/plain": [
       "    ga:date ga:deviceCategory ga:browser ga:browserVersion ga:operatingSystem  \\\n",
       "0  20190101           desktop     Chrome     68.0.3440.106              Linux   \n",
       "1  20190101           desktop     Chrome      69.0.3497.81            Windows   \n",
       "2  20190101           desktop     Chrome     70.0.3538.102            Windows   \n",
       "3  20190101           desktop     Chrome      71.0.3578.98              Linux   \n",
       "4  20190101           desktop     Chrome      71.0.3578.98          Macintosh   \n",
       "\n",
       "  ga:sessions  \n",
       "0           5  \n",
       "1           1  \n",
       "2           1  \n",
       "3          22  \n",
       "4           1  "
      ]
     },
     "execution_count": 99,
     "metadata": {},
     "output_type": "execute_result"
    }
   ],
   "source": [
    "devices_report.head()"
   ]
  },
  {
   "cell_type": "code",
   "execution_count": 100,
   "metadata": {},
   "outputs": [],
   "source": [
    "devices_report.columns = ['date','device_cat','browser','browser_version','op_system','sessions']"
   ]
  },
  {
   "cell_type": "code",
   "execution_count": 101,
   "metadata": {},
   "outputs": [
    {
     "data": {
      "text/html": [
       "<div>\n",
       "<style scoped>\n",
       "    .dataframe tbody tr th:only-of-type {\n",
       "        vertical-align: middle;\n",
       "    }\n",
       "\n",
       "    .dataframe tbody tr th {\n",
       "        vertical-align: top;\n",
       "    }\n",
       "\n",
       "    .dataframe thead th {\n",
       "        text-align: right;\n",
       "    }\n",
       "</style>\n",
       "<table border=\"1\" class=\"dataframe\">\n",
       "  <thead>\n",
       "    <tr style=\"text-align: right;\">\n",
       "      <th></th>\n",
       "      <th>ga:date</th>\n",
       "      <th>ga:hostname</th>\n",
       "      <th>ga:pagePathLevel1</th>\n",
       "      <th>ga:pagePathLevel2</th>\n",
       "      <th>ga:pagePathLevel3</th>\n",
       "      <th>ga:entrances</th>\n",
       "      <th>ga:exits</th>\n",
       "      <th>ga:uniquePageviews</th>\n",
       "      <th>ga:avgTimeOnPage</th>\n",
       "      <th>ga:pageviews</th>\n",
       "    </tr>\n",
       "  </thead>\n",
       "  <tbody>\n",
       "    <tr>\n",
       "      <th>0</th>\n",
       "      <td>20190101</td>\n",
       "      <td>data.sandiego.gov</td>\n",
       "      <td>/datasets/</td>\n",
       "      <td>/bike-master-plan/</td>\n",
       "      <td>/</td>\n",
       "      <td>0</td>\n",
       "      <td>1</td>\n",
       "      <td>2</td>\n",
       "      <td>6.0</td>\n",
       "      <td>2</td>\n",
       "    </tr>\n",
       "    <tr>\n",
       "      <th>1</th>\n",
       "      <td>20190101</td>\n",
       "      <td>data.sandiego.gov</td>\n",
       "      <td>/datasets/</td>\n",
       "      <td>/bike-route-lines/</td>\n",
       "      <td>/</td>\n",
       "      <td>0</td>\n",
       "      <td>1</td>\n",
       "      <td>3</td>\n",
       "      <td>12.428571428571429</td>\n",
       "      <td>8</td>\n",
       "    </tr>\n",
       "    <tr>\n",
       "      <th>2</th>\n",
       "      <td>20190101</td>\n",
       "      <td>data.sandiego.gov</td>\n",
       "      <td>/datasets/</td>\n",
       "      <td>/business-improvement-districts/</td>\n",
       "      <td>/</td>\n",
       "      <td>0</td>\n",
       "      <td>0</td>\n",
       "      <td>1</td>\n",
       "      <td>5.0</td>\n",
       "      <td>1</td>\n",
       "    </tr>\n",
       "    <tr>\n",
       "      <th>3</th>\n",
       "      <td>20190101</td>\n",
       "      <td>data.sandiego.gov</td>\n",
       "      <td>/datasets/</td>\n",
       "      <td>/city-council-districts/</td>\n",
       "      <td>/</td>\n",
       "      <td>0</td>\n",
       "      <td>0</td>\n",
       "      <td>1</td>\n",
       "      <td>5.5</td>\n",
       "      <td>2</td>\n",
       "    </tr>\n",
       "    <tr>\n",
       "      <th>4</th>\n",
       "      <td>20190101</td>\n",
       "      <td>data.sandiego.gov</td>\n",
       "      <td>/datasets/</td>\n",
       "      <td>/city-owned-properties-details/</td>\n",
       "      <td>/</td>\n",
       "      <td>0</td>\n",
       "      <td>0</td>\n",
       "      <td>1</td>\n",
       "      <td>24.0</td>\n",
       "      <td>1</td>\n",
       "    </tr>\n",
       "  </tbody>\n",
       "</table>\n",
       "</div>"
      ],
      "text/plain": [
       "    ga:date        ga:hostname ga:pagePathLevel1  \\\n",
       "0  20190101  data.sandiego.gov        /datasets/   \n",
       "1  20190101  data.sandiego.gov        /datasets/   \n",
       "2  20190101  data.sandiego.gov        /datasets/   \n",
       "3  20190101  data.sandiego.gov        /datasets/   \n",
       "4  20190101  data.sandiego.gov        /datasets/   \n",
       "\n",
       "                  ga:pagePathLevel2 ga:pagePathLevel3 ga:entrances ga:exits  \\\n",
       "0                /bike-master-plan/                 /            0        1   \n",
       "1                /bike-route-lines/                 /            0        1   \n",
       "2  /business-improvement-districts/                 /            0        0   \n",
       "3          /city-council-districts/                 /            0        0   \n",
       "4   /city-owned-properties-details/                 /            0        0   \n",
       "\n",
       "  ga:uniquePageviews    ga:avgTimeOnPage ga:pageviews  \n",
       "0                  2                 6.0            2  \n",
       "1                  3  12.428571428571429            8  \n",
       "2                  1                 5.0            1  \n",
       "3                  1                 5.5            2  \n",
       "4                  1                24.0            1  "
      ]
     },
     "execution_count": 101,
     "metadata": {},
     "output_type": "execute_result"
    }
   ],
   "source": [
    "pages_report.head()"
   ]
  },
  {
   "cell_type": "code",
   "execution_count": 102,
   "metadata": {},
   "outputs": [],
   "source": [
    "pages_report.columns = ['date','hostname','page_path_1','page_path_2','page_path_3','entrances','exits','unique_pageviews','avg_time_on_page','pageviews']"
   ]
  },
  {
   "cell_type": "code",
   "execution_count": 103,
   "metadata": {},
   "outputs": [],
   "source": [
    "users_sessions_report['date'] = pd.to_datetime(users_sessions_report['date'])\n",
    "traffic_report['date'] = pd.to_datetime(traffic_report['date'])\n",
    "devices_report['date'] = pd.to_datetime(devices_report['date'])\n",
    "pages_report['date'] = pd.to_datetime(pages_report['date'])"
   ]
  },
  {
   "cell_type": "code",
   "execution_count": 104,
   "metadata": {},
   "outputs": [],
   "source": [
    "users_sessions_report.to_csv('~/Code/docker-airflow/data/prod/portal_users_sessions_2019_datasd.csv',index=False,date_format=\"%Y-%m-%d\")"
   ]
  },
  {
   "cell_type": "code",
   "execution_count": 105,
   "metadata": {},
   "outputs": [],
   "source": [
    "traffic_report.to_csv('~/Code/docker-airflow/data/prod/portal_traffic_sources_2019_datasd.csv',index=False,date_format=\"%Y-%m-%d\")"
   ]
  },
  {
   "cell_type": "code",
   "execution_count": 106,
   "metadata": {},
   "outputs": [],
   "source": [
    "devices_report.to_csv('~/Code/docker-airflow/data/prod/portal_devices_platforms_2019_datasd.csv',index=False,date_format=\"%Y-%m-%d\")"
   ]
  },
  {
   "cell_type": "code",
   "execution_count": 107,
   "metadata": {},
   "outputs": [],
   "source": [
    "pages_report.to_csv('~/Code/docker-airflow/data/prod/portal_pages_2019_datasd.csv',index=False,date_format=\"%Y-%m-%d\")"
   ]
  },
  {
   "cell_type": "code",
   "execution_count": null,
   "metadata": {},
   "outputs": [],
   "source": []
  }
 ],
 "metadata": {
  "kernelspec": {
   "display_name": "Python 3",
   "language": "python",
   "name": "python3"
  },
  "language_info": {
   "codemirror_mode": {
    "name": "ipython",
    "version": 3
   },
   "file_extension": ".py",
   "mimetype": "text/x-python",
   "name": "python",
   "nbconvert_exporter": "python",
   "pygments_lexer": "ipython3",
   "version": "3.6.4"
  }
 },
 "nbformat": 4,
 "nbformat_minor": 2
}
