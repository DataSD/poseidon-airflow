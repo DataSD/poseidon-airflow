{
 "cells": [
  {
   "cell_type": "code",
   "execution_count": 19,
   "metadata": {
    "collapsed": true
   },
   "outputs": [],
   "source": [
    "import pandas as pd\n",
    "#path_prefix = \"/home/jovyan/work/data/\"\n",
    "path_prefix = \"/Users/MrMaksimize/Code/jupyter_nb/data/\""
   ]
  },
  {
   "cell_type": "code",
   "execution_count": 20,
   "metadata": {
    "collapsed": false
   },
   "outputs": [],
   "source": [
    "update = pd.read_csv(path_prefix + 'SanDiegoPayDataRequest11112016.csv')"
   ]
  },
  {
   "cell_type": "code",
   "execution_count": 21,
   "metadata": {
    "collapsed": false
   },
   "outputs": [],
   "source": [
    "update = update[['Meter Type', 'Pole', 'Amount($)', 'Transaction Type', 'Start Date Time', 'Expiry Time']]\n",
    "update = update.rename(columns = {\n",
    "    'Meter Type':'meter_type',\n",
    "    'Start Date Time':'trans_start',\n",
    "    'Expiry Time':'meter_expire',\n",
    "    'Amount($)':'trans_amt',\n",
    "    'Transaction Type':'pay_method',\n",
    "    'StartDateTime':'trans_start',\n",
    "    'Pole':'pole_id'\n",
    "})"
   ]
  },
  {
   "cell_type": "code",
   "execution_count": 22,
   "metadata": {
    "collapsed": false
   },
   "outputs": [
    {
     "name": "stdout",
     "output_type": "stream",
     "text": [
      "06/03/2016 00:27:34 10/13/2016 19:55:39\n"
     ]
    }
   ],
   "source": [
    "print(update['trans_start'].min(), update['trans_start'].max()) "
   ]
  },
  {
   "cell_type": "code",
   "execution_count": 23,
   "metadata": {
    "collapsed": false
   },
   "outputs": [
    {
     "data": {
      "text/html": [
       "<div>\n",
       "<table border=\"1\" class=\"dataframe\">\n",
       "  <thead>\n",
       "    <tr style=\"text-align: right;\">\n",
       "      <th></th>\n",
       "      <th>meter_type</th>\n",
       "      <th>pole_id</th>\n",
       "      <th>trans_amt</th>\n",
       "      <th>pay_method</th>\n",
       "      <th>trans_start</th>\n",
       "      <th>meter_expire</th>\n",
       "    </tr>\n",
       "  </thead>\n",
       "  <tbody>\n",
       "    <tr>\n",
       "      <th>0</th>\n",
       "      <td>SS</td>\n",
       "      <td>CE-503</td>\n",
       "      <td>0.0</td>\n",
       "      <td>NaN</td>\n",
       "      <td>2016-06-03 00:27:34</td>\n",
       "      <td>2016-06-03 00:27:34</td>\n",
       "    </tr>\n",
       "    <tr>\n",
       "      <th>1</th>\n",
       "      <td>SS</td>\n",
       "      <td>CE-503</td>\n",
       "      <td>0.5</td>\n",
       "      <td>Coins</td>\n",
       "      <td>2016-06-03 00:27:34</td>\n",
       "      <td>2016-06-03 00:27:34</td>\n",
       "    </tr>\n",
       "    <tr>\n",
       "      <th>2</th>\n",
       "      <td>SS</td>\n",
       "      <td>CE-503</td>\n",
       "      <td>0.0</td>\n",
       "      <td>NaN</td>\n",
       "      <td>2016-06-03 00:27:58</td>\n",
       "      <td>2016-06-03 00:27:58</td>\n",
       "    </tr>\n",
       "    <tr>\n",
       "      <th>3</th>\n",
       "      <td>SS</td>\n",
       "      <td>CE-503</td>\n",
       "      <td>0.3</td>\n",
       "      <td>Coins</td>\n",
       "      <td>2016-06-03 00:27:58</td>\n",
       "      <td>2016-06-03 00:27:58</td>\n",
       "    </tr>\n",
       "    <tr>\n",
       "      <th>4</th>\n",
       "      <td>SS</td>\n",
       "      <td>UV-1807</td>\n",
       "      <td>0.1</td>\n",
       "      <td>Coins</td>\n",
       "      <td>2016-06-03 00:40:33</td>\n",
       "      <td>2016-06-03 00:40:33</td>\n",
       "    </tr>\n",
       "  </tbody>\n",
       "</table>\n",
       "</div>"
      ],
      "text/plain": [
       "  meter_type  pole_id  trans_amt pay_method         trans_start  \\\n",
       "0         SS   CE-503        0.0        NaN 2016-06-03 00:27:34   \n",
       "1         SS   CE-503        0.5      Coins 2016-06-03 00:27:34   \n",
       "2         SS   CE-503        0.0        NaN 2016-06-03 00:27:58   \n",
       "3         SS   CE-503        0.3      Coins 2016-06-03 00:27:58   \n",
       "4         SS  UV-1807        0.1      Coins 2016-06-03 00:40:33   \n",
       "\n",
       "         meter_expire  \n",
       "0 2016-06-03 00:27:34  \n",
       "1 2016-06-03 00:27:34  \n",
       "2 2016-06-03 00:27:58  \n",
       "3 2016-06-03 00:27:58  \n",
       "4 2016-06-03 00:40:33  "
      ]
     },
     "execution_count": 23,
     "metadata": {},
     "output_type": "execute_result"
    }
   ],
   "source": [
    "update['trans_start'] = pd.to_datetime(update['trans_start'],  format=\"%m/%d/%Y %H:%M:%S\")\n",
    "update['meter_expire'] = pd.to_datetime(update['meter_expire'],  format=\"%m/%d/%Y %H:%M:%S\")\n",
    "update.head()"
   ]
  },
  {
   "cell_type": "code",
   "execution_count": 24,
   "metadata": {
    "collapsed": false
   },
   "outputs": [
    {
     "data": {
      "text/html": [
       "<div>\n",
       "<table border=\"1\" class=\"dataframe\">\n",
       "  <thead>\n",
       "    <tr style=\"text-align: right;\">\n",
       "      <th></th>\n",
       "      <th>meter_type</th>\n",
       "      <th>pole_id</th>\n",
       "      <th>trans_amt</th>\n",
       "      <th>pay_method</th>\n",
       "      <th>trans_start</th>\n",
       "      <th>meter_expire</th>\n",
       "    </tr>\n",
       "  </thead>\n",
       "  <tbody>\n",
       "    <tr>\n",
       "      <th>0</th>\n",
       "      <td>SS</td>\n",
       "      <td>CE-503</td>\n",
       "      <td>0</td>\n",
       "      <td>NaN</td>\n",
       "      <td>2016-06-03 00:27:34</td>\n",
       "      <td>2016-06-03 00:27:34</td>\n",
       "    </tr>\n",
       "    <tr>\n",
       "      <th>1</th>\n",
       "      <td>SS</td>\n",
       "      <td>CE-503</td>\n",
       "      <td>50</td>\n",
       "      <td>Coins</td>\n",
       "      <td>2016-06-03 00:27:34</td>\n",
       "      <td>2016-06-03 00:27:34</td>\n",
       "    </tr>\n",
       "    <tr>\n",
       "      <th>2</th>\n",
       "      <td>SS</td>\n",
       "      <td>CE-503</td>\n",
       "      <td>0</td>\n",
       "      <td>NaN</td>\n",
       "      <td>2016-06-03 00:27:58</td>\n",
       "      <td>2016-06-03 00:27:58</td>\n",
       "    </tr>\n",
       "    <tr>\n",
       "      <th>3</th>\n",
       "      <td>SS</td>\n",
       "      <td>CE-503</td>\n",
       "      <td>30</td>\n",
       "      <td>Coins</td>\n",
       "      <td>2016-06-03 00:27:58</td>\n",
       "      <td>2016-06-03 00:27:58</td>\n",
       "    </tr>\n",
       "    <tr>\n",
       "      <th>4</th>\n",
       "      <td>SS</td>\n",
       "      <td>UV-1807</td>\n",
       "      <td>10</td>\n",
       "      <td>Coins</td>\n",
       "      <td>2016-06-03 00:40:33</td>\n",
       "      <td>2016-06-03 00:40:33</td>\n",
       "    </tr>\n",
       "  </tbody>\n",
       "</table>\n",
       "</div>"
      ],
      "text/plain": [
       "  meter_type  pole_id  trans_amt pay_method         trans_start  \\\n",
       "0         SS   CE-503          0        NaN 2016-06-03 00:27:34   \n",
       "1         SS   CE-503         50      Coins 2016-06-03 00:27:34   \n",
       "2         SS   CE-503          0        NaN 2016-06-03 00:27:58   \n",
       "3         SS   CE-503         30      Coins 2016-06-03 00:27:58   \n",
       "4         SS  UV-1807         10      Coins 2016-06-03 00:40:33   \n",
       "\n",
       "         meter_expire  \n",
       "0 2016-06-03 00:27:34  \n",
       "1 2016-06-03 00:27:34  \n",
       "2 2016-06-03 00:27:58  \n",
       "3 2016-06-03 00:27:58  \n",
       "4 2016-06-03 00:40:33  "
      ]
     },
     "execution_count": 24,
     "metadata": {},
     "output_type": "execute_result"
    }
   ],
   "source": [
    "#update['trans_start'] = update['trans_start'].dt.strftime('%Y-%m-%d %H:%M:%S')\n",
    "#update['meter_expire'] = update['meter_expire'].dt.strftime('%Y-%m-%d %H:%M:%S')\n",
    "update['trans_amt'] = update['trans_amt'] * 100\n",
    "update['trans_amt'] = update['trans_amt'].astype(int)\n",
    "update.head()"
   ]
  },
  {
   "cell_type": "code",
   "execution_count": 25,
   "metadata": {
    "collapsed": false
   },
   "outputs": [
    {
     "data": {
      "text/html": [
       "<div>\n",
       "<table border=\"1\" class=\"dataframe\">\n",
       "  <thead>\n",
       "    <tr style=\"text-align: right;\">\n",
       "      <th></th>\n",
       "      <th>meter_type</th>\n",
       "      <th>pole_id</th>\n",
       "      <th>trans_amt</th>\n",
       "      <th>pay_method</th>\n",
       "      <th>trans_start</th>\n",
       "      <th>meter_expire</th>\n",
       "    </tr>\n",
       "  </thead>\n",
       "  <tbody>\n",
       "    <tr>\n",
       "      <th>0</th>\n",
       "      <td>SS</td>\n",
       "      <td>WA-212</td>\n",
       "      <td>25</td>\n",
       "      <td>CASH</td>\n",
       "      <td>2016-01-01 00:06:20</td>\n",
       "      <td>2016-01-01 00:06:20</td>\n",
       "    </tr>\n",
       "    <tr>\n",
       "      <th>1</th>\n",
       "      <td>MS</td>\n",
       "      <td>4-300W</td>\n",
       "      <td>25</td>\n",
       "      <td>CASH</td>\n",
       "      <td>2016-01-01 00:21:36</td>\n",
       "      <td>2016-01-01 00:21:36</td>\n",
       "    </tr>\n",
       "    <tr>\n",
       "      <th>2</th>\n",
       "      <td>SS</td>\n",
       "      <td>9-502</td>\n",
       "      <td>5</td>\n",
       "      <td>CASH</td>\n",
       "      <td>2016-01-01 00:46:57</td>\n",
       "      <td>2016-01-01 00:46:57</td>\n",
       "    </tr>\n",
       "    <tr>\n",
       "      <th>3</th>\n",
       "      <td>SS</td>\n",
       "      <td>9-502</td>\n",
       "      <td>30</td>\n",
       "      <td>CASH</td>\n",
       "      <td>2016-01-01 00:47:09</td>\n",
       "      <td>2016-01-01 00:47:09</td>\n",
       "    </tr>\n",
       "    <tr>\n",
       "      <th>4</th>\n",
       "      <td>SS</td>\n",
       "      <td>10-3819</td>\n",
       "      <td>125</td>\n",
       "      <td>CASH</td>\n",
       "      <td>2016-01-01 00:56:43</td>\n",
       "      <td>2016-01-01 00:56:43</td>\n",
       "    </tr>\n",
       "  </tbody>\n",
       "</table>\n",
       "</div>"
      ],
      "text/plain": [
       "  meter_type  pole_id  trans_amt pay_method         trans_start  \\\n",
       "0         SS   WA-212         25       CASH 2016-01-01 00:06:20   \n",
       "1         MS   4-300W         25       CASH 2016-01-01 00:21:36   \n",
       "2         SS    9-502          5       CASH 2016-01-01 00:46:57   \n",
       "3         SS    9-502         30       CASH 2016-01-01 00:47:09   \n",
       "4         SS  10-3819        125       CASH 2016-01-01 00:56:43   \n",
       "\n",
       "         meter_expire  \n",
       "0 2016-01-01 00:06:20  \n",
       "1 2016-01-01 00:21:36  \n",
       "2 2016-01-01 00:46:57  \n",
       "3 2016-01-01 00:47:09  \n",
       "4 2016-01-01 00:56:43  "
      ]
     },
     "execution_count": 25,
     "metadata": {},
     "output_type": "execute_result"
    }
   ],
   "source": [
    "portal = pd.read_csv(path_prefix + 'treas_parking_payments_2016_datasd_1.csv')\n",
    "portal = portal.drop(['smartcard_id'], axis=1)\n",
    "portal['trans_start'] = pd.to_datetime(portal['trans_start'],  format=\"%Y-%m-%d %H:%M:%S\")\n",
    "portal['meter_expire'] = pd.to_datetime(portal['meter_expire'],  format=\"%Y-%m-%d %H:%M:%S\")\n",
    "portal.head()"
   ]
  },
  {
   "cell_type": "code",
   "execution_count": 26,
   "metadata": {
    "collapsed": false
   },
   "outputs": [
    {
     "name": "stdout",
     "output_type": "stream",
     "text": [
      "2016-01-01 00:06:20 2016-06-02 21:46:14\n"
     ]
    }
   ],
   "source": [
    "#pd.to_datetime(portal['trans_start'])\n",
    "print(portal['trans_start'].min(), portal['trans_start'].max()) "
   ]
  },
  {
   "cell_type": "code",
   "execution_count": 27,
   "metadata": {
    "collapsed": false
   },
   "outputs": [
    {
     "name": "stderr",
     "output_type": "stream",
     "text": [
      "/usr/local/lib/python3.5/site-packages/ipykernel/__main__.py:5: FutureWarning: currently extract(expand=None) means expand=False (return Index/Series/DataFrame) but in a future version of pandas this will be changed to expand=True (return DataFrame)\n"
     ]
    },
    {
     "data": {
      "text/html": [
       "<div>\n",
       "<table border=\"1\" class=\"dataframe\">\n",
       "  <thead>\n",
       "    <tr style=\"text-align: right;\">\n",
       "      <th></th>\n",
       "      <th>meter_type</th>\n",
       "      <th>pole_id</th>\n",
       "      <th>trans_amt</th>\n",
       "      <th>pay_method</th>\n",
       "      <th>trans_start</th>\n",
       "      <th>meter_expire</th>\n",
       "    </tr>\n",
       "  </thead>\n",
       "  <tbody>\n",
       "    <tr>\n",
       "      <th>0</th>\n",
       "      <td>SS</td>\n",
       "      <td>WA-212</td>\n",
       "      <td>25</td>\n",
       "      <td>CASH</td>\n",
       "      <td>2016-01-01 00:06:20</td>\n",
       "      <td>2016-01-01 00:06:20</td>\n",
       "    </tr>\n",
       "    <tr>\n",
       "      <th>1</th>\n",
       "      <td>MS</td>\n",
       "      <td>4-300W</td>\n",
       "      <td>25</td>\n",
       "      <td>CASH</td>\n",
       "      <td>2016-01-01 00:21:36</td>\n",
       "      <td>2016-01-01 00:21:36</td>\n",
       "    </tr>\n",
       "    <tr>\n",
       "      <th>2</th>\n",
       "      <td>SS</td>\n",
       "      <td>9-502</td>\n",
       "      <td>5</td>\n",
       "      <td>CASH</td>\n",
       "      <td>2016-01-01 00:46:57</td>\n",
       "      <td>2016-01-01 00:46:57</td>\n",
       "    </tr>\n",
       "    <tr>\n",
       "      <th>3</th>\n",
       "      <td>SS</td>\n",
       "      <td>9-502</td>\n",
       "      <td>30</td>\n",
       "      <td>CASH</td>\n",
       "      <td>2016-01-01 00:47:09</td>\n",
       "      <td>2016-01-01 00:47:09</td>\n",
       "    </tr>\n",
       "    <tr>\n",
       "      <th>4</th>\n",
       "      <td>SS</td>\n",
       "      <td>10-3819</td>\n",
       "      <td>125</td>\n",
       "      <td>CASH</td>\n",
       "      <td>2016-01-01 00:56:43</td>\n",
       "      <td>2016-01-01 00:56:43</td>\n",
       "    </tr>\n",
       "  </tbody>\n",
       "</table>\n",
       "</div>"
      ],
      "text/plain": [
       "  meter_type  pole_id  trans_amt pay_method         trans_start  \\\n",
       "0         SS   WA-212         25       CASH 2016-01-01 00:06:20   \n",
       "1         MS   4-300W         25       CASH 2016-01-01 00:21:36   \n",
       "2         SS    9-502          5       CASH 2016-01-01 00:46:57   \n",
       "3         SS    9-502         30       CASH 2016-01-01 00:47:09   \n",
       "4         SS  10-3819        125       CASH 2016-01-01 00:56:43   \n",
       "\n",
       "         meter_expire  \n",
       "0 2016-01-01 00:06:20  \n",
       "1 2016-01-01 00:21:36  \n",
       "2 2016-01-01 00:46:57  \n",
       "3 2016-01-01 00:47:09  \n",
       "4 2016-01-01 00:56:43  "
      ]
     },
     "execution_count": 27,
     "metadata": {},
     "output_type": "execute_result"
    }
   ],
   "source": [
    "portal_up = pd.concat([portal, update])\n",
    "portal_up.meter_type = portal_up.meter_type.str.upper()\n",
    "portal_up.pole_id = portal_up.pole_id.str.upper()\n",
    "portal_up.pay_method = portal_up.pay_method.str.upper()\n",
    "portal_up.meter_type = portal_up.meter_type.str.extract('(SS|MS)')\n",
    "portal_up.head()"
   ]
  },
  {
   "cell_type": "code",
   "execution_count": 28,
   "metadata": {
    "collapsed": false
   },
   "outputs": [
    {
     "data": {
      "text/html": [
       "<div>\n",
       "<table border=\"1\" class=\"dataframe\">\n",
       "  <thead>\n",
       "    <tr style=\"text-align: right;\">\n",
       "      <th></th>\n",
       "      <th>meter_type</th>\n",
       "      <th>pole_id</th>\n",
       "      <th>trans_amt</th>\n",
       "      <th>pay_method</th>\n",
       "      <th>trans_start</th>\n",
       "      <th>meter_expire</th>\n",
       "    </tr>\n",
       "  </thead>\n",
       "  <tbody>\n",
       "    <tr>\n",
       "      <th>0</th>\n",
       "      <td>SS</td>\n",
       "      <td>WA-212</td>\n",
       "      <td>25</td>\n",
       "      <td>CASH</td>\n",
       "      <td>2016-01-01 00:06:20</td>\n",
       "      <td>2016-01-01 00:06:20</td>\n",
       "    </tr>\n",
       "    <tr>\n",
       "      <th>1</th>\n",
       "      <td>MS</td>\n",
       "      <td>4-300W</td>\n",
       "      <td>25</td>\n",
       "      <td>CASH</td>\n",
       "      <td>2016-01-01 00:21:36</td>\n",
       "      <td>2016-01-01 00:21:36</td>\n",
       "    </tr>\n",
       "    <tr>\n",
       "      <th>2</th>\n",
       "      <td>SS</td>\n",
       "      <td>9-502</td>\n",
       "      <td>5</td>\n",
       "      <td>CASH</td>\n",
       "      <td>2016-01-01 00:46:57</td>\n",
       "      <td>2016-01-01 00:46:57</td>\n",
       "    </tr>\n",
       "    <tr>\n",
       "      <th>3</th>\n",
       "      <td>SS</td>\n",
       "      <td>9-502</td>\n",
       "      <td>30</td>\n",
       "      <td>CASH</td>\n",
       "      <td>2016-01-01 00:47:09</td>\n",
       "      <td>2016-01-01 00:47:09</td>\n",
       "    </tr>\n",
       "    <tr>\n",
       "      <th>4</th>\n",
       "      <td>SS</td>\n",
       "      <td>10-3819</td>\n",
       "      <td>125</td>\n",
       "      <td>CASH</td>\n",
       "      <td>2016-01-01 00:56:43</td>\n",
       "      <td>2016-01-01 00:56:43</td>\n",
       "    </tr>\n",
       "  </tbody>\n",
       "</table>\n",
       "</div>"
      ],
      "text/plain": [
       "  meter_type  pole_id  trans_amt pay_method         trans_start  \\\n",
       "0         SS   WA-212         25       CASH 2016-01-01 00:06:20   \n",
       "1         MS   4-300W         25       CASH 2016-01-01 00:21:36   \n",
       "2         SS    9-502          5       CASH 2016-01-01 00:46:57   \n",
       "3         SS    9-502         30       CASH 2016-01-01 00:47:09   \n",
       "4         SS  10-3819        125       CASH 2016-01-01 00:56:43   \n",
       "\n",
       "         meter_expire  \n",
       "0 2016-01-01 00:06:20  \n",
       "1 2016-01-01 00:21:36  \n",
       "2 2016-01-01 00:46:57  \n",
       "3 2016-01-01 00:47:09  \n",
       "4 2016-01-01 00:56:43  "
      ]
     },
     "execution_count": 28,
     "metadata": {},
     "output_type": "execute_result"
    }
   ],
   "source": [
    "portal_up = portal_up.sort_values(by='trans_start')\n",
    "portal_up.head()"
   ]
  },
  {
   "cell_type": "code",
   "execution_count": 29,
   "metadata": {
    "collapsed": false
   },
   "outputs": [],
   "source": [
    "portal_up.to_csv(path_prefix + 'treas_parking_payments_2016_datasd.csv', index=False, encoding='utf-8', doublequote=True, date_format=\"%Y-%m-%d %H:%M:%S\")"
   ]
  }
 ],
 "metadata": {
  "kernelspec": {
   "display_name": "Python 2",
   "language": "python",
   "name": "python2"
  },
  "language_info": {
   "codemirror_mode": {
    "name": "ipython",
    "version": 2
   },
   "file_extension": ".py",
   "mimetype": "text/x-python",
   "name": "python",
   "nbconvert_exporter": "python",
   "pygments_lexer": "ipython2",
   "version": "2.7.9"
  }
 },
 "nbformat": 4,
 "nbformat_minor": 1
}
