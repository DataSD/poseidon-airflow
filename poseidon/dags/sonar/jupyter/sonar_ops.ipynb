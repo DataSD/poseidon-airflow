{
 "cells": [
  {
   "cell_type": "code",
   "execution_count": 1,
   "metadata": {},
   "outputs": [],
   "source": [
    "import pandas as pd\n",
    "from datetime import datetime, timedelta\n",
    "import json\n",
    "\n",
    "days_7 = datetime.now() - timedelta(days=7)\n",
    "days_30 = datetime.now() - timedelta(days=30)\n",
    "#seven_days = seven_days.strftime(\"%Y-%m%d\")\n"
   ]
  },
  {
   "cell_type": "code",
   "execution_count": null,
   "metadata": {},
   "outputs": [],
   "source": [
    "gid = pd.read_csv('/data/prod/get_it_done_311_requests_datasd.csv')"
   ]
  },
  {
   "cell_type": "code",
   "execution_count": null,
   "metadata": {},
   "outputs": [],
   "source": [
    "gid.dtypes\n",
    "fields = ['service_request_id', 'requested_datetime', 'closed_date', 'source',\n",
    "     'service_name', 'status_description', 'lat', 'long']\n",
    "gid = gid[fields]\n",
    "gid.head(2)"
   ]
  },
  {
   "cell_type": "code",
   "execution_count": null,
   "metadata": {},
   "outputs": [],
   "source": [
    "gid[['service_request_id', 'status_description']].groupby('status_description').count()"
   ]
  },
  {
   "cell_type": "code",
   "execution_count": null,
   "metadata": {},
   "outputs": [],
   "source": [
    "mask = (gid.service_name == 'Pothole') & \\\n",
    "       (gid.status_description == 'Closed')\n",
    "gid_ph_closed = gid[mask]\n",
    "gid_ph_closed = gid_ph_closed.copy()"
   ]
  },
  {
   "cell_type": "code",
   "execution_count": null,
   "metadata": {},
   "outputs": [],
   "source": [
    "gid_ph_closed['requested_datetime'] = pd.to_datetime(gid_ph_closed['requested_datetime'])\n",
    "gid_ph_closed['closed_date'] = pd.to_datetime(gid_ph_closed['closed_date'])\n",
    "gid_ph_closed.shape"
   ]
  },
  {
   "cell_type": "code",
   "execution_count": null,
   "metadata": {},
   "outputs": [],
   "source": [
    "# Only past 7 days\n",
    "potholes_closed = gid_ph_closed[gid_ph_closed['requested_datetime'] >= days_30].shape[0]"
   ]
  },
  {
   "cell_type": "code",
   "execution_count": null,
   "metadata": {},
   "outputs": [],
   "source": [
    "df = pd.read_csv('/data/prod/sd_paving_imcat_datasd.csv')\n",
    "df.head(2)"
   ]
  },
  {
   "cell_type": "code",
   "execution_count": null,
   "metadata": {},
   "outputs": [],
   "source": [
    "df[['PVE_ID', 'STATUS']].groupby('STATUS').count()"
   ]
  },
  {
   "cell_type": "code",
   "execution_count": null,
   "metadata": {},
   "outputs": [],
   "source": [
    "# Multiple Length by 2x when street is over 50 feet wide\n",
    "df.loc[df['WIDTH'] > 50, \"LENGTH\"] = (df.loc[df['WIDTH'] > 50, \"LENGTH\"] * 2)\n",
    "df.head(2)"
   ]
  },
  {
   "cell_type": "code",
   "execution_count": null,
   "metadata": {},
   "outputs": [],
   "source": [
    "# Convert to miles\n",
    "df['LENGTH'] = df.LENGTH / 5280"
   ]
  },
  {
   "cell_type": "code",
   "execution_count": null,
   "metadata": {
    "collapsed": true
   },
   "outputs": [],
   "source": [
    "df[\"MORATORIUM\"] = pd.to_datetime(df[\"MORATORIUM\"])"
   ]
  },
  {
   "cell_type": "code",
   "execution_count": null,
   "metadata": {},
   "outputs": [],
   "source": [
    "mask = (df.STATUS == 'POST-CONSTRUCTION') & \\\n",
    "       (df.MORATORIUM >= days_7)\n",
    "df = df[mask]\n",
    "df"
   ]
  },
  {
   "cell_type": "code",
   "execution_count": null,
   "metadata": {},
   "outputs": [],
   "source": [
    "sums = df[[\"LENGTH\", \"TYPE\"]].groupby(\"TYPE\").sum()\n",
    "sums.reset_index(inplace=True)\n",
    "sums[\"LENGTH\"].sum()"
   ]
  },
  {
   "cell_type": "code",
   "execution_count": null,
   "metadata": {},
   "outputs": [],
   "source": [
    "overlay = sums.loc[sums[\"TYPE\"] == 'Overlay', \"LENGTH\"].reset_index()\n",
    "if len(overlay) == 0:\n",
    "    overlay = 0\n",
    "else: \n",
    "    overlay = str(round(overlay[\"LENGTH\"][0], 3))\n",
    "    \n",
    "overlay"
   ]
  },
  {
   "cell_type": "code",
   "execution_count": null,
   "metadata": {},
   "outputs": [],
   "source": [
    "slurry = sums.loc[sums[\"TYPE\"] == 'Slurry', \"LENGTH\"].reset_index()\n",
    "if len(slurry) == 0:\n",
    "    slurry = 0\n",
    "else: \n",
    "    slurry = str(round(slurry[\"LENGTH\"][0], 3))\n",
    "    \n",
    "slurry"
   ]
  },
  {
   "cell_type": "code",
   "execution_count": 42,
   "metadata": {},
   "outputs": [
    {
     "data": {
      "text/plain": [
       "'{\"metrics\": [{\"description\": \"Hi\", \"value\": \"10\"}]}'"
      ]
     },
     "execution_count": 42,
     "metadata": {},
     "output_type": "execute_result"
    }
   ],
   "source": [
    "import json\n",
    "metrics = []\n",
    "metrics.append({\n",
    "    'value': '10',\n",
    "    'description': 'Hi'\n",
    "})\n",
    "metrics = {'metrics': metrics}\n",
    "json.dumps(metrics)"
   ]
  },
  {
   "cell_type": "code",
   "execution_count": 43,
   "metadata": {},
   "outputs": [],
   "source": [
    "with open('./test.json', 'w') as outfile:\n",
    "    json.dump(metrics, outfile)"
   ]
  },
  {
   "cell_type": "code",
   "execution_count": 44,
   "metadata": {},
   "outputs": [],
   "source": [
    "with open('./test.json', 'r') as fp:\n",
    "    data = json.load(fp)"
   ]
  },
  {
   "cell_type": "code",
   "execution_count": 45,
   "metadata": {},
   "outputs": [
    {
     "data": {
      "text/plain": [
       "{u'metrics': [{u'description': u'Hi', u'value': u'10'}]}"
      ]
     },
     "execution_count": 45,
     "metadata": {},
     "output_type": "execute_result"
    }
   ],
   "source": [
    "data"
   ]
  },
  {
   "cell_type": "code",
   "execution_count": 46,
   "metadata": {},
   "outputs": [
    {
     "data": {
      "text/plain": [
       "[{u'description': u'Hi', u'value': u'10'}]"
      ]
     },
     "execution_count": 46,
     "metadata": {},
     "output_type": "execute_result"
    }
   ],
   "source": [
    "data['metrics']"
   ]
  },
  {
   "cell_type": "code",
   "execution_count": null,
   "metadata": {
    "collapsed": true
   },
   "outputs": [],
   "source": []
  }
 ],
 "metadata": {
  "kernelspec": {
   "display_name": "Python 3",
   "language": "python",
   "name": "python3"
  },
  "language_info": {
   "codemirror_mode": {
    "name": "ipython",
    "version": 3
   },
   "file_extension": ".py",
   "mimetype": "text/x-python",
   "name": "python",
   "nbconvert_exporter": "python",
   "pygments_lexer": "ipython3",
   "version": "3.6.4"
  },
  "toc": {
   "base_numbering": 1,
   "nav_menu": {},
   "number_sections": true,
   "sideBar": true,
   "skip_h1_title": false,
   "title_cell": "Table of Contents",
   "title_sidebar": "Contents",
   "toc_cell": false,
   "toc_position": {},
   "toc_section_display": true,
   "toc_window_display": false
  }
 },
 "nbformat": 4,
 "nbformat_minor": 2
}
