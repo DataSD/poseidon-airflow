{
 "cells": [
  {
   "cell_type": "code",
   "execution_count": 13,
   "metadata": {
    "collapsed": false
   },
   "outputs": [],
   "source": [
    "import cx_Oracle\n",
    "import pandas as pd"
   ]
  },
  {
   "cell_type": "code",
   "execution_count": 14,
   "metadata": {
    "collapsed": false
   },
   "outputs": [],
   "source": [
    "credentials = os.environ.get('CONN_ORACLETTCS')\n",
    "db = cx_Oracle.connect(credentials)\n",
    "cursor = db.cursor()\n",
    "fd = open('new_biz.sql', 'r')\n",
    "sql = fd.read()\n",
    "fd.close()\n",
    "df = pd.read_sql_query(sql,db)\n",
    "df.to_csv('/usr/local/airflow/poseidon/data/temp/ttcs/ttcs_last_q.csv',index=False,encoding='utf-8')\n",
    "fd = open('active_biz.sql', 'r')\n",
    "sql = fd.read()\n",
    "fd.close()\n",
    "df = pd.read_sql_query(sql,db)\n",
    "df.to_csv('/usr/local/airflow/poseidon/data/temp/ttcs/active.csv',index=False,encoding='utf-8')"
   ]
  },
  {
   "cell_type": "code",
   "execution_count": 15,
   "metadata": {
    "collapsed": false
   },
   "outputs": [],
   "source": [
    "last_quarter = pd.read_csv('/usr/local/airflow/poseidon/data/temp/ttcs/ttcs_last_q.csv')\n",
    "active = pd.read_csv('/usr/local/airflow/poseidon/data/temp/ttcs/active.csv')\n",
    "dfs = [last_quarter, active]\n",
    "names = ['last_quarter', 'active']\n",
    "for df, name in zip(dfs, names):\n",
    "    df.columns = [x.lower() for x in df.columns]\n",
    "    df = df.apply(lambda x: x.astype(str).str.lower())\n",
    "    df['account_key'] = df['account_key'].astype(int)\n",
    "    df['naics_code'] = df['naics_code'].astype(int)\n",
    "    df['expiration_dt'] = pd.to_datetime(df['expiration_dt'],errors='coerce').dt.date\n",
    "    df['creation_dt'] = pd.to_datetime(df['creation_dt'],errors='coerce').dt.date\n",
    "    df['bus_start_dt'] = pd.to_datetime(df['bus_start_dt'],errors='coerce').dt.date\n",
    "    df['state'] = df['state'].str.upper()\n",
    "    df = df.drop('num_employees',1) \n",
    "    export = '/usr/local/airflow/poseidon/data/prod/ttcs/{0}.csv'.format(name)\n",
    "    df.to_csv(export,index=False,encoding='utf-8')\n",
    "    "
   ]
  },
  {
   "cell_type": "code",
   "execution_count": null,
   "metadata": {
    "collapsed": true
   },
   "outputs": [],
   "source": []
  }
 ],
 "metadata": {
  "kernelspec": {
   "display_name": "Python 2",
   "language": "python",
   "name": "python2"
  },
  "language_info": {
   "codemirror_mode": {
    "name": "ipython",
    "version": 2
   },
   "file_extension": ".py",
   "mimetype": "text/x-python",
   "name": "python",
   "nbconvert_exporter": "python",
   "pygments_lexer": "ipython2",
   "version": "2.7.9"
  }
 },
 "nbformat": 4,
 "nbformat_minor": 1
}
