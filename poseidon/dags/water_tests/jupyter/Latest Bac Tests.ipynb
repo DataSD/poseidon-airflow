{
 "cells": [
  {
   "cell_type": "code",
   "execution_count": 1,
   "metadata": {
    "collapsed": true
   },
   "outputs": [],
   "source": [
    "import pandas as pd"
   ]
  },
  {
   "cell_type": "code",
   "execution_count": 41,
   "metadata": {
    "collapsed": false
   },
   "outputs": [],
   "source": [
    "tests = pd.read_csv(\"/data/prod/indicator_bacteria_tests_datasd.csv\")\n",
    "tests.SAMPLE_DATE = pd.to_datetime(tests.SAMPLE_DATE, infer_datetime_format=True)\n",
    "\n",
    "df = tests[tests.SAMPLE_DATE == max(tests.SAMPLE_DATE)]\n",
    "\n",
    "df = df.sort_values('SOURCE')\n",
    "\n",
    "df.to_csv('/data/temp/t1.csv', index=False, encoding='utf-8', doublequote=True, date_format=\"%Y-%m-%d\")"
   ]
  },
  {
   "cell_type": "code",
   "execution_count": null,
   "metadata": {
    "collapsed": true
   },
   "outputs": [],
   "source": [
    "url=\"http://data.sandiego.gov/sites/default/files/indicator_bacteria_tests_datasd_2.csv\"\n",
    "out_path = \"~/Code/ETL/prod_data/water_testing/latest_indicator_bac_tests_datasd.csv\"\n",
    "s = requests.get(url).content\n",
    "bac = pd.read_csv(io.StringIO(s.decode('utf-8')))\n",
    "latest_obs = bac.groupby('source');\n",
    "latest_obs = latest_obs.apply(lambda g: g[g['sample_date'] == g['sample_date'].max()])\n",
    "latest_obs = latest_obs.sort_values('source')\n",
    "latest_obs.to_csv(out_path, index=False, date_format=\"%Y-%m-%d\")"
   ]
  }
 ],
 "metadata": {
  "kernelspec": {
   "display_name": "Python 2",
   "language": "python",
   "name": "python2"
  },
  "language_info": {
   "codemirror_mode": {
    "name": "ipython",
    "version": 2
   },
   "file_extension": ".py",
   "mimetype": "text/x-python",
   "name": "python",
   "nbconvert_exporter": "python",
   "pygments_lexer": "ipython2",
   "version": "2.7.9"
  }
 },
 "nbformat": 4,
 "nbformat_minor": 1
}
