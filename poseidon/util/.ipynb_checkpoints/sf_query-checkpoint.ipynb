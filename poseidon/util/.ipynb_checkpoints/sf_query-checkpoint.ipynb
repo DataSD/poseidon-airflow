{
 "cells": [
  {
   "cell_type": "code",
   "execution_count": 3,
   "metadata": {
    "collapsed": false,
    "deletable": true,
    "editable": true
   },
   "outputs": [],
   "source": [
    "import os\n",
    "import pandas as pd\n",
    "#from poseidon.util import general\n",
    "from sf_client import Salesforce\n",
    "\n",
    "pd.options.display.max_columns = 999"
   ]
  },
  {
   "cell_type": "code",
   "execution_count": null,
   "metadata": {
    "collapsed": false,
    "deletable": true,
    "editable": true
   },
   "outputs": [
    {
     "name": "stdout",
     "output_type": "stream",
     "text": [
      "[2016-12-28 22:58:51,234] {connectionpool.py:807} INFO - Starting new HTTPS connection (1): sdgov.my.salesforce.com\n",
      "[2016-12-28 22:58:52,265] {connectionpool.py:807} INFO - Starting new HTTPS connection (1): sdgov.my.salesforce.com\n"
     ]
    }
   ],
   "source": [
    "username = \"maksimp@sandiego.gov\"\n",
    "password = \"KrakatoaIsTheBestCoffeeShopEver2\"\n",
    "security_token = \"qn4CD0BK85EN8ZCXig2npOmN\"\n",
    "report_id = \"00Ot0000000mCVoEAM\"\n",
    "client_id = 'DataSD_Poseidon'\n",
    "sf_version = '29.0'\n",
    "domain = 'sdgov.my'\n",
    "\n",
    "sf = Salesforce(username, password, security_token)\n",
    "\n",
    "df = sf.get_report_df(report_id)\n",
    "\n",
    "\n",
    "df_bk = df\n",
    "df.head()"
   ]
  }
 ],
 "metadata": {
  "kernelspec": {
   "display_name": "Python 2",
   "language": "python",
   "name": "python2"
  },
  "language_info": {
   "codemirror_mode": {
    "name": "ipython",
    "version": 2
   },
   "file_extension": ".py",
   "mimetype": "text/x-python",
   "name": "python",
   "nbconvert_exporter": "python",
   "pygments_lexer": "ipython2",
   "version": "2.7.9"
  }
 },
 "nbformat": 4,
 "nbformat_minor": 2
}
